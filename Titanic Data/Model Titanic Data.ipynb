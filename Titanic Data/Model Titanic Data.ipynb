{
 "cells": [
  {
   "cell_type": "code",
   "execution_count": 0,
   "metadata": {
    "application/vnd.databricks.v1+cell": {
     "inputWidgets": {},
     "nuid": "805e836a-877b-4c8f-8ce3-960576792829",
     "showTitle": false,
     "title": ""
    }
   },
   "outputs": [
    {
     "data": {
      "text/html": [
       "<style scoped>\n",
       "  .ansiout {\n",
       "    display: block;\n",
       "    unicode-bidi: embed;\n",
       "    white-space: pre-wrap;\n",
       "    word-wrap: break-word;\n",
       "    word-break: break-all;\n",
       "    font-family: \"Source Code Pro\", \"Menlo\", monospace;;\n",
       "    font-size: 13px;\n",
       "    color: #555;\n",
       "    margin-left: 4px;\n",
       "    line-height: 19px;\n",
       "  }\n",
       "</style>\n",
       "<div class=\"ansiout\"></div>"
      ]
     },
     "metadata": {
      "application/vnd.databricks.v1+output": {
       "addedWidgets": {},
       "arguments": {},
       "data": "<div class=\"ansiout\"></div>",
       "datasetInfos": [],
       "metadata": {},
       "removedWidgets": [],
       "type": "html"
      }
     },
     "output_type": "display_data"
    }
   ],
   "source": [
    "# File location and type\n",
    "file_location = \"/FileStore/tables/train.csv\"\n",
    "file_type = \"csv\""
   ]
  },
  {
   "cell_type": "markdown",
   "metadata": {
    "application/vnd.databricks.v1+cell": {
     "inputWidgets": {},
     "nuid": "1e5b1e80-c6e9-4b2a-b08b-b71e6e78f534",
     "showTitle": false,
     "title": ""
    }
   },
   "source": [
    "# Import Module"
   ]
  },
  {
   "cell_type": "code",
   "execution_count": 0,
   "metadata": {
    "application/vnd.databricks.v1+cell": {
     "inputWidgets": {},
     "nuid": "8f86a978-e893-457e-8a9f-c0ac5ab0c035",
     "showTitle": false,
     "title": ""
    }
   },
   "outputs": [
    {
     "data": {
      "text/html": [
       "<style scoped>\n",
       "  .ansiout {\n",
       "    display: block;\n",
       "    unicode-bidi: embed;\n",
       "    white-space: pre-wrap;\n",
       "    word-wrap: break-word;\n",
       "    word-break: break-all;\n",
       "    font-family: \"Source Code Pro\", \"Menlo\", monospace;;\n",
       "    font-size: 13px;\n",
       "    color: #555;\n",
       "    margin-left: 4px;\n",
       "    line-height: 19px;\n",
       "  }\n",
       "</style>\n",
       "<div class=\"ansiout\"></div>"
      ]
     },
     "metadata": {
      "application/vnd.databricks.v1+output": {
       "addedWidgets": {},
       "arguments": {},
       "data": "<div class=\"ansiout\"></div>",
       "datasetInfos": [],
       "metadata": {},
       "removedWidgets": [],
       "type": "html"
      }
     },
     "output_type": "display_data"
    }
   ],
   "source": [
    "import pandas as pd\n",
    "import matplotlib.pyplot as plt\n",
    "import seaborn as sns\n",
    "import matplotlib as mpl\n",
    "mpl.rcParams[\"figure.facecolor\"]='white'\n",
    "\n",
    "## Import Untuk Modul PySpark\n",
    "from pyspark.sql.functions import *\n",
    "from pyspark.sql.functions import expr\n",
    "import pyspark.sql.functions as F\n",
    "from pyspark.sql.functions import isnan, when, count, col                    ## Null atau NaN\n",
    "from pyspark.ml.feature import  StringIndexer                                ## Import untuk Label Encoding \n",
    "from pyspark.ml.feature import VectorAssembler                               ## untuk assembly beberapa nilai\n",
    "from pyspark.ml.stat import Correlation                                      ## pearson correlation\n",
    "\n",
    "# Label Encoding\n",
    "from pyspark.ml  import Pipeline   \n",
    "\n",
    "# Algoritma\n",
    "from pyspark.ml.classification import LogisticRegression\n",
    "from pyspark.ml.classification import RandomForestClassifier\n",
    "from pyspark.ml.classification import GBTClassifier\n",
    "\n",
    "# Tuning\n",
    "from pyspark.ml.tuning import ParamGridBuilder, TrainValidationSplit, CrossValidator\n",
    "\n",
    "# Evaluation of Model\n",
    "from pyspark.ml.evaluation import BinaryClassificationEvaluator\n",
    "from pyspark.mllib.evaluation import BinaryClassificationMetrics as metric\n",
    "from pyspark.mllib.evaluation import MulticlassMetrics\n",
    "from sklearn.metrics import roc_curve, auc\n",
    "\n",
    "## Evaluator for Multiclass Classification\n",
    "from pyspark.ml.evaluation import MulticlassClassificationEvaluator\n",
    "from pyspark import SparkContext\n"
   ]
  },
  {
   "cell_type": "markdown",
   "metadata": {
    "application/vnd.databricks.v1+cell": {
     "inputWidgets": {},
     "nuid": "7f39b8f7-b190-424a-9900-91da2de774d8",
     "showTitle": false,
     "title": ""
    }
   },
   "source": [
    "# Import Data"
   ]
  },
  {
   "cell_type": "code",
   "execution_count": 0,
   "metadata": {
    "application/vnd.databricks.v1+cell": {
     "inputWidgets": {},
     "nuid": "8c20a8c4-3653-4999-a0c6-365adea9b745",
     "showTitle": false,
     "title": ""
    }
   },
   "outputs": [
    {
     "data": {
      "text/html": [
       "<style scoped>\n",
       "  .ansiout {\n",
       "    display: block;\n",
       "    unicode-bidi: embed;\n",
       "    white-space: pre-wrap;\n",
       "    word-wrap: break-word;\n",
       "    word-break: break-all;\n",
       "    font-family: \"Source Code Pro\", \"Menlo\", monospace;;\n",
       "    font-size: 13px;\n",
       "    color: #555;\n",
       "    margin-left: 4px;\n",
       "    line-height: 19px;\n",
       "  }\n",
       "</style>\n",
       "<div class=\"ansiout\">+-----------+--------+------+--------------------+------+----+-----+-----+----------------+-------+-----+--------+\n",
       "PassengerId|Survived|Pclass|                Name|   Sex| Age|SibSp|Parch|          Ticket|   Fare|Cabin|Embarked|\n",
       "+-----------+--------+------+--------------------+------+----+-----+-----+----------------+-------+-----+--------+\n",
       "          1|       0|     3|Braund, Mr. Owen ...|  male|22.0|    1|    0|       A/5 21171|   7.25| null|       S|\n",
       "          2|       1|     1|Cumings, Mrs. Joh...|female|38.0|    1|    0|        PC 17599|71.2833|  C85|       C|\n",
       "          3|       1|     3|Heikkinen, Miss. ...|female|26.0|    0|    0|STON/O2. 3101282|  7.925| null|       S|\n",
       "          4|       1|     1|Futrelle, Mrs. Ja...|female|35.0|    1|    0|          113803|   53.1| C123|       S|\n",
       "          5|       0|     3|Allen, Mr. Willia...|  male|35.0|    0|    0|          373450|   8.05| null|       S|\n",
       "          6|       0|     3|    Moran, Mr. James|  male|null|    0|    0|          330877| 8.4583| null|       Q|\n",
       "          7|       0|     1|McCarthy, Mr. Tim...|  male|54.0|    0|    0|           17463|51.8625|  E46|       S|\n",
       "          8|       0|     3|Palsson, Master. ...|  male| 2.0|    3|    1|          349909| 21.075| null|       S|\n",
       "          9|       1|     3|Johnson, Mrs. Osc...|female|27.0|    0|    2|          347742|11.1333| null|       S|\n",
       "         10|       1|     2|Nasser, Mrs. Nich...|female|14.0|    1|    0|          237736|30.0708| null|       C|\n",
       "         11|       1|     3|Sandstrom, Miss. ...|female| 4.0|    1|    1|         PP 9549|   16.7|   G6|       S|\n",
       "         12|       1|     1|Bonnell, Miss. El...|female|58.0|    0|    0|          113783|  26.55| C103|       S|\n",
       "         13|       0|     3|Saundercock, Mr. ...|  male|20.0|    0|    0|       A/5. 2151|   8.05| null|       S|\n",
       "         14|       0|     3|Andersson, Mr. An...|  male|39.0|    1|    5|          347082| 31.275| null|       S|\n",
       "         15|       0|     3|Vestrom, Miss. Hu...|female|14.0|    0|    0|          350406| 7.8542| null|       S|\n",
       "         16|       1|     2|Hewlett, Mrs. (Ma...|female|55.0|    0|    0|          248706|   16.0| null|       S|\n",
       "         17|       0|     3|Rice, Master. Eugene|  male| 2.0|    4|    1|          382652| 29.125| null|       Q|\n",
       "         18|       1|     2|Williams, Mr. Cha...|  male|null|    0|    0|          244373|   13.0| null|       S|\n",
       "         19|       0|     3|Vander Planke, Mr...|female|31.0|    1|    0|          345763|   18.0| null|       S|\n",
       "         20|       1|     3|Masselmani, Mrs. ...|female|null|    0|    0|            2649|  7.225| null|       C|\n",
       "+-----------+--------+------+--------------------+------+----+-----+-----+----------------+-------+-----+--------+\n",
       "only showing top 20 rows\n",
       "\n",
       "</div>"
      ]
     },
     "metadata": {
      "application/vnd.databricks.v1+output": {
       "addedWidgets": {},
       "arguments": {},
       "data": "<div class=\"ansiout\">+-----------+--------+------+--------------------+------+----+-----+-----+----------------+-------+-----+--------+\n|PassengerId|Survived|Pclass|                Name|   Sex| Age|SibSp|Parch|          Ticket|   Fare|Cabin|Embarked|\n+-----------+--------+------+--------------------+------+----+-----+-----+----------------+-------+-----+--------+\n|          1|       0|     3|Braund, Mr. Owen ...|  male|22.0|    1|    0|       A/5 21171|   7.25| null|       S|\n|          2|       1|     1|Cumings, Mrs. Joh...|female|38.0|    1|    0|        PC 17599|71.2833|  C85|       C|\n|          3|       1|     3|Heikkinen, Miss. ...|female|26.0|    0|    0|STON/O2. 3101282|  7.925| null|       S|\n|          4|       1|     1|Futrelle, Mrs. Ja...|female|35.0|    1|    0|          113803|   53.1| C123|       S|\n|          5|       0|     3|Allen, Mr. Willia...|  male|35.0|    0|    0|          373450|   8.05| null|       S|\n|          6|       0|     3|    Moran, Mr. James|  male|null|    0|    0|          330877| 8.4583| null|       Q|\n|          7|       0|     1|McCarthy, Mr. Tim...|  male|54.0|    0|    0|           17463|51.8625|  E46|       S|\n|          8|       0|     3|Palsson, Master. ...|  male| 2.0|    3|    1|          349909| 21.075| null|       S|\n|          9|       1|     3|Johnson, Mrs. Osc...|female|27.0|    0|    2|          347742|11.1333| null|       S|\n|         10|       1|     2|Nasser, Mrs. Nich...|female|14.0|    1|    0|          237736|30.0708| null|       C|\n|         11|       1|     3|Sandstrom, Miss. ...|female| 4.0|    1|    1|         PP 9549|   16.7|   G6|       S|\n|         12|       1|     1|Bonnell, Miss. El...|female|58.0|    0|    0|          113783|  26.55| C103|       S|\n|         13|       0|     3|Saundercock, Mr. ...|  male|20.0|    0|    0|       A/5. 2151|   8.05| null|       S|\n|         14|       0|     3|Andersson, Mr. An...|  male|39.0|    1|    5|          347082| 31.275| null|       S|\n|         15|       0|     3|Vestrom, Miss. Hu...|female|14.0|    0|    0|          350406| 7.8542| null|       S|\n|         16|       1|     2|Hewlett, Mrs. (Ma...|female|55.0|    0|    0|          248706|   16.0| null|       S|\n|         17|       0|     3|Rice, Master. Eugene|  male| 2.0|    4|    1|          382652| 29.125| null|       Q|\n|         18|       1|     2|Williams, Mr. Cha...|  male|null|    0|    0|          244373|   13.0| null|       S|\n|         19|       0|     3|Vander Planke, Mr...|female|31.0|    1|    0|          345763|   18.0| null|       S|\n|         20|       1|     3|Masselmani, Mrs. ...|female|null|    0|    0|            2649|  7.225| null|       C|\n+-----------+--------+------+--------------------+------+----+-----+-----+----------------+-------+-----+--------+\nonly showing top 20 rows\n\n</div>",
       "datasetInfos": [],
       "metadata": {},
       "removedWidgets": [],
       "type": "html"
      }
     },
     "output_type": "display_data"
    }
   ],
   "source": [
    "df= spark.read.csv(file_location, header=True, inferSchema=True)          ## gunakan option untuk read column name\n",
    "df.show()"
   ]
  },
  {
   "cell_type": "code",
   "execution_count": 0,
   "metadata": {
    "application/vnd.databricks.v1+cell": {
     "inputWidgets": {},
     "nuid": "bb2a19a7-26fd-4ded-a4c7-ab95132592b6",
     "showTitle": false,
     "title": ""
    }
   },
   "outputs": [
    {
     "data": {
      "text/html": [
       "<style scoped>\n",
       "  .ansiout {\n",
       "    display: block;\n",
       "    unicode-bidi: embed;\n",
       "    white-space: pre-wrap;\n",
       "    word-wrap: break-word;\n",
       "    word-break: break-all;\n",
       "    font-family: \"Source Code Pro\", \"Menlo\", monospace;;\n",
       "    font-size: 13px;\n",
       "    color: #555;\n",
       "    margin-left: 4px;\n",
       "    line-height: 19px;\n",
       "  }\n",
       "</style>\n",
       "<div class=\"ansiout\">root\n",
       "-- PassengerId: integer (nullable = true)\n",
       "-- Survived: integer (nullable = true)\n",
       "-- Pclass: integer (nullable = true)\n",
       "-- Name: string (nullable = true)\n",
       "-- Sex: string (nullable = true)\n",
       "-- Age: double (nullable = true)\n",
       "-- SibSp: integer (nullable = true)\n",
       "-- Parch: integer (nullable = true)\n",
       "-- Ticket: string (nullable = true)\n",
       "-- Fare: double (nullable = true)\n",
       "-- Cabin: string (nullable = true)\n",
       "-- Embarked: string (nullable = true)\n",
       "\n",
       "</div>"
      ]
     },
     "metadata": {
      "application/vnd.databricks.v1+output": {
       "addedWidgets": {},
       "arguments": {},
       "data": "<div class=\"ansiout\">root\n |-- PassengerId: integer (nullable = true)\n |-- Survived: integer (nullable = true)\n |-- Pclass: integer (nullable = true)\n |-- Name: string (nullable = true)\n |-- Sex: string (nullable = true)\n |-- Age: double (nullable = true)\n |-- SibSp: integer (nullable = true)\n |-- Parch: integer (nullable = true)\n |-- Ticket: string (nullable = true)\n |-- Fare: double (nullable = true)\n |-- Cabin: string (nullable = true)\n |-- Embarked: string (nullable = true)\n\n</div>",
       "datasetInfos": [],
       "metadata": {},
       "removedWidgets": [],
       "type": "html"
      }
     },
     "output_type": "display_data"
    }
   ],
   "source": [
    "df.printSchema()"
   ]
  },
  {
   "cell_type": "markdown",
   "metadata": {
    "application/vnd.databricks.v1+cell": {
     "inputWidgets": {},
     "nuid": "e54cde52-96ff-4abe-9d20-23bb7ac5e132",
     "showTitle": false,
     "title": ""
    }
   },
   "source": [
    "# EDA"
   ]
  },
  {
   "cell_type": "markdown",
   "metadata": {
    "application/vnd.databricks.v1+cell": {
     "inputWidgets": {},
     "nuid": "f88a06f9-069b-4467-9a48-08016b3ca1a6",
     "showTitle": false,
     "title": ""
    }
   },
   "source": [
    "## Data Cleansing"
   ]
  },
  {
   "cell_type": "markdown",
   "metadata": {
    "application/vnd.databricks.v1+cell": {
     "inputWidgets": {},
     "nuid": "21ef0c8c-5db3-4f28-9ca6-4dab8b61203a",
     "showTitle": false,
     "title": ""
    }
   },
   "source": [
    "Drop data yang tidak digunakan"
   ]
  },
  {
   "cell_type": "code",
   "execution_count": 0,
   "metadata": {
    "application/vnd.databricks.v1+cell": {
     "inputWidgets": {},
     "nuid": "f2d45d1c-27d8-4584-ae8e-15463095f4aa",
     "showTitle": false,
     "title": ""
    }
   },
   "outputs": [
    {
     "data": {
      "text/html": [
       "<style scoped>\n",
       "  .ansiout {\n",
       "    display: block;\n",
       "    unicode-bidi: embed;\n",
       "    white-space: pre-wrap;\n",
       "    word-wrap: break-word;\n",
       "    word-break: break-all;\n",
       "    font-family: \"Source Code Pro\", \"Menlo\", monospace;;\n",
       "    font-size: 13px;\n",
       "    color: #555;\n",
       "    margin-left: 4px;\n",
       "    line-height: 19px;\n",
       "  }\n",
       "</style>\n",
       "<div class=\"ansiout\">+-----------+--------+------+----+---+---+-----+-----+------+----+-----+--------+\n",
       "PassengerId|Survived|Pclass|Name|Sex|Age|SibSp|Parch|Ticket|Fare|Cabin|Embarked|\n",
       "+-----------+--------+------+----+---+---+-----+-----+------+----+-----+--------+\n",
       "        891|       2|     3| 891|  2| 88|    7|    7|   681| 248|  147|       3|\n",
       "+-----------+--------+------+----+---+---+-----+-----+------+----+-----+--------+\n",
       "\n",
       "</div>"
      ]
     },
     "metadata": {
      "application/vnd.databricks.v1+output": {
       "addedWidgets": {},
       "arguments": {},
       "data": "<div class=\"ansiout\">+-----------+--------+------+----+---+---+-----+-----+------+----+-----+--------+\n|PassengerId|Survived|Pclass|Name|Sex|Age|SibSp|Parch|Ticket|Fare|Cabin|Embarked|\n+-----------+--------+------+----+---+---+-----+-----+------+----+-----+--------+\n|        891|       2|     3| 891|  2| 88|    7|    7|   681| 248|  147|       3|\n+-----------+--------+------+----+---+---+-----+-----+------+----+-----+--------+\n\n</div>",
       "datasetInfos": [],
       "metadata": {},
       "removedWidgets": [],
       "type": "html"
      }
     },
     "output_type": "display_data"
    }
   ],
   "source": [
    "# Cek Unique Value\n",
    "unique_value_each_columns = [F.countDistinct(c).alias(c) for c in df.columns]\n",
    "countdf =  df.select(*unique_value_each_columns)\n",
    "countdf.show()"
   ]
  },
  {
   "cell_type": "code",
   "execution_count": 0,
   "metadata": {
    "application/vnd.databricks.v1+cell": {
     "inputWidgets": {},
     "nuid": "8bea0d61-2370-4e48-9592-54905de44c91",
     "showTitle": false,
     "title": ""
    }
   },
   "outputs": [
    {
     "data": {
      "text/html": [
       "<style scoped>\n",
       "  .ansiout {\n",
       "    display: block;\n",
       "    unicode-bidi: embed;\n",
       "    white-space: pre-wrap;\n",
       "    word-wrap: break-word;\n",
       "    word-break: break-all;\n",
       "    font-family: \"Source Code Pro\", \"Menlo\", monospace;;\n",
       "    font-size: 13px;\n",
       "    color: #555;\n",
       "    margin-left: 4px;\n",
       "    line-height: 19px;\n",
       "  }\n",
       "</style>\n",
       "<div class=\"ansiout\">+--------+------+--------------------+------+----+-----+-----+-------+-----+--------+\n",
       "Survived|Pclass|                Name|   Sex| Age|SibSp|Parch|   Fare|Cabin|Embarked|\n",
       "+--------+------+--------------------+------+----+-----+-----+-------+-----+--------+\n",
       "       0|     3|Braund, Mr. Owen ...|  male|22.0|    1|    0|   7.25| null|       S|\n",
       "       1|     1|Cumings, Mrs. Joh...|female|38.0|    1|    0|71.2833|  C85|       C|\n",
       "       1|     3|Heikkinen, Miss. ...|female|26.0|    0|    0|  7.925| null|       S|\n",
       "       1|     1|Futrelle, Mrs. Ja...|female|35.0|    1|    0|   53.1| C123|       S|\n",
       "       0|     3|Allen, Mr. Willia...|  male|35.0|    0|    0|   8.05| null|       S|\n",
       "       0|     3|    Moran, Mr. James|  male|null|    0|    0| 8.4583| null|       Q|\n",
       "       0|     1|McCarthy, Mr. Tim...|  male|54.0|    0|    0|51.8625|  E46|       S|\n",
       "       0|     3|Palsson, Master. ...|  male| 2.0|    3|    1| 21.075| null|       S|\n",
       "       1|     3|Johnson, Mrs. Osc...|female|27.0|    0|    2|11.1333| null|       S|\n",
       "       1|     2|Nasser, Mrs. Nich...|female|14.0|    1|    0|30.0708| null|       C|\n",
       "       1|     3|Sandstrom, Miss. ...|female| 4.0|    1|    1|   16.7|   G6|       S|\n",
       "       1|     1|Bonnell, Miss. El...|female|58.0|    0|    0|  26.55| C103|       S|\n",
       "       0|     3|Saundercock, Mr. ...|  male|20.0|    0|    0|   8.05| null|       S|\n",
       "       0|     3|Andersson, Mr. An...|  male|39.0|    1|    5| 31.275| null|       S|\n",
       "       0|     3|Vestrom, Miss. Hu...|female|14.0|    0|    0| 7.8542| null|       S|\n",
       "       1|     2|Hewlett, Mrs. (Ma...|female|55.0|    0|    0|   16.0| null|       S|\n",
       "       0|     3|Rice, Master. Eugene|  male| 2.0|    4|    1| 29.125| null|       Q|\n",
       "       1|     2|Williams, Mr. Cha...|  male|null|    0|    0|   13.0| null|       S|\n",
       "       0|     3|Vander Planke, Mr...|female|31.0|    1|    0|   18.0| null|       S|\n",
       "       1|     3|Masselmani, Mrs. ...|female|null|    0|    0|  7.225| null|       C|\n",
       "+--------+------+--------------------+------+----+-----+-----+-------+-----+--------+\n",
       "only showing top 20 rows\n",
       "\n",
       "</div>"
      ]
     },
     "metadata": {
      "application/vnd.databricks.v1+output": {
       "addedWidgets": {},
       "arguments": {},
       "data": "<div class=\"ansiout\">+--------+------+--------------------+------+----+-----+-----+-------+-----+--------+\n|Survived|Pclass|                Name|   Sex| Age|SibSp|Parch|   Fare|Cabin|Embarked|\n+--------+------+--------------------+------+----+-----+-----+-------+-----+--------+\n|       0|     3|Braund, Mr. Owen ...|  male|22.0|    1|    0|   7.25| null|       S|\n|       1|     1|Cumings, Mrs. Joh...|female|38.0|    1|    0|71.2833|  C85|       C|\n|       1|     3|Heikkinen, Miss. ...|female|26.0|    0|    0|  7.925| null|       S|\n|       1|     1|Futrelle, Mrs. Ja...|female|35.0|    1|    0|   53.1| C123|       S|\n|       0|     3|Allen, Mr. Willia...|  male|35.0|    0|    0|   8.05| null|       S|\n|       0|     3|    Moran, Mr. James|  male|null|    0|    0| 8.4583| null|       Q|\n|       0|     1|McCarthy, Mr. Tim...|  male|54.0|    0|    0|51.8625|  E46|       S|\n|       0|     3|Palsson, Master. ...|  male| 2.0|    3|    1| 21.075| null|       S|\n|       1|     3|Johnson, Mrs. Osc...|female|27.0|    0|    2|11.1333| null|       S|\n|       1|     2|Nasser, Mrs. Nich...|female|14.0|    1|    0|30.0708| null|       C|\n|       1|     3|Sandstrom, Miss. ...|female| 4.0|    1|    1|   16.7|   G6|       S|\n|       1|     1|Bonnell, Miss. El...|female|58.0|    0|    0|  26.55| C103|       S|\n|       0|     3|Saundercock, Mr. ...|  male|20.0|    0|    0|   8.05| null|       S|\n|       0|     3|Andersson, Mr. An...|  male|39.0|    1|    5| 31.275| null|       S|\n|       0|     3|Vestrom, Miss. Hu...|female|14.0|    0|    0| 7.8542| null|       S|\n|       1|     2|Hewlett, Mrs. (Ma...|female|55.0|    0|    0|   16.0| null|       S|\n|       0|     3|Rice, Master. Eugene|  male| 2.0|    4|    1| 29.125| null|       Q|\n|       1|     2|Williams, Mr. Cha...|  male|null|    0|    0|   13.0| null|       S|\n|       0|     3|Vander Planke, Mr...|female|31.0|    1|    0|   18.0| null|       S|\n|       1|     3|Masselmani, Mrs. ...|female|null|    0|    0|  7.225| null|       C|\n+--------+------+--------------------+------+----+-----+-----+-------+-----+--------+\nonly showing top 20 rows\n\n</div>",
       "datasetInfos": [],
       "metadata": {},
       "removedWidgets": [],
       "type": "html"
      }
     },
     "output_type": "display_data"
    }
   ],
   "source": [
    "# drop PassangerId, Name, Ticket\n",
    "df = df.drop(\"PassengerId\", \"Ticket\")\n",
    "df.show()"
   ]
  },
  {
   "cell_type": "markdown",
   "metadata": {
    "application/vnd.databricks.v1+cell": {
     "inputWidgets": {},
     "nuid": "784cc875-3bef-4dfe-9381-0a4b6ec3df5c",
     "showTitle": false,
     "title": ""
    }
   },
   "source": [
    "Extract string data of each row with spesific word"
   ]
  },
  {
   "cell_type": "code",
   "execution_count": 0,
   "metadata": {
    "application/vnd.databricks.v1+cell": {
     "inputWidgets": {},
     "nuid": "1a630950-38fe-4d25-a03d-f12f19449c94",
     "showTitle": false,
     "title": ""
    }
   },
   "outputs": [
    {
     "data": {
      "text/html": [
       "<style scoped>\n",
       "  .ansiout {\n",
       "    display: block;\n",
       "    unicode-bidi: embed;\n",
       "    white-space: pre-wrap;\n",
       "    word-wrap: break-word;\n",
       "    word-break: break-all;\n",
       "    font-family: \"Source Code Pro\", \"Menlo\", monospace;;\n",
       "    font-size: 13px;\n",
       "    color: #555;\n",
       "    margin-left: 4px;\n",
       "    line-height: 19px;\n",
       "  }\n",
       "</style>\n",
       "<div class=\"ansiout\">+--------+------+--------------------+------+----+-----+-----+-------+-----+--------+-------+\n",
       "Survived|Pclass|                Name|   Sex| Age|SibSp|Parch|   Fare|Cabin|Embarked|Initial|\n",
       "+--------+------+--------------------+------+----+-----+-----+-------+-----+--------+-------+\n",
       "       0|     3|Braund, Mr. Owen ...|  male|22.0|    1|    0|   7.25| null|       S|     Mr|\n",
       "       1|     1|Cumings, Mrs. Joh...|female|38.0|    1|    0|71.2833|  C85|       C|    Mrs|\n",
       "       1|     3|Heikkinen, Miss. ...|female|26.0|    0|    0|  7.925| null|       S|   Miss|\n",
       "       1|     1|Futrelle, Mrs. Ja...|female|35.0|    1|    0|   53.1| C123|       S|    Mrs|\n",
       "       0|     3|Allen, Mr. Willia...|  male|35.0|    0|    0|   8.05| null|       S|     Mr|\n",
       "       0|     3|    Moran, Mr. James|  male|null|    0|    0| 8.4583| null|       Q|     Mr|\n",
       "       0|     1|McCarthy, Mr. Tim...|  male|54.0|    0|    0|51.8625|  E46|       S|     Mr|\n",
       "       0|     3|Palsson, Master. ...|  male| 2.0|    3|    1| 21.075| null|       S| Master|\n",
       "       1|     3|Johnson, Mrs. Osc...|female|27.0|    0|    2|11.1333| null|       S|    Mrs|\n",
       "       1|     2|Nasser, Mrs. Nich...|female|14.0|    1|    0|30.0708| null|       C|    Mrs|\n",
       "+--------+------+--------------------+------+----+-----+-----+-------+-----+--------+-------+\n",
       "only showing top 10 rows\n",
       "\n",
       "</div>"
      ]
     },
     "metadata": {
      "application/vnd.databricks.v1+output": {
       "addedWidgets": {},
       "arguments": {},
       "data": "<div class=\"ansiout\">+--------+------+--------------------+------+----+-----+-----+-------+-----+--------+-------+\n|Survived|Pclass|                Name|   Sex| Age|SibSp|Parch|   Fare|Cabin|Embarked|Initial|\n+--------+------+--------------------+------+----+-----+-----+-------+-----+--------+-------+\n|       0|     3|Braund, Mr. Owen ...|  male|22.0|    1|    0|   7.25| null|       S|     Mr|\n|       1|     1|Cumings, Mrs. Joh...|female|38.0|    1|    0|71.2833|  C85|       C|    Mrs|\n|       1|     3|Heikkinen, Miss. ...|female|26.0|    0|    0|  7.925| null|       S|   Miss|\n|       1|     1|Futrelle, Mrs. Ja...|female|35.0|    1|    0|   53.1| C123|       S|    Mrs|\n|       0|     3|Allen, Mr. Willia...|  male|35.0|    0|    0|   8.05| null|       S|     Mr|\n|       0|     3|    Moran, Mr. James|  male|null|    0|    0| 8.4583| null|       Q|     Mr|\n|       0|     1|McCarthy, Mr. Tim...|  male|54.0|    0|    0|51.8625|  E46|       S|     Mr|\n|       0|     3|Palsson, Master. ...|  male| 2.0|    3|    1| 21.075| null|       S| Master|\n|       1|     3|Johnson, Mrs. Osc...|female|27.0|    0|    2|11.1333| null|       S|    Mrs|\n|       1|     2|Nasser, Mrs. Nich...|female|14.0|    1|    0|30.0708| null|       C|    Mrs|\n+--------+------+--------------------+------+----+-----+-----+-------+-----+--------+-------+\nonly showing top 10 rows\n\n</div>",
       "datasetInfos": [],
       "metadata": {},
       "removedWidgets": [],
       "type": "html"
      }
     },
     "output_type": "display_data"
    }
   ],
   "source": [
    "## Extract string of Name(kolom) into Mr, Mrs, etc using regex\n",
    "from pyspark.sql.functions import regexp_extract\n",
    "\n",
    "df = df.withColumn(\"Initial\",regexp_extract(col(\"Name\"),\"([A-Za-z]+)\\.\",1))\n",
    "df.show(10)"
   ]
  },
  {
   "cell_type": "markdown",
   "metadata": {
    "application/vnd.databricks.v1+cell": {
     "inputWidgets": {},
     "nuid": "c571bf61-af76-45e1-bd2a-2686a9a8affc",
     "showTitle": false,
     "title": ""
    }
   },
   "source": [
    "replacing value (column)"
   ]
  },
  {
   "cell_type": "code",
   "execution_count": 0,
   "metadata": {
    "application/vnd.databricks.v1+cell": {
     "inputWidgets": {},
     "nuid": "f731ed7d-cbcb-4185-b87a-c785e27c806e",
     "showTitle": false,
     "title": ""
    }
   },
   "outputs": [
    {
     "data": {
      "text/html": [
       "<style scoped>\n",
       "  .ansiout {\n",
       "    display: block;\n",
       "    unicode-bidi: embed;\n",
       "    white-space: pre-wrap;\n",
       "    word-wrap: break-word;\n",
       "    word-break: break-all;\n",
       "    font-family: \"Source Code Pro\", \"Menlo\", monospace;;\n",
       "    font-size: 13px;\n",
       "    color: #555;\n",
       "    margin-left: 4px;\n",
       "    line-height: 19px;\n",
       "  }\n",
       "</style>\n",
       "<div class=\"ansiout\">+--------+------+--------------------+------+----+-----+-----+-------+-----+--------+-------+\n",
       "Survived|Pclass|                Name|   Sex| Age|SibSp|Parch|   Fare|Cabin|Embarked|Initial|\n",
       "+--------+------+--------------------+------+----+-----+-----+-------+-----+--------+-------+\n",
       "       0|     3|Braund, Mr. Owen ...|  male|22.0|    1|    0|   7.25| null|       S|     Mr|\n",
       "       1|     1|Cumings, Mrs. Joh...|female|38.0|    1|    0|71.2833|  C85|       C|    Mrs|\n",
       "       1|     3|Heikkinen, Miss. ...|female|26.0|    0|    0|  7.925| null|       S|   Miss|\n",
       "       1|     1|Futrelle, Mrs. Ja...|female|35.0|    1|    0|   53.1| C123|       S|    Mrs|\n",
       "       0|     3|Allen, Mr. Willia...|  male|35.0|    0|    0|   8.05| null|       S|     Mr|\n",
       "       0|     3|    Moran, Mr. James|  male|null|    0|    0| 8.4583| null|       Q|     Mr|\n",
       "       0|     1|McCarthy, Mr. Tim...|  male|54.0|    0|    0|51.8625|  E46|       S|     Mr|\n",
       "       0|     3|Palsson, Master. ...|  male| 2.0|    3|    1| 21.075| null|       S| Master|\n",
       "       1|     3|Johnson, Mrs. Osc...|female|27.0|    0|    2|11.1333| null|       S|    Mrs|\n",
       "       1|     2|Nasser, Mrs. Nich...|female|14.0|    1|    0|30.0708| null|       C|    Mrs|\n",
       "+--------+------+--------------------+------+----+-----+-----+-------+-----+--------+-------+\n",
       "only showing top 10 rows\n",
       "\n",
       "</div>"
      ]
     },
     "metadata": {
      "application/vnd.databricks.v1+output": {
       "addedWidgets": {},
       "arguments": {},
       "data": "<div class=\"ansiout\">+--------+------+--------------------+------+----+-----+-----+-------+-----+--------+-------+\n|Survived|Pclass|                Name|   Sex| Age|SibSp|Parch|   Fare|Cabin|Embarked|Initial|\n+--------+------+--------------------+------+----+-----+-----+-------+-----+--------+-------+\n|       0|     3|Braund, Mr. Owen ...|  male|22.0|    1|    0|   7.25| null|       S|     Mr|\n|       1|     1|Cumings, Mrs. Joh...|female|38.0|    1|    0|71.2833|  C85|       C|    Mrs|\n|       1|     3|Heikkinen, Miss. ...|female|26.0|    0|    0|  7.925| null|       S|   Miss|\n|       1|     1|Futrelle, Mrs. Ja...|female|35.0|    1|    0|   53.1| C123|       S|    Mrs|\n|       0|     3|Allen, Mr. Willia...|  male|35.0|    0|    0|   8.05| null|       S|     Mr|\n|       0|     3|    Moran, Mr. James|  male|null|    0|    0| 8.4583| null|       Q|     Mr|\n|       0|     1|McCarthy, Mr. Tim...|  male|54.0|    0|    0|51.8625|  E46|       S|     Mr|\n|       0|     3|Palsson, Master. ...|  male| 2.0|    3|    1| 21.075| null|       S| Master|\n|       1|     3|Johnson, Mrs. Osc...|female|27.0|    0|    2|11.1333| null|       S|    Mrs|\n|       1|     2|Nasser, Mrs. Nich...|female|14.0|    1|    0|30.0708| null|       C|    Mrs|\n+--------+------+--------------------+------+----+-----+-----+-------+-----+--------+-------+\nonly showing top 10 rows\n\n</div>",
       "datasetInfos": [],
       "metadata": {},
       "removedWidgets": [],
       "type": "html"
      }
     },
     "output_type": "display_data"
    }
   ],
   "source": [
    "# df = df.replace(['Mlle','Mme','Ms','Dr','Major','Lady','Countess','Jonkheer','Col','Rev','Capt','Sir','Don'],\n",
    "#                 ['Miss','Miss','Miss','Mr','Mr','Mrs','Mrs','Other','Other','Other','Mr','Mr','Mr'])\n",
    "\n",
    "\n",
    "df = df.replace(['Mlle','Mme','Ms','Dr','Major','Lady','Countess','Jonkheer','Col','Rev','Capt','Sir','Don'],\n",
    "                ['Miss','Miss','Miss','Mr','Mr',  'Mrs',  'Mrs',  'Other',  'Other','Other','Mr','Mr','Mr'])\n",
    "\n",
    "df.show(10)"
   ]
  },
  {
   "cell_type": "code",
   "execution_count": 0,
   "metadata": {
    "application/vnd.databricks.v1+cell": {
     "inputWidgets": {},
     "nuid": "686398f8-64f6-46b2-9440-9eefaacd2d3a",
     "showTitle": false,
     "title": ""
    }
   },
   "outputs": [
    {
     "data": {
      "text/html": [
       "<style scoped>\n",
       "  .ansiout {\n",
       "    display: block;\n",
       "    unicode-bidi: embed;\n",
       "    white-space: pre-wrap;\n",
       "    word-wrap: break-word;\n",
       "    word-break: break-all;\n",
       "    font-family: \"Source Code Pro\", \"Menlo\", monospace;;\n",
       "    font-size: 13px;\n",
       "    color: #555;\n",
       "    margin-left: 4px;\n",
       "    line-height: 19px;\n",
       "  }\n",
       "</style>\n",
       "<div class=\"ansiout\">+--------+------+----+---+---+-----+-----+----+-----+--------+-------+\n",
       "Survived|Pclass|Name|Sex|Age|SibSp|Parch|Fare|Cabin|Embarked|Initial|\n",
       "+--------+------+----+---+---+-----+-----+----+-----+--------+-------+\n",
       "       2|     3| 891|  2| 88|    7|    7| 248|  147|       3|      5|\n",
       "+--------+------+----+---+---+-----+-----+----+-----+--------+-------+\n",
       "\n",
       "</div>"
      ]
     },
     "metadata": {
      "application/vnd.databricks.v1+output": {
       "addedWidgets": {},
       "arguments": {},
       "data": "<div class=\"ansiout\">+--------+------+----+---+---+-----+-----+----+-----+--------+-------+\n|Survived|Pclass|Name|Sex|Age|SibSp|Parch|Fare|Cabin|Embarked|Initial|\n+--------+------+----+---+---+-----+-----+----+-----+--------+-------+\n|       2|     3| 891|  2| 88|    7|    7| 248|  147|       3|      5|\n+--------+------+----+---+---+-----+-----+----+-----+--------+-------+\n\n</div>",
       "datasetInfos": [],
       "metadata": {},
       "removedWidgets": [],
       "type": "html"
      }
     },
     "output_type": "display_data"
    }
   ],
   "source": [
    "# Cek Unique Value\n",
    "unique_value_each_columns = [F.countDistinct(c).alias(c) for c in df.columns]\n",
    "countdf =  df.select(*unique_value_each_columns)\n",
    "countdf.show()"
   ]
  },
  {
   "cell_type": "code",
   "execution_count": 0,
   "metadata": {
    "application/vnd.databricks.v1+cell": {
     "inputWidgets": {},
     "nuid": "4b8709d3-5697-4b3d-a1a8-4d25db572791",
     "showTitle": false,
     "title": ""
    }
   },
   "outputs": [
    {
     "data": {
      "text/html": [
       "<style scoped>\n",
       "  .ansiout {\n",
       "    display: block;\n",
       "    unicode-bidi: embed;\n",
       "    white-space: pre-wrap;\n",
       "    word-wrap: break-word;\n",
       "    word-break: break-all;\n",
       "    font-family: \"Source Code Pro\", \"Menlo\", monospace;;\n",
       "    font-size: 13px;\n",
       "    color: #555;\n",
       "    margin-left: 4px;\n",
       "    line-height: 19px;\n",
       "  }\n",
       "</style>\n",
       "<div class=\"ansiout\">Out[10]: [&#39;Miss&#39;, &#39;Other&#39;, &#39;Master&#39;, &#39;Mr&#39;, &#39;Mrs&#39;]</div>"
      ]
     },
     "metadata": {
      "application/vnd.databricks.v1+output": {
       "addedWidgets": {},
       "arguments": {},
       "data": "<div class=\"ansiout\">Out[10]: [&#39;Miss&#39;, &#39;Other&#39;, &#39;Master&#39;, &#39;Mr&#39;, &#39;Mrs&#39;]</div>",
       "datasetInfos": [],
       "metadata": {},
       "removedWidgets": [],
       "type": "html"
      }
     },
     "output_type": "display_data"
    }
   ],
   "source": [
    "# Unique value\n",
    "unique_classes = df.select('Initial').distinct().rdd.map(lambda x: x[0]).collect()\n",
    "unique_classes"
   ]
  },
  {
   "cell_type": "markdown",
   "metadata": {
    "application/vnd.databricks.v1+cell": {
     "inputWidgets": {},
     "nuid": "11a17564-3087-4b68-99f1-49ac9fdbfefb",
     "showTitle": false,
     "title": ""
    }
   },
   "source": [
    "# EDA"
   ]
  },
  {
   "cell_type": "code",
   "execution_count": 0,
   "metadata": {
    "application/vnd.databricks.v1+cell": {
     "inputWidgets": {},
     "nuid": "444b3022-cc7f-4f83-921b-7fa24ae30c46",
     "showTitle": false,
     "title": ""
    }
   },
   "outputs": [
    {
     "data": {
      "text/html": [
       "<style scoped>\n",
       "  .ansiout {\n",
       "    display: block;\n",
       "    unicode-bidi: embed;\n",
       "    white-space: pre-wrap;\n",
       "    word-wrap: break-word;\n",
       "    word-break: break-all;\n",
       "    font-family: \"Source Code Pro\", \"Menlo\", monospace;;\n",
       "    font-size: 13px;\n",
       "    color: #555;\n",
       "    margin-left: 4px;\n",
       "    line-height: 19px;\n",
       "  }\n",
       "</style>\n",
       "<div class=\"ansiout\"></div>"
      ]
     },
     "metadata": {
      "application/vnd.databricks.v1+output": {
       "addedWidgets": {},
       "arguments": {},
       "data": "<div class=\"ansiout\"></div>",
       "datasetInfos": [],
       "metadata": {},
       "removedWidgets": [],
       "type": "html"
      }
     },
     "output_type": "display_data"
    }
   ],
   "source": [
    "## pie chart function\n",
    "\n",
    "def pie_chart(data, kolom):\n",
    "  plt.rcParams.update({'font.size': 14})\n",
    "  data = data.toPandas()\n",
    "  data[kolom].value_counts().plot.pie(autopct='%1.1f%%',shadow=True, startangle=90)\n",
    "  fig=plt.gcf()\n",
    "  fig.set_size_inches(5,5)\n",
    "  plt.title(kolom)\n",
    "  plt.axis('off')\n",
    "  plt.legend(data[kolom].value_counts(), title=kolom, loc='center right',  bbox_to_anchor=(1, 0, 0.5, 2))\n",
    "  plt.show()"
   ]
  },
  {
   "cell_type": "markdown",
   "metadata": {
    "application/vnd.databricks.v1+cell": {
     "inputWidgets": {},
     "nuid": "47571083-cf43-45f7-9a5d-304267c29682",
     "showTitle": false,
     "title": ""
    }
   },
   "source": [
    "## Survived"
   ]
  },
  {
   "cell_type": "code",
   "execution_count": 0,
   "metadata": {
    "application/vnd.databricks.v1+cell": {
     "inputWidgets": {},
     "nuid": "d23cec6f-4f0d-46f0-a570-c7e84283a412",
     "showTitle": false,
     "title": ""
    }
   },
   "outputs": [
    {
     "data": {
      "image/png": "[encoded data removed]"
     },
     "metadata": {
      "application/vnd.databricks.v1+output": {
       "addedWidgets": {},
       "arguments": {},
       "data": "/plots/b738828a-56ad-407f-8940-a57481481747.png",
       "datasetInfos": [],
       "metadata": {},
       "removedWidgets": [],
       "type": "image"
      }
     },
     "output_type": "display_data"
    }
   ],
   "source": [
    "pie_chart(df, \"Survived\")"
   ]
  },
  {
   "cell_type": "markdown",
   "metadata": {
    "application/vnd.databricks.v1+cell": {
     "inputWidgets": {},
     "nuid": "b9e9c3d9-c11c-4516-bfeb-4499e9dca1ed",
     "showTitle": false,
     "title": ""
    }
   },
   "source": [
    "## Pclass"
   ]
  },
  {
   "cell_type": "code",
   "execution_count": 0,
   "metadata": {
    "application/vnd.databricks.v1+cell": {
     "inputWidgets": {},
     "nuid": "dece5705-6959-4913-b137-4b32fafad885",
     "showTitle": false,
     "title": ""
    }
   },
   "outputs": [
    {
     "data": {
      "image/png": "[encoded data removed]"
     },
     "metadata": {
      "application/vnd.databricks.v1+output": {
       "addedWidgets": {},
       "arguments": {},
       "data": "/plots/d613d9e8-40a0-4e47-a3dc-b9457cf6a95e.png",
       "datasetInfos": [],
       "metadata": {},
       "removedWidgets": [],
       "type": "image"
      }
     },
     "output_type": "display_data"
    }
   ],
   "source": [
    "pie_chart(df, \"Pclass\")"
   ]
  },
  {
   "cell_type": "markdown",
   "metadata": {
    "application/vnd.databricks.v1+cell": {
     "inputWidgets": {},
     "nuid": "20e60031-249e-4612-89e4-b9c748c62032",
     "showTitle": false,
     "title": ""
    }
   },
   "source": [
    "## Sex"
   ]
  },
  {
   "cell_type": "code",
   "execution_count": 0,
   "metadata": {
    "application/vnd.databricks.v1+cell": {
     "inputWidgets": {},
     "nuid": "99c7435a-570a-43eb-85b1-5bf03ed41c54",
     "showTitle": false,
     "title": ""
    }
   },
   "outputs": [
    {
     "data": {
      "image/png": "[encoded data removed]"
     },
     "metadata": {
      "application/vnd.databricks.v1+output": {
       "addedWidgets": {},
       "arguments": {},
       "data": "/plots/0dc6020f-a404-4dab-a0e9-a1fcf83e6f42.png",
       "datasetInfos": [],
       "metadata": {},
       "removedWidgets": [],
       "type": "image"
      }
     },
     "output_type": "display_data"
    }
   ],
   "source": [
    "pie_chart(df, \"Sex\")"
   ]
  },
  {
   "cell_type": "code",
   "execution_count": 0,
   "metadata": {
    "application/vnd.databricks.v1+cell": {
     "inputWidgets": {},
     "nuid": "4ce647e1-3f3f-47f7-afbe-4f274b13a899",
     "showTitle": false,
     "title": ""
    }
   },
   "outputs": [
    {
     "data": {
      "text/html": [
       "<style scoped>\n",
       "  .ansiout {\n",
       "    display: block;\n",
       "    unicode-bidi: embed;\n",
       "    white-space: pre-wrap;\n",
       "    word-wrap: break-word;\n",
       "    word-break: break-all;\n",
       "    font-family: \"Source Code Pro\", \"Menlo\", monospace;;\n",
       "    font-size: 13px;\n",
       "    color: #555;\n",
       "    margin-left: 4px;\n",
       "    line-height: 19px;\n",
       "  }\n",
       "</style>\n",
       "<div class=\"ansiout\"></div>"
      ]
     },
     "metadata": {
      "application/vnd.databricks.v1+output": {
       "addedWidgets": {},
       "arguments": {},
       "data": "<div class=\"ansiout\"></div>",
       "datasetInfos": [],
       "metadata": {},
       "removedWidgets": [],
       "type": "html"
      }
     },
     "output_type": "display_data"
    }
   ],
   "source": [
    "# Histogram Functions\n",
    "\n",
    "def plot_histogram(data, kolom, jumlah_histogram, rot):\n",
    "  variable_rdd_flatmap = data.select(kolom).rdd.flatMap(lambda x:x).histogram(jumlah_histogram)\n",
    "  \n",
    "  fig, ax = plt.subplots(figsize=(20,10), facecolor='w')\n",
    "  plotting = pd.DataFrame(list(zip(*variable_rdd_flatmap)), columns=['bin','freq']).round(2).set_index('bin')\n",
    "  plott = plotting.plot(kind='bar', ax=ax, rot=rot)\n",
    "  return plott"
   ]
  },
  {
   "cell_type": "markdown",
   "metadata": {
    "application/vnd.databricks.v1+cell": {
     "inputWidgets": {},
     "nuid": "9a4b9e50-7170-4952-918e-6c040453d462",
     "showTitle": false,
     "title": ""
    }
   },
   "source": [
    "## Age"
   ]
  },
  {
   "cell_type": "code",
   "execution_count": 0,
   "metadata": {
    "application/vnd.databricks.v1+cell": {
     "inputWidgets": {},
     "nuid": "553da950-343b-48c7-b0b2-9dedeee3889c",
     "showTitle": false,
     "title": ""
    }
   },
   "outputs": [
    {
     "data": {
      "text/html": [
       "<style scoped>\n",
       "  .ansiout {\n",
       "    display: block;\n",
       "    unicode-bidi: embed;\n",
       "    white-space: pre-wrap;\n",
       "    word-wrap: break-word;\n",
       "    word-break: break-all;\n",
       "    font-family: \"Source Code Pro\", \"Menlo\", monospace;;\n",
       "    font-size: 13px;\n",
       "    color: #555;\n",
       "    margin-left: 4px;\n",
       "    line-height: 19px;\n",
       "  }\n",
       "</style>\n",
       "<div class=\"ansiout\">Out[16]: </div>"
      ]
     },
     "metadata": {
      "application/vnd.databricks.v1+output": {
       "addedWidgets": {},
       "arguments": {},
       "data": "<div class=\"ansiout\">Out[16]: </div>",
       "datasetInfos": [],
       "metadata": {},
       "removedWidgets": [],
       "type": "html"
      }
     },
     "output_type": "display_data"
    },
    {
     "data": {
      "image/png": "[encoded data removed]"
     },
     "metadata": {
      "application/vnd.databricks.v1+output": {
       "addedWidgets": {},
       "arguments": {},
       "data": "/plots/c8eba0d1-fe51-47b3-a262-b2bffa0bc379.png",
       "datasetInfos": [],
       "metadata": {},
       "removedWidgets": [],
       "type": "image"
      }
     },
     "output_type": "display_data"
    },
    {
     "data": {
      "text/html": [
       "<style scoped>\n",
       "  .ansiout {\n",
       "    display: block;\n",
       "    unicode-bidi: embed;\n",
       "    white-space: pre-wrap;\n",
       "    word-wrap: break-word;\n",
       "    word-break: break-all;\n",
       "    font-family: \"Source Code Pro\", \"Menlo\", monospace;;\n",
       "    font-size: 13px;\n",
       "    color: #555;\n",
       "    margin-left: 4px;\n",
       "    line-height: 19px;\n",
       "  }\n",
       "</style>\n",
       "<div class=\"ansiout\">&lt;matplotlib.axes._subplots.AxesSubplot at 0x7fb05c0d4eb0&gt;</div>"
      ]
     },
     "metadata": {
      "application/vnd.databricks.v1+output": {
       "addedWidgets": {},
       "arguments": {},
       "data": "<div class=\"ansiout\">&lt;matplotlib.axes._subplots.AxesSubplot at 0x7fb05c0d4eb0&gt;</div>",
       "datasetInfos": [],
       "metadata": {},
       "removedWidgets": [],
       "type": "html"
      }
     },
     "output_type": "display_data"
    }
   ],
   "source": [
    "plot_histogram(df, \"Age\", 10, 45)"
   ]
  },
  {
   "cell_type": "code",
   "execution_count": 0,
   "metadata": {
    "application/vnd.databricks.v1+cell": {
     "inputWidgets": {},
     "nuid": "8b1b753c-bedf-4b47-8f02-26ec2dae724b",
     "showTitle": false,
     "title": ""
    }
   },
   "outputs": [
    {
     "data": {
      "text/html": [
       "<style scoped>\n",
       "  .ansiout {\n",
       "    display: block;\n",
       "    unicode-bidi: embed;\n",
       "    white-space: pre-wrap;\n",
       "    word-wrap: break-word;\n",
       "    word-break: break-all;\n",
       "    font-family: \"Source Code Pro\", \"Menlo\", monospace;;\n",
       "    font-size: 13px;\n",
       "    color: #555;\n",
       "    margin-left: 4px;\n",
       "    line-height: 19px;\n",
       "  }\n",
       "</style>\n",
       "<div class=\"ansiout\"></div>"
      ]
     },
     "metadata": {
      "application/vnd.databricks.v1+output": {
       "addedWidgets": {},
       "arguments": {},
       "data": "<div class=\"ansiout\"></div>",
       "datasetInfos": [],
       "metadata": {},
       "removedWidgets": [],
       "type": "html"
      }
     },
     "output_type": "display_data"
    }
   ],
   "source": [
    "## pie chart function\n",
    "\n",
    "def countplot (data, kolom, jenis_bar, rot):\n",
    "  plt.rcParams.update({'font.size': 14})\n",
    "  fig, ax = plt.subplots(figsize=(20,10), facecolor='w')\n",
    "  data = data.toPandas()\n",
    "  data = data[kolom].value_counts()\n",
    "  data.sort_values(0, ascending=False).plot(kind=jenis_bar, ax=ax, rot=int(rot))\n",
    "  plt.title(kolom)\n",
    "  plt.show()"
   ]
  },
  {
   "cell_type": "markdown",
   "metadata": {
    "application/vnd.databricks.v1+cell": {
     "inputWidgets": {},
     "nuid": "4f21855c-fa30-42fb-952e-b1864495597d",
     "showTitle": false,
     "title": ""
    }
   },
   "source": [
    "## SibSp"
   ]
  },
  {
   "cell_type": "code",
   "execution_count": 0,
   "metadata": {
    "application/vnd.databricks.v1+cell": {
     "inputWidgets": {},
     "nuid": "a6e04599-d869-4272-8e94-0ec56d026cc1",
     "showTitle": false,
     "title": ""
    }
   },
   "outputs": [
    {
     "data": {
      "image/png": "[encoded data removed]"
     },
     "metadata": {
      "application/vnd.databricks.v1+output": {
       "addedWidgets": {},
       "arguments": {},
       "data": "/plots/b9155d74-58db-4fa5-b767-b9a05150a23a.png",
       "datasetInfos": [],
       "metadata": {},
       "removedWidgets": [],
       "type": "image"
      }
     },
     "output_type": "display_data"
    }
   ],
   "source": [
    "countplot(df, \"SibSp\", \"bar\", 0)"
   ]
  },
  {
   "cell_type": "markdown",
   "metadata": {
    "application/vnd.databricks.v1+cell": {
     "inputWidgets": {},
     "nuid": "0c44ec16-1b60-47d8-b40e-99d9b23e2f32",
     "showTitle": false,
     "title": ""
    }
   },
   "source": [
    "## Parch"
   ]
  },
  {
   "cell_type": "code",
   "execution_count": 0,
   "metadata": {
    "application/vnd.databricks.v1+cell": {
     "inputWidgets": {},
     "nuid": "20b3b30d-975e-4f95-ab93-4e37c259daa8",
     "showTitle": false,
     "title": ""
    }
   },
   "outputs": [
    {
     "data": {
      "image/png": "[encoded data removed]"
     },
     "metadata": {
      "application/vnd.databricks.v1+output": {
       "addedWidgets": {},
       "arguments": {},
       "data": "/plots/4f35c194-00ce-490c-ada8-40702792ae07.png",
       "datasetInfos": [],
       "metadata": {},
       "removedWidgets": [],
       "type": "image"
      }
     },
     "output_type": "display_data"
    }
   ],
   "source": [
    "countplot(df, \"Parch\", \"bar\", 0)"
   ]
  },
  {
   "cell_type": "markdown",
   "metadata": {
    "application/vnd.databricks.v1+cell": {
     "inputWidgets": {},
     "nuid": "1d458094-6d89-4445-9bd3-5b8e2e4c0422",
     "showTitle": false,
     "title": ""
    }
   },
   "source": [
    "## Fare"
   ]
  },
  {
   "cell_type": "code",
   "execution_count": 0,
   "metadata": {
    "application/vnd.databricks.v1+cell": {
     "inputWidgets": {},
     "nuid": "f78f97ed-5f32-4af5-8ab6-fed7ac653d29",
     "showTitle": false,
     "title": ""
    }
   },
   "outputs": [
    {
     "data": {
      "text/html": [
       "<style scoped>\n",
       "  .ansiout {\n",
       "    display: block;\n",
       "    unicode-bidi: embed;\n",
       "    white-space: pre-wrap;\n",
       "    word-wrap: break-word;\n",
       "    word-break: break-all;\n",
       "    font-family: \"Source Code Pro\", \"Menlo\", monospace;;\n",
       "    font-size: 13px;\n",
       "    color: #555;\n",
       "    margin-left: 4px;\n",
       "    line-height: 19px;\n",
       "  }\n",
       "</style>\n",
       "<div class=\"ansiout\">Out[20]: </div>"
      ]
     },
     "metadata": {
      "application/vnd.databricks.v1+output": {
       "addedWidgets": {},
       "arguments": {},
       "data": "<div class=\"ansiout\">Out[20]: </div>",
       "datasetInfos": [],
       "metadata": {},
       "removedWidgets": [],
       "type": "html"
      }
     },
     "output_type": "display_data"
    },
    {
     "data": {
      "image/png": "[encoded data removed]"
     },
     "metadata": {
      "application/vnd.databricks.v1+output": {
       "addedWidgets": {},
       "arguments": {},
       "data": "/plots/d0655947-e238-4e5b-bb5e-c714e68c2363.png",
       "datasetInfos": [],
       "metadata": {},
       "removedWidgets": [],
       "type": "image"
      }
     },
     "output_type": "display_data"
    },
    {
     "data": {
      "text/html": [
       "<style scoped>\n",
       "  .ansiout {\n",
       "    display: block;\n",
       "    unicode-bidi: embed;\n",
       "    white-space: pre-wrap;\n",
       "    word-wrap: break-word;\n",
       "    word-break: break-all;\n",
       "    font-family: \"Source Code Pro\", \"Menlo\", monospace;;\n",
       "    font-size: 13px;\n",
       "    color: #555;\n",
       "    margin-left: 4px;\n",
       "    line-height: 19px;\n",
       "  }\n",
       "</style>\n",
       "<div class=\"ansiout\">&lt;matplotlib.axes._subplots.AxesSubplot at 0x7fb0578d90a0&gt;</div>"
      ]
     },
     "metadata": {
      "application/vnd.databricks.v1+output": {
       "addedWidgets": {},
       "arguments": {},
       "data": "<div class=\"ansiout\">&lt;matplotlib.axes._subplots.AxesSubplot at 0x7fb0578d90a0&gt;</div>",
       "datasetInfos": [],
       "metadata": {},
       "removedWidgets": [],
       "type": "html"
      }
     },
     "output_type": "display_data"
    }
   ],
   "source": [
    "plot_histogram(df, \"Fare\", 10,  45)"
   ]
  },
  {
   "cell_type": "markdown",
   "metadata": {
    "application/vnd.databricks.v1+cell": {
     "inputWidgets": {},
     "nuid": "88e1a943-7969-4b06-b94f-ed5c9604f8a1",
     "showTitle": false,
     "title": ""
    }
   },
   "source": [
    "### Embarked"
   ]
  },
  {
   "cell_type": "code",
   "execution_count": 0,
   "metadata": {
    "application/vnd.databricks.v1+cell": {
     "inputWidgets": {},
     "nuid": "4c5cca37-d786-41f6-987d-a439151937ce",
     "showTitle": false,
     "title": ""
    }
   },
   "outputs": [
    {
     "data": {
      "image/png": "[encoded data removed]"
     },
     "metadata": {
      "application/vnd.databricks.v1+output": {
       "addedWidgets": {},
       "arguments": {},
       "data": "/plots/392bfddc-8c9c-45f2-a048-7e6dffb530ff.png",
       "datasetInfos": [],
       "metadata": {},
       "removedWidgets": [],
       "type": "image"
      }
     },
     "output_type": "display_data"
    }
   ],
   "source": [
    "pie_chart(df, \"Embarked\")"
   ]
  },
  {
   "cell_type": "markdown",
   "metadata": {
    "application/vnd.databricks.v1+cell": {
     "inputWidgets": {},
     "nuid": "4a121849-32d2-4c38-9583-90fbfb15bfb5",
     "showTitle": false,
     "title": ""
    }
   },
   "source": [
    "## Handling Outlier"
   ]
  },
  {
   "cell_type": "code",
   "execution_count": 0,
   "metadata": {
    "application/vnd.databricks.v1+cell": {
     "inputWidgets": {},
     "nuid": "3231aba1-098d-4925-894a-836e8c13d98c",
     "showTitle": false,
     "title": ""
    }
   },
   "outputs": [
    {
     "data": {
      "text/html": [
       "<style scoped>\n",
       "  .ansiout {\n",
       "    display: block;\n",
       "    unicode-bidi: embed;\n",
       "    white-space: pre-wrap;\n",
       "    word-wrap: break-word;\n",
       "    word-break: break-all;\n",
       "    font-family: \"Source Code Pro\", \"Menlo\", monospace;;\n",
       "    font-size: 13px;\n",
       "    color: #555;\n",
       "    margin-left: 4px;\n",
       "    line-height: 19px;\n",
       "  }\n",
       "</style>\n",
       "<div class=\"ansiout\"></div>"
      ]
     },
     "metadata": {
      "application/vnd.databricks.v1+output": {
       "addedWidgets": {},
       "arguments": {},
       "data": "<div class=\"ansiout\"></div>",
       "datasetInfos": [],
       "metadata": {},
       "removedWidgets": [],
       "type": "html"
      }
     },
     "output_type": "display_data"
    }
   ],
   "source": [
    "## cek missing value both of NaN or Null to all column\n",
    "\n",
    "def percentage (data):\n",
    "  l = []\n",
    "  separator = ', '\n",
    "  A = data.columns\n",
    "  B = separator.join(A).split(\",\")\n",
    "  n = len(A)\n",
    "  \n",
    "  for a in range (n):\n",
    "    l.append(\"'{}'\".format(A[a]) + \",\" + B[a])\n",
    "    \n",
    "  k = separator.join(l)\n",
    "\n",
    "  ## tanpa percent\n",
    "  tanpa_percent = data.select([count(when(isnan(c) | col(c).isNull(), c)).alias(c) for c in A])\n",
    "  spark_sql_without_percent = \"stack(\" + str(n) + \", \"+ k + \") as (kolom, Null)\"\n",
    "  data_tanpa_percent = tanpa_percent.select(expr(spark_sql_without_percent))\n",
    "\n",
    "  ## dengan percent\n",
    "  dengan_percent = data.select([(count(when(isnan(c) | col(c).isNull(), c))/count(lit(1))).alias(c) for c in A])\n",
    "  spark_sql_percent = \"stack(\" + str(n) + \", \"+ k + \") as (kolom, Percentage_of_Null)\"\n",
    "  data_dengan_percent = dengan_percent.select(expr(spark_sql_percent))\n",
    "  data_dengan_percent = data_dengan_percent.withColumn(\"Percentage_of_Null\", round(col(\"Percentage_of_Null\"), 2)) \n",
    "  \n",
    "  ## Joining of 2 DataFrame based on \"kolom\" \n",
    "  df1 = data_tanpa_percent.alias('data_tanpa_percent')\n",
    "  df2 = data_dengan_percent.alias('data_dengan_percent')\n",
    "\n",
    "  data_final = df1.join(df2, df1.kolom == df2.kolom).select(df1[(\"*\")], df2[\"Percentage_of_Null\"])\n",
    "\n",
    "  return data_final"
   ]
  },
  {
   "cell_type": "code",
   "execution_count": 0,
   "metadata": {
    "application/vnd.databricks.v1+cell": {
     "inputWidgets": {},
     "nuid": "3181adb7-a719-40cf-9024-e30522b83a9f",
     "showTitle": false,
     "title": ""
    }
   },
   "outputs": [
    {
     "data": {
      "text/html": [
       "<style scoped>\n",
       "  .ansiout {\n",
       "    display: block;\n",
       "    unicode-bidi: embed;\n",
       "    white-space: pre-wrap;\n",
       "    word-wrap: break-word;\n",
       "    word-break: break-all;\n",
       "    font-family: \"Source Code Pro\", \"Menlo\", monospace;;\n",
       "    font-size: 13px;\n",
       "    color: #555;\n",
       "    margin-left: 4px;\n",
       "    line-height: 19px;\n",
       "  }\n",
       "</style>\n",
       "<div class=\"ansiout\">+--------+----+------------------+\n",
       "   kolom|Null|Percentage_of_Null|\n",
       "+--------+----+------------------+\n",
       "Survived|   0|               0.0|\n",
       "  Pclass|   0|               0.0|\n",
       "    Name|   0|               0.0|\n",
       "     Sex|   0|               0.0|\n",
       "     Age| 177|               0.2|\n",
       "   SibSp|   0|               0.0|\n",
       "   Parch|   0|               0.0|\n",
       "    Fare|   0|               0.0|\n",
       "   Cabin| 687|              0.77|\n",
       "Embarked|   2|               0.0|\n",
       " Initial|   0|               0.0|\n",
       "+--------+----+------------------+\n",
       "\n",
       "</div>"
      ]
     },
     "metadata": {
      "application/vnd.databricks.v1+output": {
       "addedWidgets": {},
       "arguments": {},
       "data": "<div class=\"ansiout\">+--------+----+------------------+\n|   kolom|Null|Percentage_of_Null|\n+--------+----+------------------+\n|Survived|   0|               0.0|\n|  Pclass|   0|               0.0|\n|    Name|   0|               0.0|\n|     Sex|   0|               0.0|\n|     Age| 177|               0.2|\n|   SibSp|   0|               0.0|\n|   Parch|   0|               0.0|\n|    Fare|   0|               0.0|\n|   Cabin| 687|              0.77|\n|Embarked|   2|               0.0|\n| Initial|   0|               0.0|\n+--------+----+------------------+\n\n</div>",
       "datasetInfos": [],
       "metadata": {},
       "removedWidgets": [],
       "type": "html"
      }
     },
     "output_type": "display_data"
    }
   ],
   "source": [
    "null_data = percentage(df)\n",
    "null_data.show()"
   ]
  },
  {
   "cell_type": "code",
   "execution_count": 0,
   "metadata": {
    "application/vnd.databricks.v1+cell": {
     "inputWidgets": {},
     "nuid": "a5f2c9a8-0ea9-4d32-aa3b-f728c8abb92f",
     "showTitle": false,
     "title": ""
    }
   },
   "outputs": [
    {
     "data": {
      "text/html": [
       "<style scoped>\n",
       "  .ansiout {\n",
       "    display: block;\n",
       "    unicode-bidi: embed;\n",
       "    white-space: pre-wrap;\n",
       "    word-wrap: break-word;\n",
       "    word-break: break-all;\n",
       "    font-family: \"Source Code Pro\", \"Menlo\", monospace;;\n",
       "    font-size: 13px;\n",
       "    color: #555;\n",
       "    margin-left: 4px;\n",
       "    line-height: 19px;\n",
       "  }\n",
       "</style>\n",
       "<div class=\"ansiout\">Out[24]: 891</div>"
      ]
     },
     "metadata": {
      "application/vnd.databricks.v1+output": {
       "addedWidgets": {},
       "arguments": {},
       "data": "<div class=\"ansiout\">Out[24]: 891</div>",
       "datasetInfos": [],
       "metadata": {},
       "removedWidgets": [],
       "type": "html"
      }
     },
     "output_type": "display_data"
    }
   ],
   "source": [
    "df.count()"
   ]
  },
  {
   "cell_type": "code",
   "execution_count": 0,
   "metadata": {
    "application/vnd.databricks.v1+cell": {
     "inputWidgets": {},
     "nuid": "94f4b645-a2e0-4285-95d1-93ed7d430b5e",
     "showTitle": false,
     "title": ""
    }
   },
   "outputs": [
    {
     "data": {
      "text/html": [
       "<style scoped>\n",
       "  .ansiout {\n",
       "    display: block;\n",
       "    unicode-bidi: embed;\n",
       "    white-space: pre-wrap;\n",
       "    word-wrap: break-word;\n",
       "    word-break: break-all;\n",
       "    font-family: \"Source Code Pro\", \"Menlo\", monospace;;\n",
       "    font-size: 13px;\n",
       "    color: #555;\n",
       "    margin-left: 4px;\n",
       "    line-height: 19px;\n",
       "  }\n",
       "</style>\n",
       "<div class=\"ansiout\">+--------+----+------------------+\n",
       "   kolom|Null|Percentage_of_Null|\n",
       "+--------+----+------------------+\n",
       "Survived|   0|               0.0|\n",
       "  Pclass|   0|               0.0|\n",
       "    Name|   0|               0.0|\n",
       "     Sex|   0|               0.0|\n",
       "     Age| 177|               0.2|\n",
       "   SibSp|   0|               0.0|\n",
       "   Parch|   0|               0.0|\n",
       "    Fare|   0|               0.0|\n",
       "Embarked|   2|               0.0|\n",
       " Initial|   0|               0.0|\n",
       "+--------+----+------------------+\n",
       "\n",
       "</div>"
      ]
     },
     "metadata": {
      "application/vnd.databricks.v1+output": {
       "addedWidgets": {},
       "arguments": {},
       "data": "<div class=\"ansiout\">+--------+----+------------------+\n|   kolom|Null|Percentage_of_Null|\n+--------+----+------------------+\n|Survived|   0|               0.0|\n|  Pclass|   0|               0.0|\n|    Name|   0|               0.0|\n|     Sex|   0|               0.0|\n|     Age| 177|               0.2|\n|   SibSp|   0|               0.0|\n|   Parch|   0|               0.0|\n|    Fare|   0|               0.0|\n|Embarked|   2|               0.0|\n| Initial|   0|               0.0|\n+--------+----+------------------+\n\n</div>",
       "datasetInfos": [],
       "metadata": {},
       "removedWidgets": [],
       "type": "html"
      }
     },
     "output_type": "display_data"
    }
   ],
   "source": [
    "df = df.drop(\"Cabin\")\n",
    "null_data = percentage(df)\n",
    "null_data.show()"
   ]
  },
  {
   "cell_type": "code",
   "execution_count": 0,
   "metadata": {
    "application/vnd.databricks.v1+cell": {
     "inputWidgets": {},
     "nuid": "ed1a4642-38d3-4ed2-a373-eb0c364970f1",
     "showTitle": false,
     "title": ""
    }
   },
   "outputs": [
    {
     "data": {
      "text/html": [
       "<style scoped>\n",
       "  .ansiout {\n",
       "    display: block;\n",
       "    unicode-bidi: embed;\n",
       "    white-space: pre-wrap;\n",
       "    word-wrap: break-word;\n",
       "    word-break: break-all;\n",
       "    font-family: \"Source Code Pro\", \"Menlo\", monospace;;\n",
       "    font-size: 13px;\n",
       "    color: #555;\n",
       "    margin-left: 4px;\n",
       "    line-height: 19px;\n",
       "  }\n",
       "</style>\n",
       "<div class=\"ansiout\"></div>"
      ]
     },
     "metadata": {
      "application/vnd.databricks.v1+output": {
       "addedWidgets": {},
       "arguments": {},
       "data": "<div class=\"ansiout\"></div>",
       "datasetInfos": [],
       "metadata": {},
       "removedWidgets": [],
       "type": "html"
      }
     },
     "output_type": "display_data"
    }
   ],
   "source": [
    "## drop null value (kolom) in subset\n",
    "# null_df.na.drop(subset=[‘Sales’]).show()"
   ]
  },
  {
   "cell_type": "code",
   "execution_count": 0,
   "metadata": {
    "application/vnd.databricks.v1+cell": {
     "inputWidgets": {},
     "nuid": "053c6180-11ad-4d2c-84a9-eb20afa2409a",
     "showTitle": false,
     "title": ""
    }
   },
   "outputs": [
    {
     "data": {
      "text/html": [
       "<style scoped>\n",
       "  .ansiout {\n",
       "    display: block;\n",
       "    unicode-bidi: embed;\n",
       "    white-space: pre-wrap;\n",
       "    word-wrap: break-word;\n",
       "    word-break: break-all;\n",
       "    font-family: \"Source Code Pro\", \"Menlo\", monospace;;\n",
       "    font-size: 13px;\n",
       "    color: #555;\n",
       "    margin-left: 4px;\n",
       "    line-height: 19px;\n",
       "  }\n",
       "</style>\n",
       "<div class=\"ansiout\">root\n",
       "-- Survived: integer (nullable = true)\n",
       "-- Pclass: integer (nullable = true)\n",
       "-- Name: string (nullable = true)\n",
       "-- Sex: string (nullable = true)\n",
       "-- Age: double (nullable = true)\n",
       "-- SibSp: integer (nullable = true)\n",
       "-- Parch: integer (nullable = true)\n",
       "-- Fare: double (nullable = true)\n",
       "-- Embarked: string (nullable = true)\n",
       "-- Initial: string (nullable = true)\n",
       "\n",
       "</div>"
      ]
     },
     "metadata": {
      "application/vnd.databricks.v1+output": {
       "addedWidgets": {},
       "arguments": {},
       "data": "<div class=\"ansiout\">root\n |-- Survived: integer (nullable = true)\n |-- Pclass: integer (nullable = true)\n |-- Name: string (nullable = true)\n |-- Sex: string (nullable = true)\n |-- Age: double (nullable = true)\n |-- SibSp: integer (nullable = true)\n |-- Parch: integer (nullable = true)\n |-- Fare: double (nullable = true)\n |-- Embarked: string (nullable = true)\n |-- Initial: string (nullable = true)\n\n</div>",
       "datasetInfos": [],
       "metadata": {},
       "removedWidgets": [],
       "type": "html"
      }
     },
     "output_type": "display_data"
    }
   ],
   "source": [
    "df.printSchema()"
   ]
  },
  {
   "cell_type": "code",
   "execution_count": 0,
   "metadata": {
    "application/vnd.databricks.v1+cell": {
     "inputWidgets": {},
     "nuid": "915da8dc-ac35-4c3e-9ea0-08eed40dff22",
     "showTitle": false,
     "title": ""
    }
   },
   "outputs": [
    {
     "data": {
      "text/html": [
       "<style scoped>\n",
       "  .ansiout {\n",
       "    display: block;\n",
       "    unicode-bidi: embed;\n",
       "    white-space: pre-wrap;\n",
       "    word-wrap: break-word;\n",
       "    word-break: break-all;\n",
       "    font-family: \"Source Code Pro\", \"Menlo\", monospace;;\n",
       "    font-size: 13px;\n",
       "    color: #555;\n",
       "    margin-left: 4px;\n",
       "    line-height: 19px;\n",
       "  }\n",
       "</style>\n",
       "<div class=\"ansiout\"></div>"
      ]
     },
     "metadata": {
      "application/vnd.databricks.v1+output": {
       "addedWidgets": {},
       "arguments": {},
       "data": "<div class=\"ansiout\"></div>",
       "datasetInfos": [],
       "metadata": {},
       "removedWidgets": [],
       "type": "html"
      }
     },
     "output_type": "display_data"
    }
   ],
   "source": [
    "## Filling NaN using median\n",
    "\n",
    "def fill_median (df, kolom):\n",
    "  median = df.approxQuantile(kolom, [0.5], 0.25)\n",
    "  median = median[0]\n",
    "  df = df.na.fill(median, subset=[kolom])\n",
    "  \n",
    "  return df"
   ]
  },
  {
   "cell_type": "code",
   "execution_count": 0,
   "metadata": {
    "application/vnd.databricks.v1+cell": {
     "inputWidgets": {},
     "nuid": "e824c58f-29b3-4bee-b7b0-69d5442b65e4",
     "showTitle": false,
     "title": ""
    }
   },
   "outputs": [
    {
     "data": {
      "text/html": [
       "<style scoped>\n",
       "  .ansiout {\n",
       "    display: block;\n",
       "    unicode-bidi: embed;\n",
       "    white-space: pre-wrap;\n",
       "    word-wrap: break-word;\n",
       "    word-break: break-all;\n",
       "    font-family: \"Source Code Pro\", \"Menlo\", monospace;;\n",
       "    font-size: 13px;\n",
       "    color: #555;\n",
       "    margin-left: 4px;\n",
       "    line-height: 19px;\n",
       "  }\n",
       "</style>\n",
       "<div class=\"ansiout\">+--------+----+------------------+\n",
       "   kolom|Null|Percentage_of_Null|\n",
       "+--------+----+------------------+\n",
       "Survived|   0|               0.0|\n",
       "  Pclass|   0|               0.0|\n",
       "    Name|   0|               0.0|\n",
       "     Sex|   0|               0.0|\n",
       "     Age|   0|               0.0|\n",
       "   SibSp|   0|               0.0|\n",
       "   Parch|   0|               0.0|\n",
       "    Fare|   0|               0.0|\n",
       "Embarked|   2|               0.0|\n",
       " Initial|   0|               0.0|\n",
       "+--------+----+------------------+\n",
       "\n",
       "</div>"
      ]
     },
     "metadata": {
      "application/vnd.databricks.v1+output": {
       "addedWidgets": {},
       "arguments": {},
       "data": "<div class=\"ansiout\">+--------+----+------------------+\n|   kolom|Null|Percentage_of_Null|\n+--------+----+------------------+\n|Survived|   0|               0.0|\n|  Pclass|   0|               0.0|\n|    Name|   0|               0.0|\n|     Sex|   0|               0.0|\n|     Age|   0|               0.0|\n|   SibSp|   0|               0.0|\n|   Parch|   0|               0.0|\n|    Fare|   0|               0.0|\n|Embarked|   2|               0.0|\n| Initial|   0|               0.0|\n+--------+----+------------------+\n\n</div>",
       "datasetInfos": [],
       "metadata": {},
       "removedWidgets": [],
       "type": "html"
      }
     },
     "output_type": "display_data"
    }
   ],
   "source": [
    "df = fill_median(df, 'Age')\n",
    "percentage(df).show()"
   ]
  },
  {
   "cell_type": "code",
   "execution_count": 0,
   "metadata": {
    "application/vnd.databricks.v1+cell": {
     "inputWidgets": {},
     "nuid": "d1d4ef2e-ec15-4bd4-91f8-10222d8e8401",
     "showTitle": false,
     "title": ""
    }
   },
   "outputs": [
    {
     "data": {
      "text/html": [
       "<style scoped>\n",
       "  .ansiout {\n",
       "    display: block;\n",
       "    unicode-bidi: embed;\n",
       "    white-space: pre-wrap;\n",
       "    word-wrap: break-word;\n",
       "    word-break: break-all;\n",
       "    font-family: \"Source Code Pro\", \"Menlo\", monospace;;\n",
       "    font-size: 13px;\n",
       "    color: #555;\n",
       "    margin-left: 4px;\n",
       "    line-height: 19px;\n",
       "  }\n",
       "</style>\n",
       "<div class=\"ansiout\"></div>"
      ]
     },
     "metadata": {
      "application/vnd.databricks.v1+output": {
       "addedWidgets": {},
       "arguments": {},
       "data": "<div class=\"ansiout\"></div>",
       "datasetInfos": [],
       "metadata": {},
       "removedWidgets": [],
       "type": "html"
      }
     },
     "output_type": "display_data"
    }
   ],
   "source": [
    "## Filling NaN using Mode(Modus)\n",
    "\n",
    "## Finding Mode of each columns(multiple)\n",
    "def mode_of_pyspark_columns(df, cat_col_list, verbose=False):\n",
    "    col_with_mode=[]\n",
    "    for col in cat_col_list:\n",
    "      \n",
    "        #Filter non-null\n",
    "        df = df.filter(df[col].isNull()==False)\n",
    "        \n",
    "        #Find unique_values_with_count\n",
    "        unique_classes = df.select(col).distinct().rdd.map(lambda x: x[0]).collect()\n",
    "        \n",
    "        ## Like Value counts in python but in the nested list\n",
    "        unique_values_with_count=[]\n",
    "        for uc in unique_classes:\n",
    "             unique_values_with_count.append([uc, df.filter(df[col]==uc).count()])\n",
    "            \n",
    "        #sort unique values w.r.t their count values (Descending, big to small)\n",
    "        sorted_unique_values_with_count= sorted(unique_values_with_count, key = lambda x: x[1], reverse =True)\n",
    "        \n",
    "        # Extract value of [0][0] meaning, first list ([0]), and first nested list([0], [0])\n",
    "        if (verbose==True): print(col, sorted_unique_values_with_count, \" and mode is \", sorted_unique_values_with_count[0][0])\n",
    "          \n",
    "        col_with_mode.append([col, sorted_unique_values_with_count[0][0]])\n",
    "        \n",
    "        return col_with_mode\n",
    "      \n",
    "      \n",
    "## Filling each column using each mode by self (multiple)\n",
    "def filling_mode (df, cat_col_list):\n",
    "  mode_of_each_col = mode_of_pyspark_columns(df, cat_col_list)\n",
    "  \n",
    "  for col, mode in mode_of_each_col:\n",
    "    df = df.withColumn(col, when(df[col].isNull()==True, lit(mode)).otherwise(df[col]))\n",
    "    \n",
    "    return df"
   ]
  },
  {
   "cell_type": "code",
   "execution_count": 0,
   "metadata": {
    "application/vnd.databricks.v1+cell": {
     "inputWidgets": {},
     "nuid": "2334006d-2b25-4c3a-ada4-7d245ba96470",
     "showTitle": false,
     "title": ""
    }
   },
   "outputs": [
    {
     "data": {
      "text/html": [
       "<style scoped>\n",
       "  .ansiout {\n",
       "    display: block;\n",
       "    unicode-bidi: embed;\n",
       "    white-space: pre-wrap;\n",
       "    word-wrap: break-word;\n",
       "    word-break: break-all;\n",
       "    font-family: \"Source Code Pro\", \"Menlo\", monospace;;\n",
       "    font-size: 13px;\n",
       "    color: #555;\n",
       "    margin-left: 4px;\n",
       "    line-height: 19px;\n",
       "  }\n",
       "</style>\n",
       "<div class=\"ansiout\">+--------+----+------------------+\n",
       "   kolom|Null|Percentage_of_Null|\n",
       "+--------+----+------------------+\n",
       "Survived|   0|               0.0|\n",
       "  Pclass|   0|               0.0|\n",
       "    Name|   0|               0.0|\n",
       "     Sex|   0|               0.0|\n",
       "     Age|   0|               0.0|\n",
       "   SibSp|   0|               0.0|\n",
       "   Parch|   0|               0.0|\n",
       "    Fare|   0|               0.0|\n",
       "Embarked|   0|               0.0|\n",
       " Initial|   0|               0.0|\n",
       "+--------+----+------------------+\n",
       "\n",
       "</div>"
      ]
     },
     "metadata": {
      "application/vnd.databricks.v1+output": {
       "addedWidgets": {},
       "arguments": {},
       "data": "<div class=\"ansiout\">+--------+----+------------------+\n|   kolom|Null|Percentage_of_Null|\n+--------+----+------------------+\n|Survived|   0|               0.0|\n|  Pclass|   0|               0.0|\n|    Name|   0|               0.0|\n|     Sex|   0|               0.0|\n|     Age|   0|               0.0|\n|   SibSp|   0|               0.0|\n|   Parch|   0|               0.0|\n|    Fare|   0|               0.0|\n|Embarked|   0|               0.0|\n| Initial|   0|               0.0|\n+--------+----+------------------+\n\n</div>",
       "datasetInfos": [],
       "metadata": {},
       "removedWidgets": [],
       "type": "html"
      }
     },
     "output_type": "display_data"
    }
   ],
   "source": [
    "df = filling_mode (df, [\"Embarked\"])\n",
    "null_data = percentage(df)\n",
    "null_data.show()"
   ]
  },
  {
   "cell_type": "markdown",
   "metadata": {
    "application/vnd.databricks.v1+cell": {
     "inputWidgets": {},
     "nuid": "bc2af9a6-d68b-4d16-908d-1fe7e2ef8598",
     "showTitle": false,
     "title": ""
    }
   },
   "source": [
    "# Feature Engineering"
   ]
  },
  {
   "cell_type": "code",
   "execution_count": 0,
   "metadata": {
    "application/vnd.databricks.v1+cell": {
     "inputWidgets": {},
     "nuid": "fa014896-5d0d-4216-ab22-ef6131eb0f79",
     "showTitle": false,
     "title": ""
    }
   },
   "outputs": [
    {
     "data": {
      "text/html": [
       "<style scoped>\n",
       "  .ansiout {\n",
       "    display: block;\n",
       "    unicode-bidi: embed;\n",
       "    white-space: pre-wrap;\n",
       "    word-wrap: break-word;\n",
       "    word-break: break-all;\n",
       "    font-family: \"Source Code Pro\", \"Menlo\", monospace;;\n",
       "    font-size: 13px;\n",
       "    color: #555;\n",
       "    margin-left: 4px;\n",
       "    line-height: 19px;\n",
       "  }\n",
       "</style>\n",
       "<div class=\"ansiout\">+--------+------+--------------------+------+----+-----+-----+-------+--------+-------+\n",
       "Survived|Pclass|                Name|   Sex| Age|SibSp|Parch|   Fare|Embarked|Initial|\n",
       "+--------+------+--------------------+------+----+-----+-----+-------+--------+-------+\n",
       "       0|     3|Braund, Mr. Owen ...|  male|22.0|    1|    0|   7.25|       S|     Mr|\n",
       "       1|     1|Cumings, Mrs. Joh...|female|38.0|    1|    0|71.2833|       C|    Mrs|\n",
       "       1|     3|Heikkinen, Miss. ...|female|26.0|    0|    0|  7.925|       S|   Miss|\n",
       "       1|     1|Futrelle, Mrs. Ja...|female|35.0|    1|    0|   53.1|       S|    Mrs|\n",
       "       0|     3|Allen, Mr. Willia...|  male|35.0|    0|    0|   8.05|       S|     Mr|\n",
       "       0|     3|    Moran, Mr. James|  male|21.0|    0|    0| 8.4583|       Q|     Mr|\n",
       "       0|     1|McCarthy, Mr. Tim...|  male|54.0|    0|    0|51.8625|       S|     Mr|\n",
       "       0|     3|Palsson, Master. ...|  male| 2.0|    3|    1| 21.075|       S| Master|\n",
       "       1|     3|Johnson, Mrs. Osc...|female|27.0|    0|    2|11.1333|       S|    Mrs|\n",
       "       1|     2|Nasser, Mrs. Nich...|female|14.0|    1|    0|30.0708|       C|    Mrs|\n",
       "+--------+------+--------------------+------+----+-----+-----+-------+--------+-------+\n",
       "only showing top 10 rows\n",
       "\n",
       "</div>"
      ]
     },
     "metadata": {
      "application/vnd.databricks.v1+output": {
       "addedWidgets": {},
       "arguments": {},
       "data": "<div class=\"ansiout\">+--------+------+--------------------+------+----+-----+-----+-------+--------+-------+\n|Survived|Pclass|                Name|   Sex| Age|SibSp|Parch|   Fare|Embarked|Initial|\n+--------+------+--------------------+------+----+-----+-----+-------+--------+-------+\n|       0|     3|Braund, Mr. Owen ...|  male|22.0|    1|    0|   7.25|       S|     Mr|\n|       1|     1|Cumings, Mrs. Joh...|female|38.0|    1|    0|71.2833|       C|    Mrs|\n|       1|     3|Heikkinen, Miss. ...|female|26.0|    0|    0|  7.925|       S|   Miss|\n|       1|     1|Futrelle, Mrs. Ja...|female|35.0|    1|    0|   53.1|       S|    Mrs|\n|       0|     3|Allen, Mr. Willia...|  male|35.0|    0|    0|   8.05|       S|     Mr|\n|       0|     3|    Moran, Mr. James|  male|21.0|    0|    0| 8.4583|       Q|     Mr|\n|       0|     1|McCarthy, Mr. Tim...|  male|54.0|    0|    0|51.8625|       S|     Mr|\n|       0|     3|Palsson, Master. ...|  male| 2.0|    3|    1| 21.075|       S| Master|\n|       1|     3|Johnson, Mrs. Osc...|female|27.0|    0|    2|11.1333|       S|    Mrs|\n|       1|     2|Nasser, Mrs. Nich...|female|14.0|    1|    0|30.0708|       C|    Mrs|\n+--------+------+--------------------+------+----+-----+-----+-------+--------+-------+\nonly showing top 10 rows\n\n</div>",
       "datasetInfos": [],
       "metadata": {},
       "removedWidgets": [],
       "type": "html"
      }
     },
     "output_type": "display_data"
    }
   ],
   "source": [
    "df.show(10)"
   ]
  },
  {
   "cell_type": "code",
   "execution_count": 0,
   "metadata": {
    "application/vnd.databricks.v1+cell": {
     "inputWidgets": {},
     "nuid": "9a7fbc6b-acec-4e98-b234-3dc07b619cf1",
     "showTitle": false,
     "title": ""
    }
   },
   "outputs": [
    {
     "data": {
      "text/html": [
       "<style scoped>\n",
       "  .ansiout {\n",
       "    display: block;\n",
       "    unicode-bidi: embed;\n",
       "    white-space: pre-wrap;\n",
       "    word-wrap: break-word;\n",
       "    word-break: break-all;\n",
       "    font-family: \"Source Code Pro\", \"Menlo\", monospace;;\n",
       "    font-size: 13px;\n",
       "    color: #555;\n",
       "    margin-left: 4px;\n",
       "    line-height: 19px;\n",
       "  }\n",
       "</style>\n",
       "<div class=\"ansiout\">+--------+------+--------------------+------+----+-----+-----+-------+--------+-------+-----------+-----+\n",
       "Survived|Pclass|                Name|   Sex| Age|SibSp|Parch|   Fare|Embarked|Initial|Family_Size|Alone|\n",
       "+--------+------+--------------------+------+----+-----+-----+-------+--------+-------+-----------+-----+\n",
       "       0|     3|Braund, Mr. Owen ...|  male|22.0|    1|    0|   7.25|       S|     Mr|          1|    0|\n",
       "       1|     1|Cumings, Mrs. Joh...|female|38.0|    1|    0|71.2833|       C|    Mrs|          1|    0|\n",
       "       1|     3|Heikkinen, Miss. ...|female|26.0|    0|    0|  7.925|       S|   Miss|          0|    1|\n",
       "       1|     1|Futrelle, Mrs. Ja...|female|35.0|    1|    0|   53.1|       S|    Mrs|          1|    0|\n",
       "       0|     3|Allen, Mr. Willia...|  male|35.0|    0|    0|   8.05|       S|     Mr|          0|    1|\n",
       "       0|     3|    Moran, Mr. James|  male|21.0|    0|    0| 8.4583|       Q|     Mr|          0|    1|\n",
       "       0|     1|McCarthy, Mr. Tim...|  male|54.0|    0|    0|51.8625|       S|     Mr|          0|    1|\n",
       "       0|     3|Palsson, Master. ...|  male| 2.0|    3|    1| 21.075|       S| Master|          4|    0|\n",
       "       1|     3|Johnson, Mrs. Osc...|female|27.0|    0|    2|11.1333|       S|    Mrs|          2|    0|\n",
       "       1|     2|Nasser, Mrs. Nich...|female|14.0|    1|    0|30.0708|       C|    Mrs|          1|    0|\n",
       "       1|     3|Sandstrom, Miss. ...|female| 4.0|    1|    1|   16.7|       S|   Miss|          2|    0|\n",
       "       1|     1|Bonnell, Miss. El...|female|58.0|    0|    0|  26.55|       S|   Miss|          0|    1|\n",
       "       0|     3|Saundercock, Mr. ...|  male|20.0|    0|    0|   8.05|       S|     Mr|          0|    1|\n",
       "       0|     3|Andersson, Mr. An...|  male|39.0|    1|    5| 31.275|       S|     Mr|          6|    0|\n",
       "       0|     3|Vestrom, Miss. Hu...|female|14.0|    0|    0| 7.8542|       S|   Miss|          0|    1|\n",
       "       1|     2|Hewlett, Mrs. (Ma...|female|55.0|    0|    0|   16.0|       S|    Mrs|          0|    1|\n",
       "       0|     3|Rice, Master. Eugene|  male| 2.0|    4|    1| 29.125|       Q| Master|          5|    0|\n",
       "       1|     2|Williams, Mr. Cha...|  male|21.0|    0|    0|   13.0|       S|     Mr|          0|    1|\n",
       "       0|     3|Vander Planke, Mr...|female|31.0|    1|    0|   18.0|       S|    Mrs|          1|    0|\n",
       "       1|     3|Masselmani, Mrs. ...|female|21.0|    0|    0|  7.225|       C|    Mrs|          0|    1|\n",
       "+--------+------+--------------------+------+----+-----+-----+-------+--------+-------+-----------+-----+\n",
       "only showing top 20 rows\n",
       "\n",
       "</div>"
      ]
     },
     "metadata": {
      "application/vnd.databricks.v1+output": {
       "addedWidgets": {},
       "arguments": {},
       "data": "<div class=\"ansiout\">+--------+------+--------------------+------+----+-----+-----+-------+--------+-------+-----------+-----+\n|Survived|Pclass|                Name|   Sex| Age|SibSp|Parch|   Fare|Embarked|Initial|Family_Size|Alone|\n+--------+------+--------------------+------+----+-----+-----+-------+--------+-------+-----------+-----+\n|       0|     3|Braund, Mr. Owen ...|  male|22.0|    1|    0|   7.25|       S|     Mr|          1|    0|\n|       1|     1|Cumings, Mrs. Joh...|female|38.0|    1|    0|71.2833|       C|    Mrs|          1|    0|\n|       1|     3|Heikkinen, Miss. ...|female|26.0|    0|    0|  7.925|       S|   Miss|          0|    1|\n|       1|     1|Futrelle, Mrs. Ja...|female|35.0|    1|    0|   53.1|       S|    Mrs|          1|    0|\n|       0|     3|Allen, Mr. Willia...|  male|35.0|    0|    0|   8.05|       S|     Mr|          0|    1|\n|       0|     3|    Moran, Mr. James|  male|21.0|    0|    0| 8.4583|       Q|     Mr|          0|    1|\n|       0|     1|McCarthy, Mr. Tim...|  male|54.0|    0|    0|51.8625|       S|     Mr|          0|    1|\n|       0|     3|Palsson, Master. ...|  male| 2.0|    3|    1| 21.075|       S| Master|          4|    0|\n|       1|     3|Johnson, Mrs. Osc...|female|27.0|    0|    2|11.1333|       S|    Mrs|          2|    0|\n|       1|     2|Nasser, Mrs. Nich...|female|14.0|    1|    0|30.0708|       C|    Mrs|          1|    0|\n|       1|     3|Sandstrom, Miss. ...|female| 4.0|    1|    1|   16.7|       S|   Miss|          2|    0|\n|       1|     1|Bonnell, Miss. El...|female|58.0|    0|    0|  26.55|       S|   Miss|          0|    1|\n|       0|     3|Saundercock, Mr. ...|  male|20.0|    0|    0|   8.05|       S|     Mr|          0|    1|\n|       0|     3|Andersson, Mr. An...|  male|39.0|    1|    5| 31.275|       S|     Mr|          6|    0|\n|       0|     3|Vestrom, Miss. Hu...|female|14.0|    0|    0| 7.8542|       S|   Miss|          0|    1|\n|       1|     2|Hewlett, Mrs. (Ma...|female|55.0|    0|    0|   16.0|       S|    Mrs|          0|    1|\n|       0|     3|Rice, Master. Eugene|  male| 2.0|    4|    1| 29.125|       Q| Master|          5|    0|\n|       1|     2|Williams, Mr. Cha...|  male|21.0|    0|    0|   13.0|       S|     Mr|          0|    1|\n|       0|     3|Vander Planke, Mr...|female|31.0|    1|    0|   18.0|       S|    Mrs|          1|    0|\n|       1|     3|Masselmani, Mrs. ...|female|21.0|    0|    0|  7.225|       C|    Mrs|          0|    1|\n+--------+------+--------------------+------+----+-----+-----+-------+--------+-------+-----------+-----+\nonly showing top 20 rows\n\n</div>",
       "datasetInfos": [],
       "metadata": {},
       "removedWidgets": [],
       "type": "html"
      }
     },
     "output_type": "display_data"
    }
   ],
   "source": [
    "## CREATE NEW VARIABLE\n",
    "\n",
    "# Create new column: jumlah family\n",
    "df = df.withColumn(\"Family_Size\", col('SibSp')+col('Parch')) \n",
    "\n",
    "# Create new column(Alone), Note: ketika Family_Size=0 maka merupakan Alone(1), dst\n",
    "df = df.withColumn('Alone',lit(0))  \n",
    "df = df.withColumn(\"Alone\",when(df[\"Family_Size\"] == 0, 1).otherwise(df[\"Alone\"]))\n",
    "df.show()"
   ]
  },
  {
   "cell_type": "code",
   "execution_count": 0,
   "metadata": {
    "application/vnd.databricks.v1+cell": {
     "inputWidgets": {},
     "nuid": "d1fa03b4-78ad-49f5-88b3-91a25de8ca20",
     "showTitle": false,
     "title": ""
    }
   },
   "outputs": [
    {
     "data": {
      "text/html": [
       "<style scoped>\n",
       "  .ansiout {\n",
       "    display: block;\n",
       "    unicode-bidi: embed;\n",
       "    white-space: pre-wrap;\n",
       "    word-wrap: break-word;\n",
       "    word-break: break-all;\n",
       "    font-family: \"Source Code Pro\", \"Menlo\", monospace;;\n",
       "    font-size: 13px;\n",
       "    color: #555;\n",
       "    margin-left: 4px;\n",
       "    line-height: 19px;\n",
       "  }\n",
       "</style>\n",
       "<div class=\"ansiout\"></div>"
      ]
     },
     "metadata": {
      "application/vnd.databricks.v1+output": {
       "addedWidgets": {},
       "arguments": {},
       "data": "<div class=\"ansiout\"></div>",
       "datasetInfos": [],
       "metadata": {},
       "removedWidgets": [],
       "type": "html"
      }
     },
     "output_type": "display_data"
    }
   ],
   "source": [
    "## Label Encoding (StringIndexer)\n",
    "def label_encoding(data, lis_cat_var):\n",
    "  indexers = [StringIndexer(inputCol=column,\n",
    "                           outputCol=column+\"_index\").fit(data) for column in lis_cat_var]\n",
    "  pipeline = Pipeline(stages=indexers)\n",
    "  df = pipeline.fit(data).transform(data)\n",
    "  \n",
    "  return df"
   ]
  },
  {
   "cell_type": "code",
   "execution_count": 0,
   "metadata": {
    "application/vnd.databricks.v1+cell": {
     "inputWidgets": {},
     "nuid": "cc8c54b0-4a51-4c0f-bd19-d627e76097a4",
     "showTitle": false,
     "title": ""
    }
   },
   "outputs": [
    {
     "data": {
      "text/html": [
       "<style scoped>\n",
       "  .ansiout {\n",
       "    display: block;\n",
       "    unicode-bidi: embed;\n",
       "    white-space: pre-wrap;\n",
       "    word-wrap: break-word;\n",
       "    word-break: break-all;\n",
       "    font-family: \"Source Code Pro\", \"Menlo\", monospace;;\n",
       "    font-size: 13px;\n",
       "    color: #555;\n",
       "    margin-left: 4px;\n",
       "    line-height: 19px;\n",
       "  }\n",
       "</style>\n",
       "<div class=\"ansiout\">+--------+------+--------------------+------+----+-----+-----+-------+--------+-------+-----------+-----+---------+--------------+-------------+\n",
       "Survived|Pclass|                Name|   Sex| Age|SibSp|Parch|   Fare|Embarked|Initial|Family_Size|Alone|Sex_index|Embarked_index|Initial_index|\n",
       "+--------+------+--------------------+------+----+-----+-----+-------+--------+-------+-----------+-----+---------+--------------+-------------+\n",
       "       0|     3|Braund, Mr. Owen ...|  male|22.0|    1|    0|   7.25|       S|     Mr|          1|    0|      0.0|           0.0|          0.0|\n",
       "       1|     1|Cumings, Mrs. Joh...|female|38.0|    1|    0|71.2833|       C|    Mrs|          1|    0|      1.0|           1.0|          2.0|\n",
       "       1|     3|Heikkinen, Miss. ...|female|26.0|    0|    0|  7.925|       S|   Miss|          0|    1|      1.0|           0.0|          1.0|\n",
       "       1|     1|Futrelle, Mrs. Ja...|female|35.0|    1|    0|   53.1|       S|    Mrs|          1|    0|      1.0|           0.0|          2.0|\n",
       "       0|     3|Allen, Mr. Willia...|  male|35.0|    0|    0|   8.05|       S|     Mr|          0|    1|      0.0|           0.0|          0.0|\n",
       "       0|     3|    Moran, Mr. James|  male|21.0|    0|    0| 8.4583|       Q|     Mr|          0|    1|      0.0|           2.0|          0.0|\n",
       "       0|     1|McCarthy, Mr. Tim...|  male|54.0|    0|    0|51.8625|       S|     Mr|          0|    1|      0.0|           0.0|          0.0|\n",
       "       0|     3|Palsson, Master. ...|  male| 2.0|    3|    1| 21.075|       S| Master|          4|    0|      0.0|           0.0|          3.0|\n",
       "       1|     3|Johnson, Mrs. Osc...|female|27.0|    0|    2|11.1333|       S|    Mrs|          2|    0|      1.0|           0.0|          2.0|\n",
       "       1|     2|Nasser, Mrs. Nich...|female|14.0|    1|    0|30.0708|       C|    Mrs|          1|    0|      1.0|           1.0|          2.0|\n",
       "       1|     3|Sandstrom, Miss. ...|female| 4.0|    1|    1|   16.7|       S|   Miss|          2|    0|      1.0|           0.0|          1.0|\n",
       "       1|     1|Bonnell, Miss. El...|female|58.0|    0|    0|  26.55|       S|   Miss|          0|    1|      1.0|           0.0|          1.0|\n",
       "       0|     3|Saundercock, Mr. ...|  male|20.0|    0|    0|   8.05|       S|     Mr|          0|    1|      0.0|           0.0|          0.0|\n",
       "       0|     3|Andersson, Mr. An...|  male|39.0|    1|    5| 31.275|       S|     Mr|          6|    0|      0.0|           0.0|          0.0|\n",
       "       0|     3|Vestrom, Miss. Hu...|female|14.0|    0|    0| 7.8542|       S|   Miss|          0|    1|      1.0|           0.0|          1.0|\n",
       "       1|     2|Hewlett, Mrs. (Ma...|female|55.0|    0|    0|   16.0|       S|    Mrs|          0|    1|      1.0|           0.0|          2.0|\n",
       "       0|     3|Rice, Master. Eugene|  male| 2.0|    4|    1| 29.125|       Q| Master|          5|    0|      0.0|           2.0|          3.0|\n",
       "       1|     2|Williams, Mr. Cha...|  male|21.0|    0|    0|   13.0|       S|     Mr|          0|    1|      0.0|           0.0|          0.0|\n",
       "       0|     3|Vander Planke, Mr...|female|31.0|    1|    0|   18.0|       S|    Mrs|          1|    0|      1.0|           0.0|          2.0|\n",
       "       1|     3|Masselmani, Mrs. ...|female|21.0|    0|    0|  7.225|       C|    Mrs|          0|    1|      1.0|           1.0|          2.0|\n",
       "+--------+------+--------------------+------+----+-----+-----+-------+--------+-------+-----------+-----+---------+--------------+-------------+\n",
       "only showing top 20 rows\n",
       "\n",
       "</div>"
      ]
     },
     "metadata": {
      "application/vnd.databricks.v1+output": {
       "addedWidgets": {},
       "arguments": {},
       "data": "<div class=\"ansiout\">+--------+------+--------------------+------+----+-----+-----+-------+--------+-------+-----------+-----+---------+--------------+-------------+\n|Survived|Pclass|                Name|   Sex| Age|SibSp|Parch|   Fare|Embarked|Initial|Family_Size|Alone|Sex_index|Embarked_index|Initial_index|\n+--------+------+--------------------+------+----+-----+-----+-------+--------+-------+-----------+-----+---------+--------------+-------------+\n|       0|     3|Braund, Mr. Owen ...|  male|22.0|    1|    0|   7.25|       S|     Mr|          1|    0|      0.0|           0.0|          0.0|\n|       1|     1|Cumings, Mrs. Joh...|female|38.0|    1|    0|71.2833|       C|    Mrs|          1|    0|      1.0|           1.0|          2.0|\n|       1|     3|Heikkinen, Miss. ...|female|26.0|    0|    0|  7.925|       S|   Miss|          0|    1|      1.0|           0.0|          1.0|\n|       1|     1|Futrelle, Mrs. Ja...|female|35.0|    1|    0|   53.1|       S|    Mrs|          1|    0|      1.0|           0.0|          2.0|\n|       0|     3|Allen, Mr. Willia...|  male|35.0|    0|    0|   8.05|       S|     Mr|          0|    1|      0.0|           0.0|          0.0|\n|       0|     3|    Moran, Mr. James|  male|21.0|    0|    0| 8.4583|       Q|     Mr|          0|    1|      0.0|           2.0|          0.0|\n|       0|     1|McCarthy, Mr. Tim...|  male|54.0|    0|    0|51.8625|       S|     Mr|          0|    1|      0.0|           0.0|          0.0|\n|       0|     3|Palsson, Master. ...|  male| 2.0|    3|    1| 21.075|       S| Master|          4|    0|      0.0|           0.0|          3.0|\n|       1|     3|Johnson, Mrs. Osc...|female|27.0|    0|    2|11.1333|       S|    Mrs|          2|    0|      1.0|           0.0|          2.0|\n|       1|     2|Nasser, Mrs. Nich...|female|14.0|    1|    0|30.0708|       C|    Mrs|          1|    0|      1.0|           1.0|          2.0|\n|       1|     3|Sandstrom, Miss. ...|female| 4.0|    1|    1|   16.7|       S|   Miss|          2|    0|      1.0|           0.0|          1.0|\n|       1|     1|Bonnell, Miss. El...|female|58.0|    0|    0|  26.55|       S|   Miss|          0|    1|      1.0|           0.0|          1.0|\n|       0|     3|Saundercock, Mr. ...|  male|20.0|    0|    0|   8.05|       S|     Mr|          0|    1|      0.0|           0.0|          0.0|\n|       0|     3|Andersson, Mr. An...|  male|39.0|    1|    5| 31.275|       S|     Mr|          6|    0|      0.0|           0.0|          0.0|\n|       0|     3|Vestrom, Miss. Hu...|female|14.0|    0|    0| 7.8542|       S|   Miss|          0|    1|      1.0|           0.0|          1.0|\n|       1|     2|Hewlett, Mrs. (Ma...|female|55.0|    0|    0|   16.0|       S|    Mrs|          0|    1|      1.0|           0.0|          2.0|\n|       0|     3|Rice, Master. Eugene|  male| 2.0|    4|    1| 29.125|       Q| Master|          5|    0|      0.0|           2.0|          3.0|\n|       1|     2|Williams, Mr. Cha...|  male|21.0|    0|    0|   13.0|       S|     Mr|          0|    1|      0.0|           0.0|          0.0|\n|       0|     3|Vander Planke, Mr...|female|31.0|    1|    0|   18.0|       S|    Mrs|          1|    0|      1.0|           0.0|          2.0|\n|       1|     3|Masselmani, Mrs. ...|female|21.0|    0|    0|  7.225|       C|    Mrs|          0|    1|      1.0|           1.0|          2.0|\n+--------+------+--------------------+------+----+-----+-----+-------+--------+-------+-----------+-----+---------+--------------+-------------+\nonly showing top 20 rows\n\n</div>",
       "datasetInfos": [],
       "metadata": {},
       "removedWidgets": [],
       "type": "html"
      }
     },
     "output_type": "display_data"
    }
   ],
   "source": [
    "lis_var = [\"Sex\",\"Embarked\",\"Initial\"]\n",
    "\n",
    "df = label_encoding(df, lis_var)\n",
    "df.show()"
   ]
  },
  {
   "cell_type": "code",
   "execution_count": 0,
   "metadata": {
    "application/vnd.databricks.v1+cell": {
     "inputWidgets": {},
     "nuid": "75433797-c653-48e8-a85f-27f08c12f4cb",
     "showTitle": false,
     "title": ""
    }
   },
   "outputs": [
    {
     "data": {
      "text/html": [
       "<style scoped>\n",
       "  .ansiout {\n",
       "    display: block;\n",
       "    unicode-bidi: embed;\n",
       "    white-space: pre-wrap;\n",
       "    word-wrap: break-word;\n",
       "    word-break: break-all;\n",
       "    font-family: \"Source Code Pro\", \"Menlo\", monospace;;\n",
       "    font-size: 13px;\n",
       "    color: #555;\n",
       "    margin-left: 4px;\n",
       "    line-height: 19px;\n",
       "  }\n",
       "</style>\n",
       "<div class=\"ansiout\">root\n",
       "-- Survived: integer (nullable = true)\n",
       "-- Pclass: integer (nullable = true)\n",
       "-- Name: string (nullable = true)\n",
       "-- Sex: string (nullable = true)\n",
       "-- Age: double (nullable = false)\n",
       "-- SibSp: integer (nullable = true)\n",
       "-- Parch: integer (nullable = true)\n",
       "-- Fare: double (nullable = true)\n",
       "-- Embarked: string (nullable = true)\n",
       "-- Initial: string (nullable = true)\n",
       "-- Family_Size: integer (nullable = true)\n",
       "-- Alone: integer (nullable = false)\n",
       "-- Sex_index: double (nullable = false)\n",
       "-- Embarked_index: double (nullable = false)\n",
       "-- Initial_index: double (nullable = false)\n",
       "\n",
       "</div>"
      ]
     },
     "metadata": {
      "application/vnd.databricks.v1+output": {
       "addedWidgets": {},
       "arguments": {},
       "data": "<div class=\"ansiout\">root\n |-- Survived: integer (nullable = true)\n |-- Pclass: integer (nullable = true)\n |-- Name: string (nullable = true)\n |-- Sex: string (nullable = true)\n |-- Age: double (nullable = false)\n |-- SibSp: integer (nullable = true)\n |-- Parch: integer (nullable = true)\n |-- Fare: double (nullable = true)\n |-- Embarked: string (nullable = true)\n |-- Initial: string (nullable = true)\n |-- Family_Size: integer (nullable = true)\n |-- Alone: integer (nullable = false)\n |-- Sex_index: double (nullable = false)\n |-- Embarked_index: double (nullable = false)\n |-- Initial_index: double (nullable = false)\n\n</div>",
       "datasetInfos": [],
       "metadata": {},
       "removedWidgets": [],
       "type": "html"
      }
     },
     "output_type": "display_data"
    }
   ],
   "source": [
    "df.printSchema()"
   ]
  },
  {
   "cell_type": "markdown",
   "metadata": {
    "application/vnd.databricks.v1+cell": {
     "inputWidgets": {},
     "nuid": "74a1296c-888f-4dff-b825-d8d057dfb3cb",
     "showTitle": false,
     "title": ""
    }
   },
   "source": [
    "# Feature Selections"
   ]
  },
  {
   "cell_type": "code",
   "execution_count": 0,
   "metadata": {
    "application/vnd.databricks.v1+cell": {
     "inputWidgets": {},
     "nuid": "1b499bf6-8ebf-428c-a373-e2ea3b2f51c5",
     "showTitle": false,
     "title": ""
    }
   },
   "outputs": [
    {
     "data": {
      "text/html": [
       "<style scoped>\n",
       "  .ansiout {\n",
       "    display: block;\n",
       "    unicode-bidi: embed;\n",
       "    white-space: pre-wrap;\n",
       "    word-wrap: break-word;\n",
       "    word-break: break-all;\n",
       "    font-family: \"Source Code Pro\", \"Menlo\", monospace;;\n",
       "    font-size: 13px;\n",
       "    color: #555;\n",
       "    margin-left: 4px;\n",
       "    line-height: 19px;\n",
       "  }\n",
       "</style>\n",
       "<div class=\"ansiout\">+--------+------+----+-----+-----+-------+-----------+-----+---------+--------------+-------------+\n",
       "Survived|Pclass| Age|SibSp|Parch|   Fare|Family_Size|Alone|Sex_index|Embarked_index|Initial_index|\n",
       "+--------+------+----+-----+-----+-------+-----------+-----+---------+--------------+-------------+\n",
       "       0|     3|22.0|    1|    0|   7.25|          1|    0|      0.0|           0.0|          0.0|\n",
       "       1|     1|38.0|    1|    0|71.2833|          1|    0|      1.0|           1.0|          2.0|\n",
       "       1|     3|26.0|    0|    0|  7.925|          0|    1|      1.0|           0.0|          1.0|\n",
       "       1|     1|35.0|    1|    0|   53.1|          1|    0|      1.0|           0.0|          2.0|\n",
       "       0|     3|35.0|    0|    0|   8.05|          0|    1|      0.0|           0.0|          0.0|\n",
       "       0|     3|21.0|    0|    0| 8.4583|          0|    1|      0.0|           2.0|          0.0|\n",
       "       0|     1|54.0|    0|    0|51.8625|          0|    1|      0.0|           0.0|          0.0|\n",
       "       0|     3| 2.0|    3|    1| 21.075|          4|    0|      0.0|           0.0|          3.0|\n",
       "       1|     3|27.0|    0|    2|11.1333|          2|    0|      1.0|           0.0|          2.0|\n",
       "       1|     2|14.0|    1|    0|30.0708|          1|    0|      1.0|           1.0|          2.0|\n",
       "       1|     3| 4.0|    1|    1|   16.7|          2|    0|      1.0|           0.0|          1.0|\n",
       "       1|     1|58.0|    0|    0|  26.55|          0|    1|      1.0|           0.0|          1.0|\n",
       "       0|     3|20.0|    0|    0|   8.05|          0|    1|      0.0|           0.0|          0.0|\n",
       "       0|     3|39.0|    1|    5| 31.275|          6|    0|      0.0|           0.0|          0.0|\n",
       "       0|     3|14.0|    0|    0| 7.8542|          0|    1|      1.0|           0.0|          1.0|\n",
       "       1|     2|55.0|    0|    0|   16.0|          0|    1|      1.0|           0.0|          2.0|\n",
       "       0|     3| 2.0|    4|    1| 29.125|          5|    0|      0.0|           2.0|          3.0|\n",
       "       1|     2|21.0|    0|    0|   13.0|          0|    1|      0.0|           0.0|          0.0|\n",
       "       0|     3|31.0|    1|    0|   18.0|          1|    0|      1.0|           0.0|          2.0|\n",
       "       1|     3|21.0|    0|    0|  7.225|          0|    1|      1.0|           1.0|          2.0|\n",
       "+--------+------+----+-----+-----+-------+-----------+-----+---------+--------------+-------------+\n",
       "only showing top 20 rows\n",
       "\n",
       "</div>"
      ]
     },
     "metadata": {
      "application/vnd.databricks.v1+output": {
       "addedWidgets": {},
       "arguments": {},
       "data": "<div class=\"ansiout\">+--------+------+----+-----+-----+-------+-----------+-----+---------+--------------+-------------+\n|Survived|Pclass| Age|SibSp|Parch|   Fare|Family_Size|Alone|Sex_index|Embarked_index|Initial_index|\n+--------+------+----+-----+-----+-------+-----------+-----+---------+--------------+-------------+\n|       0|     3|22.0|    1|    0|   7.25|          1|    0|      0.0|           0.0|          0.0|\n|       1|     1|38.0|    1|    0|71.2833|          1|    0|      1.0|           1.0|          2.0|\n|       1|     3|26.0|    0|    0|  7.925|          0|    1|      1.0|           0.0|          1.0|\n|       1|     1|35.0|    1|    0|   53.1|          1|    0|      1.0|           0.0|          2.0|\n|       0|     3|35.0|    0|    0|   8.05|          0|    1|      0.0|           0.0|          0.0|\n|       0|     3|21.0|    0|    0| 8.4583|          0|    1|      0.0|           2.0|          0.0|\n|       0|     1|54.0|    0|    0|51.8625|          0|    1|      0.0|           0.0|          0.0|\n|       0|     3| 2.0|    3|    1| 21.075|          4|    0|      0.0|           0.0|          3.0|\n|       1|     3|27.0|    0|    2|11.1333|          2|    0|      1.0|           0.0|          2.0|\n|       1|     2|14.0|    1|    0|30.0708|          1|    0|      1.0|           1.0|          2.0|\n|       1|     3| 4.0|    1|    1|   16.7|          2|    0|      1.0|           0.0|          1.0|\n|       1|     1|58.0|    0|    0|  26.55|          0|    1|      1.0|           0.0|          1.0|\n|       0|     3|20.0|    0|    0|   8.05|          0|    1|      0.0|           0.0|          0.0|\n|       0|     3|39.0|    1|    5| 31.275|          6|    0|      0.0|           0.0|          0.0|\n|       0|     3|14.0|    0|    0| 7.8542|          0|    1|      1.0|           0.0|          1.0|\n|       1|     2|55.0|    0|    0|   16.0|          0|    1|      1.0|           0.0|          2.0|\n|       0|     3| 2.0|    4|    1| 29.125|          5|    0|      0.0|           2.0|          3.0|\n|       1|     2|21.0|    0|    0|   13.0|          0|    1|      0.0|           0.0|          0.0|\n|       0|     3|31.0|    1|    0|   18.0|          1|    0|      1.0|           0.0|          2.0|\n|       1|     3|21.0|    0|    0|  7.225|          0|    1|      1.0|           1.0|          2.0|\n+--------+------+----+-----+-----+-------+-----------+-----+---------+--------------+-------------+\nonly showing top 20 rows\n\n</div>",
       "datasetInfos": [],
       "metadata": {},
       "removedWidgets": [],
       "type": "html"
      }
     },
     "output_type": "display_data"
    }
   ],
   "source": [
    "## drop variable yang tidak diperlukan\n",
    "df = df.drop(\"Name\",\"Embarked\",\"Sex\",\"Initial\")\n",
    "df.show()"
   ]
  },
  {
   "cell_type": "code",
   "execution_count": 0,
   "metadata": {
    "application/vnd.databricks.v1+cell": {
     "inputWidgets": {},
     "nuid": "70cb3929-0883-48a7-8820-4cc352e5ef00",
     "showTitle": false,
     "title": ""
    }
   },
   "outputs": [
    {
     "data": {
      "text/html": [
       "<style scoped>\n",
       "  .ansiout {\n",
       "    display: block;\n",
       "    unicode-bidi: embed;\n",
       "    white-space: pre-wrap;\n",
       "    word-wrap: break-word;\n",
       "    word-break: break-all;\n",
       "    font-family: \"Source Code Pro\", \"Menlo\", monospace;;\n",
       "    font-size: 13px;\n",
       "    color: #555;\n",
       "    margin-left: 4px;\n",
       "    line-height: 19px;\n",
       "  }\n",
       "</style>\n",
       "<div class=\"ansiout\"></div>"
      ]
     },
     "metadata": {
      "application/vnd.databricks.v1+output": {
       "addedWidgets": {},
       "arguments": {},
       "data": "<div class=\"ansiout\"></div>",
       "datasetInfos": [],
       "metadata": {},
       "removedWidgets": [],
       "type": "html"
      }
     },
     "output_type": "display_data"
    }
   ],
   "source": [
    "## Pearson Correlations\n",
    "def pearson_corr(data):\n",
    "  columnList = [item[0] for item in data.dtypes if item[1].startswith('int') or item[1].startswith('double')]\n",
    "  data = data.select(columnList)\n",
    "  \n",
    "  list_kolom = data.columns\n",
    "  vector_col = 'corr_features'\n",
    "  \n",
    "  assembler = VectorAssembler(inputCols=list_kolom, outputCol=vector_col)\n",
    "  myGraph_vector = assembler.transform(data).select(vector_col)\n",
    "  \n",
    "  matrix = Correlation.corr(myGraph_vector, vector_col).collect()[0][0]\n",
    "  corrmatrix = matrix.toArray().tolist()\n",
    "  df = spark.createDataFrame(corrmatrix, list_kolom)\n",
    "\n",
    "  return list_kolom, corrmatrix, df\n",
    "\n",
    "\n",
    "\n",
    "def plot_corr_matrix(corrmatrix, attr):\n",
    "    fig=plt.figure(figsize=(10,7))\n",
    "    ax=fig.add_subplot(111)\n",
    "    ax.set_title(\"Correlation Matrix\")\n",
    "    ax.set_xticklabels(['']+attr)\n",
    "    ax.set_yticklabels(['']+attr)\n",
    "    cax=ax.matshow(corrmatrix, vmax=1, vmin=-1)\n",
    "    fig.colorbar(cax)\n",
    "    plt.show()\n",
    "    \n"
   ]
  },
  {
   "cell_type": "code",
   "execution_count": 0,
   "metadata": {
    "application/vnd.databricks.v1+cell": {
     "inputWidgets": {},
     "nuid": "74b95879-915d-44fa-8fd1-5ab3897121cc",
     "showTitle": false,
     "title": ""
    }
   },
   "outputs": [
    {
     "data": {
      "image/png": "[encoded data removed]"
     },
     "metadata": {
      "application/vnd.databricks.v1+output": {
       "addedWidgets": {},
       "arguments": {},
       "data": "/plots/ce1ed92b-e562-4b70-929b-e9e0724643d4.png",
       "datasetInfos": [],
       "metadata": {},
       "removedWidgets": [],
       "type": "image"
      }
     },
     "output_type": "display_data"
    }
   ],
   "source": [
    "kolom_data, kormat, data_korelasi = pearson_corr(df)\n",
    "plot_corr_matrix(kormat, kolom_data)"
   ]
  },
  {
   "cell_type": "markdown",
   "metadata": {
    "application/vnd.databricks.v1+cell": {
     "inputWidgets": {},
     "nuid": "50949b3b-d1c5-43bc-9dad-18ecb018a5d4",
     "showTitle": false,
     "title": ""
    }
   },
   "source": [
    "# Modelling"
   ]
  },
  {
   "cell_type": "markdown",
   "metadata": {
    "application/vnd.databricks.v1+cell": {
     "inputWidgets": {},
     "nuid": "391049d0-f61e-43b5-b50d-2f3558afe189",
     "showTitle": false,
     "title": ""
    }
   },
   "source": [
    "### Splitting Data (Target variable Survived)"
   ]
  },
  {
   "cell_type": "code",
   "execution_count": 0,
   "metadata": {
    "application/vnd.databricks.v1+cell": {
     "inputWidgets": {},
     "nuid": "632c6518-e737-4a5d-80e7-40b24355db39",
     "showTitle": false,
     "title": ""
    }
   },
   "outputs": [
    {
     "data": {
      "text/html": [
       "<style scoped>\n",
       "  .ansiout {\n",
       "    display: block;\n",
       "    unicode-bidi: embed;\n",
       "    white-space: pre-wrap;\n",
       "    word-wrap: break-word;\n",
       "    word-break: break-all;\n",
       "    font-family: \"Source Code Pro\", \"Menlo\", monospace;;\n",
       "    font-size: 13px;\n",
       "    color: #555;\n",
       "    margin-left: 4px;\n",
       "    line-height: 19px;\n",
       "  }\n",
       "</style>\n",
       "<div class=\"ansiout\">+--------+------+----+-----+-----+-------+-----------+-----+---------+--------------+-------------+\n",
       "Survived|Pclass| Age|SibSp|Parch|   Fare|Family_Size|Alone|Sex_index|Embarked_index|Initial_index|\n",
       "+--------+------+----+-----+-----+-------+-----------+-----+---------+--------------+-------------+\n",
       "       0|     3|22.0|    1|    0|   7.25|          1|    0|      0.0|           0.0|          0.0|\n",
       "       1|     1|38.0|    1|    0|71.2833|          1|    0|      1.0|           1.0|          2.0|\n",
       "       1|     3|26.0|    0|    0|  7.925|          0|    1|      1.0|           0.0|          1.0|\n",
       "       1|     1|35.0|    1|    0|   53.1|          1|    0|      1.0|           0.0|          2.0|\n",
       "       0|     3|35.0|    0|    0|   8.05|          0|    1|      0.0|           0.0|          0.0|\n",
       "       0|     3|21.0|    0|    0| 8.4583|          0|    1|      0.0|           2.0|          0.0|\n",
       "       0|     1|54.0|    0|    0|51.8625|          0|    1|      0.0|           0.0|          0.0|\n",
       "       0|     3| 2.0|    3|    1| 21.075|          4|    0|      0.0|           0.0|          3.0|\n",
       "       1|     3|27.0|    0|    2|11.1333|          2|    0|      1.0|           0.0|          2.0|\n",
       "       1|     2|14.0|    1|    0|30.0708|          1|    0|      1.0|           1.0|          2.0|\n",
       "+--------+------+----+-----+-----+-------+-----------+-----+---------+--------------+-------------+\n",
       "only showing top 10 rows\n",
       "\n",
       "</div>"
      ]
     },
     "metadata": {
      "application/vnd.databricks.v1+output": {
       "addedWidgets": {},
       "arguments": {},
       "data": "<div class=\"ansiout\">+--------+------+----+-----+-----+-------+-----------+-----+---------+--------------+-------------+\n|Survived|Pclass| Age|SibSp|Parch|   Fare|Family_Size|Alone|Sex_index|Embarked_index|Initial_index|\n+--------+------+----+-----+-----+-------+-----------+-----+---------+--------------+-------------+\n|       0|     3|22.0|    1|    0|   7.25|          1|    0|      0.0|           0.0|          0.0|\n|       1|     1|38.0|    1|    0|71.2833|          1|    0|      1.0|           1.0|          2.0|\n|       1|     3|26.0|    0|    0|  7.925|          0|    1|      1.0|           0.0|          1.0|\n|       1|     1|35.0|    1|    0|   53.1|          1|    0|      1.0|           0.0|          2.0|\n|       0|     3|35.0|    0|    0|   8.05|          0|    1|      0.0|           0.0|          0.0|\n|       0|     3|21.0|    0|    0| 8.4583|          0|    1|      0.0|           2.0|          0.0|\n|       0|     1|54.0|    0|    0|51.8625|          0|    1|      0.0|           0.0|          0.0|\n|       0|     3| 2.0|    3|    1| 21.075|          4|    0|      0.0|           0.0|          3.0|\n|       1|     3|27.0|    0|    2|11.1333|          2|    0|      1.0|           0.0|          2.0|\n|       1|     2|14.0|    1|    0|30.0708|          1|    0|      1.0|           1.0|          2.0|\n+--------+------+----+-----+-----+-------+-----------+-----+---------+--------------+-------------+\nonly showing top 10 rows\n\n</div>",
       "datasetInfos": [],
       "metadata": {},
       "removedWidgets": [],
       "type": "html"
      }
     },
     "output_type": "display_data"
    }
   ],
   "source": [
    "df.show(10)"
   ]
  },
  {
   "cell_type": "code",
   "execution_count": 0,
   "metadata": {
    "application/vnd.databricks.v1+cell": {
     "inputWidgets": {},
     "nuid": "17012d32-55ec-4976-a798-4ed0df915201",
     "showTitle": false,
     "title": ""
    }
   },
   "outputs": [
    {
     "data": {
      "text/html": [
       "<style scoped>\n",
       "  .ansiout {\n",
       "    display: block;\n",
       "    unicode-bidi: embed;\n",
       "    white-space: pre-wrap;\n",
       "    word-wrap: break-word;\n",
       "    word-break: break-all;\n",
       "    font-family: \"Source Code Pro\", \"Menlo\", monospace;;\n",
       "    font-size: 13px;\n",
       "    color: #555;\n",
       "    margin-left: 4px;\n",
       "    line-height: 19px;\n",
       "  }\n",
       "</style>\n",
       "<div class=\"ansiout\">Out[41]: [&#39;Pclass&#39;,\n",
       " &#39;Age&#39;,\n",
       " &#39;SibSp&#39;,\n",
       " &#39;Parch&#39;,\n",
       " &#39;Fare&#39;,\n",
       " &#39;Family_Size&#39;,\n",
       " &#39;Alone&#39;,\n",
       " &#39;Sex_index&#39;,\n",
       " &#39;Embarked_index&#39;,\n",
       " &#39;Initial_index&#39;]</div>"
      ]
     },
     "metadata": {
      "application/vnd.databricks.v1+output": {
       "addedWidgets": {},
       "arguments": {},
       "data": "<div class=\"ansiout\">Out[41]: [&#39;Pclass&#39;,\n &#39;Age&#39;,\n &#39;SibSp&#39;,\n &#39;Parch&#39;,\n &#39;Fare&#39;,\n &#39;Family_Size&#39;,\n &#39;Alone&#39;,\n &#39;Sex_index&#39;,\n &#39;Embarked_index&#39;,\n &#39;Initial_index&#39;]</div>",
       "datasetInfos": [],
       "metadata": {},
       "removedWidgets": [],
       "type": "html"
      }
     },
     "output_type": "display_data"
    }
   ],
   "source": [
    "df.columns[1:]"
   ]
  },
  {
   "cell_type": "code",
   "execution_count": 0,
   "metadata": {
    "application/vnd.databricks.v1+cell": {
     "inputWidgets": {},
     "nuid": "69f64467-3ef3-4eb4-89cf-b58599d5e2ac",
     "showTitle": false,
     "title": ""
    }
   },
   "outputs": [
    {
     "data": {
      "text/html": [
       "<style scoped>\n",
       "  .ansiout {\n",
       "    display: block;\n",
       "    unicode-bidi: embed;\n",
       "    white-space: pre-wrap;\n",
       "    word-wrap: break-word;\n",
       "    word-break: break-all;\n",
       "    font-family: \"Source Code Pro\", \"Menlo\", monospace;;\n",
       "    font-size: 13px;\n",
       "    color: #555;\n",
       "    margin-left: 4px;\n",
       "    line-height: 19px;\n",
       "  }\n",
       "</style>\n",
       "<div class=\"ansiout\">/databricks/spark/python/pyspark/sql/pandas/conversion.py:92: UserWarning: toPandas attempted Arrow optimization because &#39;spark.sql.execution.arrow.pyspark.enabled&#39; is set to true; however, failed by the reason below:\n",
       "  Unable to convert the field features. If this column is not necessary, you may consider dropping it or converting to primitive type before the conversion.\n",
       "Direct cause: Unsupported type in conversion to Arrow: VectorUDT\n",
       "Attempting non-optimization as &#39;spark.sql.execution.arrow.pyspark.fallback.enabled&#39; is set to true.\n",
       "  warnings.warn(msg)\n",
       "Out[42]: </div>"
      ]
     },
     "metadata": {
      "application/vnd.databricks.v1+output": {
       "addedWidgets": {},
       "arguments": {},
       "data": "<div class=\"ansiout\">/databricks/spark/python/pyspark/sql/pandas/conversion.py:92: UserWarning: toPandas attempted Arrow optimization because &#39;spark.sql.execution.arrow.pyspark.enabled&#39; is set to true; however, failed by the reason below:\n  Unable to convert the field features. If this column is not necessary, you may consider dropping it or converting to primitive type before the conversion.\nDirect cause: Unsupported type in conversion to Arrow: VectorUDT\nAttempting non-optimization as &#39;spark.sql.execution.arrow.pyspark.fallback.enabled&#39; is set to true.\n  warnings.warn(msg)\nOut[42]: </div>",
       "datasetInfos": [],
       "metadata": {},
       "removedWidgets": [],
       "type": "html"
      }
     },
     "output_type": "display_data"
    },
    {
     "data": {
      "text/html": [
       "<div>\n",
       "<style scoped>\n",
       "    .dataframe tbody tr th:only-of-type {\n",
       "        vertical-align: middle;\n",
       "    }\n",
       "\n",
       "    .dataframe tbody tr th {\n",
       "        vertical-align: top;\n",
       "    }\n",
       "\n",
       "    .dataframe thead th {\n",
       "        text-align: right;\n",
       "    }\n",
       "</style>\n",
       "<table border=\"1\" class=\"dataframe\">\n",
       "  <thead>\n",
       "    <tr style=\"text-align: right;\">\n",
       "      <th></th>\n",
       "      <th>Survived</th>\n",
       "      <th>Pclass</th>\n",
       "      <th>Age</th>\n",
       "      <th>SibSp</th>\n",
       "      <th>Parch</th>\n",
       "      <th>Fare</th>\n",
       "      <th>Family_Size</th>\n",
       "      <th>Alone</th>\n",
       "      <th>Sex_index</th>\n",
       "      <th>Embarked_index</th>\n",
       "      <th>Initial_index</th>\n",
       "      <th>features</th>\n",
       "    </tr>\n",
       "  </thead>\n",
       "  <tbody>\n",
       "    <tr>\n",
       "      <th>0</th>\n",
       "      <td>0</td>\n",
       "      <td>3</td>\n",
       "      <td>22.0</td>\n",
       "      <td>1</td>\n",
       "      <td>0</td>\n",
       "      <td>7.2500</td>\n",
       "      <td>1</td>\n",
       "      <td>0</td>\n",
       "      <td>0.0</td>\n",
       "      <td>0.0</td>\n",
       "      <td>0.0</td>\n",
       "      <td>(3.0, 22.0, 1.0, 0.0, 7.25, 1.0, 0.0, 0.0, 0.0...</td>\n",
       "    </tr>\n",
       "    <tr>\n",
       "      <th>1</th>\n",
       "      <td>1</td>\n",
       "      <td>1</td>\n",
       "      <td>38.0</td>\n",
       "      <td>1</td>\n",
       "      <td>0</td>\n",
       "      <td>71.2833</td>\n",
       "      <td>1</td>\n",
       "      <td>0</td>\n",
       "      <td>1.0</td>\n",
       "      <td>1.0</td>\n",
       "      <td>2.0</td>\n",
       "      <td>[1.0, 38.0, 1.0, 0.0, 71.2833, 1.0, 0.0, 1.0, ...</td>\n",
       "    </tr>\n",
       "    <tr>\n",
       "      <th>2</th>\n",
       "      <td>1</td>\n",
       "      <td>3</td>\n",
       "      <td>26.0</td>\n",
       "      <td>0</td>\n",
       "      <td>0</td>\n",
       "      <td>7.9250</td>\n",
       "      <td>0</td>\n",
       "      <td>1</td>\n",
       "      <td>1.0</td>\n",
       "      <td>0.0</td>\n",
       "      <td>1.0</td>\n",
       "      <td>[3.0, 26.0, 0.0, 0.0, 7.925, 0.0, 1.0, 1.0, 0....</td>\n",
       "    </tr>\n",
       "  </tbody>\n",
       "</table>\n",
       "</div>"
      ]
     },
     "metadata": {
      "application/vnd.databricks.v1+output": {
       "addedWidgets": {},
       "arguments": {},
       "data": "<div>\n<style scoped>\n    .dataframe tbody tr th:only-of-type {\n        vertical-align: middle;\n    }\n\n    .dataframe tbody tr th {\n        vertical-align: top;\n    }\n\n    .dataframe thead th {\n        text-align: right;\n    }\n</style>\n<table border=\"1\" class=\"dataframe\">\n  <thead>\n    <tr style=\"text-align: right;\">\n      <th></th>\n      <th>Survived</th>\n      <th>Pclass</th>\n      <th>Age</th>\n      <th>SibSp</th>\n      <th>Parch</th>\n      <th>Fare</th>\n      <th>Family_Size</th>\n      <th>Alone</th>\n      <th>Sex_index</th>\n      <th>Embarked_index</th>\n      <th>Initial_index</th>\n      <th>features</th>\n    </tr>\n  </thead>\n  <tbody>\n    <tr>\n      <th>0</th>\n      <td>0</td>\n      <td>3</td>\n      <td>22.0</td>\n      <td>1</td>\n      <td>0</td>\n      <td>7.2500</td>\n      <td>1</td>\n      <td>0</td>\n      <td>0.0</td>\n      <td>0.0</td>\n      <td>0.0</td>\n      <td>(3.0, 22.0, 1.0, 0.0, 7.25, 1.0, 0.0, 0.0, 0.0...</td>\n    </tr>\n    <tr>\n      <th>1</th>\n      <td>1</td>\n      <td>1</td>\n      <td>38.0</td>\n      <td>1</td>\n      <td>0</td>\n      <td>71.2833</td>\n      <td>1</td>\n      <td>0</td>\n      <td>1.0</td>\n      <td>1.0</td>\n      <td>2.0</td>\n      <td>[1.0, 38.0, 1.0, 0.0, 71.2833, 1.0, 0.0, 1.0, ...</td>\n    </tr>\n    <tr>\n      <th>2</th>\n      <td>1</td>\n      <td>3</td>\n      <td>26.0</td>\n      <td>0</td>\n      <td>0</td>\n      <td>7.9250</td>\n      <td>0</td>\n      <td>1</td>\n      <td>1.0</td>\n      <td>0.0</td>\n      <td>1.0</td>\n      <td>[3.0, 26.0, 0.0, 0.0, 7.925, 0.0, 1.0, 1.0, 0....</td>\n    </tr>\n  </tbody>\n</table>\n</div>",
       "datasetInfos": [],
       "metadata": {},
       "removedWidgets": [],
       "textData": null,
       "type": "htmlSandbox"
      }
     },
     "output_type": "display_data"
    }
   ],
   "source": [
    "feature_assembler = VectorAssembler(inputCols = df.columns[1:], outputCol=\"features\")\n",
    "feature_vector= feature_assembler.transform(df)\n",
    "feature_vector.limit(3).toPandas()"
   ]
  },
  {
   "cell_type": "markdown",
   "metadata": {
    "application/vnd.databricks.v1+cell": {
     "inputWidgets": {},
     "nuid": "0a6951ff-0611-4147-a0fb-2be4a85d4fe0",
     "showTitle": false,
     "title": ""
    }
   },
   "source": [
    "# Splitting Data (Into Train and Test Data)"
   ]
  },
  {
   "cell_type": "code",
   "execution_count": 0,
   "metadata": {
    "application/vnd.databricks.v1+cell": {
     "inputWidgets": {},
     "nuid": "f2d151a4-699f-4eda-a052-5ae7a6165098",
     "showTitle": false,
     "title": ""
    }
   },
   "outputs": [
    {
     "data": {
      "text/html": [
       "<style scoped>\n",
       "  .ansiout {\n",
       "    display: block;\n",
       "    unicode-bidi: embed;\n",
       "    white-space: pre-wrap;\n",
       "    word-wrap: break-word;\n",
       "    word-break: break-all;\n",
       "    font-family: \"Source Code Pro\", \"Menlo\", monospace;;\n",
       "    font-size: 13px;\n",
       "    color: #555;\n",
       "    margin-left: 4px;\n",
       "    line-height: 19px;\n",
       "  }\n",
       "</style>\n",
       "<div class=\"ansiout\">+--------+------+----+-----+-----+--------+-----------+-----+---------+--------------+-------------+--------------------+\n",
       "Survived|Pclass| Age|SibSp|Parch|    Fare|Family_Size|Alone|Sex_index|Embarked_index|Initial_index|            features|\n",
       "+--------+------+----+-----+-----+--------+-----------+-----+---------+--------------+-------------+--------------------+\n",
       "       0|     1| 2.0|    1|    2|  151.55|          3|    0|      1.0|           0.0|          1.0|[1.0,2.0,1.0,2.0,...|\n",
       "       0|     1|18.0|    1|    0|   108.9|          1|    0|      0.0|           1.0|          0.0|[1.0,18.0,1.0,0.0...|\n",
       "       0|     1|19.0|    1|    0|    53.1|          1|    0|      0.0|           0.0|          0.0|(10,[0,1,2,4,5],[...|\n",
       "       0|     1|19.0|    3|    2|   263.0|          5|    0|      0.0|           0.0|          0.0|[1.0,19.0,3.0,2.0...|\n",
       "       0|     1|21.0|    0|    0|     0.0|          0|    1|      0.0|           0.0|          0.0|(10,[0,1,6],[1.0,...|\n",
       "       0|     1|21.0|    0|    0|    26.0|          0|    1|      0.0|           0.0|          0.0|(10,[0,1,4,6],[1....|\n",
       "       0|     1|21.0|    0|    0|   26.55|          0|    1|      0.0|           0.0|          0.0|(10,[0,1,4,6],[1....|\n",
       "       0|     1|21.0|    0|    0| 27.7208|          0|    1|      0.0|           1.0|          0.0|(10,[0,1,4,6,8],[...|\n",
       "       0|     1|21.0|    0|    0| 27.7208|          0|    1|      0.0|           1.0|          0.0|(10,[0,1,4,6,8],[...|\n",
       "       0|     1|21.0|    0|    0| 30.6958|          0|    1|      0.0|           1.0|          0.0|(10,[0,1,4,6,8],[...|\n",
       "       0|     1|21.0|    0|    0|    42.4|          0|    1|      0.0|           0.0|          0.0|(10,[0,1,4,6],[1....|\n",
       "       0|     1|21.0|    0|    0|221.7792|          0|    1|      0.0|           0.0|          0.0|(10,[0,1,4,6],[1....|\n",
       "       0|     1|21.0|    0|    0| 227.525|          0|    1|      0.0|           1.0|          0.0|(10,[0,1,4,6,8],[...|\n",
       "       0|     1|21.0|    0|    1| 77.2875|          1|    0|      0.0|           0.0|          0.0|(10,[0,1,3,4,5],[...|\n",
       "       0|     1|24.0|    0|    0|    79.2|          0|    1|      0.0|           1.0|          0.0|(10,[0,1,4,6,8],[...|\n",
       "       0|     1|24.0|    0|    1|247.5208|          1|    0|      0.0|           1.0|          0.0|[1.0,24.0,0.0,1.0...|\n",
       "       0|     1|25.0|    1|    2|  151.55|          3|    0|      1.0|           0.0|          2.0|[1.0,25.0,1.0,2.0...|\n",
       "       0|     1|27.0|    0|    2|   211.5|          2|    0|      0.0|           1.0|          0.0|[1.0,27.0,0.0,2.0...|\n",
       "       0|     1|28.0|    0|    0|    47.1|          0|    1|      0.0|           0.0|          0.0|(10,[0,1,4,6],[1....|\n",
       "       0|     1|29.0|    0|    0|    30.0|          0|    1|      0.0|           0.0|          0.0|(10,[0,1,4,6],[1....|\n",
       "+--------+------+----+-----+-----+--------+-----------+-----+---------+--------------+-------------+--------------------+\n",
       "only showing top 20 rows\n",
       "\n",
       "</div>"
      ]
     },
     "metadata": {
      "application/vnd.databricks.v1+output": {
       "addedWidgets": {},
       "arguments": {},
       "data": "<div class=\"ansiout\">+--------+------+----+-----+-----+--------+-----------+-----+---------+--------------+-------------+--------------------+\n|Survived|Pclass| Age|SibSp|Parch|    Fare|Family_Size|Alone|Sex_index|Embarked_index|Initial_index|            features|\n+--------+------+----+-----+-----+--------+-----------+-----+---------+--------------+-------------+--------------------+\n|       0|     1| 2.0|    1|    2|  151.55|          3|    0|      1.0|           0.0|          1.0|[1.0,2.0,1.0,2.0,...|\n|       0|     1|18.0|    1|    0|   108.9|          1|    0|      0.0|           1.0|          0.0|[1.0,18.0,1.0,0.0...|\n|       0|     1|19.0|    1|    0|    53.1|          1|    0|      0.0|           0.0|          0.0|(10,[0,1,2,4,5],[...|\n|       0|     1|19.0|    3|    2|   263.0|          5|    0|      0.0|           0.0|          0.0|[1.0,19.0,3.0,2.0...|\n|       0|     1|21.0|    0|    0|     0.0|          0|    1|      0.0|           0.0|          0.0|(10,[0,1,6],[1.0,...|\n|       0|     1|21.0|    0|    0|    26.0|          0|    1|      0.0|           0.0|          0.0|(10,[0,1,4,6],[1....|\n|       0|     1|21.0|    0|    0|   26.55|          0|    1|      0.0|           0.0|          0.0|(10,[0,1,4,6],[1....|\n|       0|     1|21.0|    0|    0| 27.7208|          0|    1|      0.0|           1.0|          0.0|(10,[0,1,4,6,8],[...|\n|       0|     1|21.0|    0|    0| 27.7208|          0|    1|      0.0|           1.0|          0.0|(10,[0,1,4,6,8],[...|\n|       0|     1|21.0|    0|    0| 30.6958|          0|    1|      0.0|           1.0|          0.0|(10,[0,1,4,6,8],[...|\n|       0|     1|21.0|    0|    0|    42.4|          0|    1|      0.0|           0.0|          0.0|(10,[0,1,4,6],[1....|\n|       0|     1|21.0|    0|    0|221.7792|          0|    1|      0.0|           0.0|          0.0|(10,[0,1,4,6],[1....|\n|       0|     1|21.0|    0|    0| 227.525|          0|    1|      0.0|           1.0|          0.0|(10,[0,1,4,6,8],[...|\n|       0|     1|21.0|    0|    1| 77.2875|          1|    0|      0.0|           0.0|          0.0|(10,[0,1,3,4,5],[...|\n|       0|     1|24.0|    0|    0|    79.2|          0|    1|      0.0|           1.0|          0.0|(10,[0,1,4,6,8],[...|\n|       0|     1|24.0|    0|    1|247.5208|          1|    0|      0.0|           1.0|          0.0|[1.0,24.0,0.0,1.0...|\n|       0|     1|25.0|    1|    2|  151.55|          3|    0|      1.0|           0.0|          2.0|[1.0,25.0,1.0,2.0...|\n|       0|     1|27.0|    0|    2|   211.5|          2|    0|      0.0|           1.0|          0.0|[1.0,27.0,0.0,2.0...|\n|       0|     1|28.0|    0|    0|    47.1|          0|    1|      0.0|           0.0|          0.0|(10,[0,1,4,6],[1....|\n|       0|     1|29.0|    0|    0|    30.0|          0|    1|      0.0|           0.0|          0.0|(10,[0,1,4,6],[1....|\n+--------+------+----+-----+-----+--------+-----------+-----+---------+--------------+-------------+--------------------+\nonly showing top 20 rows\n\n</div>",
       "datasetInfos": [],
       "metadata": {},
       "removedWidgets": [],
       "type": "html"
      }
     },
     "output_type": "display_data"
    }
   ],
   "source": [
    "# for data split in pyspark, we can use df.randomSplit()\n",
    "(train_df, test_df) = feature_vector.randomSplit([0.8, 0.2],seed = 11)\n",
    "train_df.show()"
   ]
  },
  {
   "cell_type": "code",
   "execution_count": 0,
   "metadata": {
    "application/vnd.databricks.v1+cell": {
     "inputWidgets": {},
     "nuid": "70f69a7f-e502-4d6c-b9f9-4f9326d8d83b",
     "showTitle": false,
     "title": ""
    }
   },
   "outputs": [
    {
     "data": {
      "text/html": [
       "<style scoped>\n",
       "  .ansiout {\n",
       "    display: block;\n",
       "    unicode-bidi: embed;\n",
       "    white-space: pre-wrap;\n",
       "    word-wrap: break-word;\n",
       "    word-break: break-all;\n",
       "    font-family: \"Source Code Pro\", \"Menlo\", monospace;;\n",
       "    font-size: 13px;\n",
       "    color: #555;\n",
       "    margin-left: 4px;\n",
       "    line-height: 19px;\n",
       "  }\n",
       "</style>\n",
       "<div class=\"ansiout\">root\n",
       "-- Survived: integer (nullable = true)\n",
       "-- Pclass: integer (nullable = true)\n",
       "-- Age: double (nullable = false)\n",
       "-- SibSp: integer (nullable = true)\n",
       "-- Parch: integer (nullable = true)\n",
       "-- Fare: double (nullable = true)\n",
       "-- Family_Size: integer (nullable = true)\n",
       "-- Alone: integer (nullable = false)\n",
       "-- Sex_index: double (nullable = false)\n",
       "-- Embarked_index: double (nullable = false)\n",
       "-- Initial_index: double (nullable = false)\n",
       "-- features: vector (nullable = true)\n",
       "\n",
       "</div>"
      ]
     },
     "metadata": {
      "application/vnd.databricks.v1+output": {
       "addedWidgets": {},
       "arguments": {},
       "data": "<div class=\"ansiout\">root\n |-- Survived: integer (nullable = true)\n |-- Pclass: integer (nullable = true)\n |-- Age: double (nullable = false)\n |-- SibSp: integer (nullable = true)\n |-- Parch: integer (nullable = true)\n |-- Fare: double (nullable = true)\n |-- Family_Size: integer (nullable = true)\n |-- Alone: integer (nullable = false)\n |-- Sex_index: double (nullable = false)\n |-- Embarked_index: double (nullable = false)\n |-- Initial_index: double (nullable = false)\n |-- features: vector (nullable = true)\n\n</div>",
       "datasetInfos": [],
       "metadata": {},
       "removedWidgets": [],
       "type": "html"
      }
     },
     "output_type": "display_data"
    }
   ],
   "source": [
    "train_df.printSchema()"
   ]
  },
  {
   "cell_type": "code",
   "execution_count": 0,
   "metadata": {
    "application/vnd.databricks.v1+cell": {
     "inputWidgets": {},
     "nuid": "0e15d140-890d-4358-97ac-12683f923392",
     "showTitle": false,
     "title": ""
    }
   },
   "outputs": [
    {
     "data": {
      "text/html": [
       "<style scoped>\n",
       "  .ansiout {\n",
       "    display: block;\n",
       "    unicode-bidi: embed;\n",
       "    white-space: pre-wrap;\n",
       "    word-wrap: break-word;\n",
       "    word-break: break-all;\n",
       "    font-family: \"Source Code Pro\", \"Menlo\", monospace;;\n",
       "    font-size: 13px;\n",
       "    color: #555;\n",
       "    margin-left: 4px;\n",
       "    line-height: 19px;\n",
       "  }\n",
       "</style>\n",
       "<div class=\"ansiout\">+--------------------+--------+\n",
       "            features|Survived|\n",
       "+--------------------+--------+\n",
       "(10,[0,1,2,4,5],[...|       0|\n",
       "(10,[0,1,2,4,5],[...|       1|\n",
       "(10,[0,1,2,4,5],[...|       0|\n",
       "(10,[0,1,2,4,5],[...|       1|\n",
       "(10,[0,1,2,4,5],[...|       0|\n",
       "(10,[0,1,2,4,5],[...|       1|\n",
       "(10,[0,1,2,4,5],[...|       0|\n",
       "(10,[0,1,2,4,5],[...|       0|\n",
       "(10,[0,1,2,4,5],[...|       0|\n",
       "(10,[0,1,2,4,5],[...|       0|\n",
       "(10,[0,1,2,4,5],[...|       0|\n",
       "(10,[0,1,2,4,5],[...|       0|\n",
       "(10,[0,1,2,4,5],[...|       1|\n",
       "(10,[0,1,2,4,5],[...|       0|\n",
       "(10,[0,1,2,4,5],[...|       0|\n",
       "(10,[0,1,2,4,5],[...|       0|\n",
       "(10,[0,1,2,4,5],[...|       0|\n",
       "(10,[0,1,2,4,5],[...|       0|\n",
       "(10,[0,1,2,4,5],[...|       0|\n",
       "(10,[0,1,2,4,5],[...|       0|\n",
       "+--------------------+--------+\n",
       "only showing top 20 rows\n",
       "\n",
       "</div>"
      ]
     },
     "metadata": {
      "application/vnd.databricks.v1+output": {
       "addedWidgets": {},
       "arguments": {},
       "data": "<div class=\"ansiout\">+--------------------+--------+\n|            features|Survived|\n+--------------------+--------+\n|(10,[0,1,2,4,5],[...|       0|\n|(10,[0,1,2,4,5],[...|       1|\n|(10,[0,1,2,4,5],[...|       0|\n|(10,[0,1,2,4,5],[...|       1|\n|(10,[0,1,2,4,5],[...|       0|\n|(10,[0,1,2,4,5],[...|       1|\n|(10,[0,1,2,4,5],[...|       0|\n|(10,[0,1,2,4,5],[...|       0|\n|(10,[0,1,2,4,5],[...|       0|\n|(10,[0,1,2,4,5],[...|       0|\n|(10,[0,1,2,4,5],[...|       0|\n|(10,[0,1,2,4,5],[...|       0|\n|(10,[0,1,2,4,5],[...|       1|\n|(10,[0,1,2,4,5],[...|       0|\n|(10,[0,1,2,4,5],[...|       0|\n|(10,[0,1,2,4,5],[...|       0|\n|(10,[0,1,2,4,5],[...|       0|\n|(10,[0,1,2,4,5],[...|       0|\n|(10,[0,1,2,4,5],[...|       0|\n|(10,[0,1,2,4,5],[...|       0|\n+--------------------+--------+\nonly showing top 20 rows\n\n</div>",
       "datasetInfos": [],
       "metadata": {},
       "removedWidgets": [],
       "type": "html"
      }
     },
     "output_type": "display_data"
    }
   ],
   "source": [
    "# Select features column for features training and 'Survived' as label to predict\n",
    "titanic_df = feature_vector.select(['features','Survived'])\n",
    "\n",
    "# Split the dataset to train_df and test_df\n",
    "train_df,test_df = titanic_df.randomSplit([0.75,0.25])\n",
    "train_df.show()"
   ]
  },
  {
   "cell_type": "code",
   "execution_count": 0,
   "metadata": {
    "application/vnd.databricks.v1+cell": {
     "inputWidgets": {},
     "nuid": "33841677-e1b3-442c-93ad-7606edccebc9",
     "showTitle": false,
     "title": ""
    }
   },
   "outputs": [
    {
     "data": {
      "text/html": [
       "<style scoped>\n",
       "  .ansiout {\n",
       "    display: block;\n",
       "    unicode-bidi: embed;\n",
       "    white-space: pre-wrap;\n",
       "    word-wrap: break-word;\n",
       "    word-break: break-all;\n",
       "    font-family: \"Source Code Pro\", \"Menlo\", monospace;;\n",
       "    font-size: 13px;\n",
       "    color: #555;\n",
       "    margin-left: 4px;\n",
       "    line-height: 19px;\n",
       "  }\n",
       "</style>\n",
       "<div class=\"ansiout\">/databricks/spark/python/pyspark/sql/pandas/conversion.py:92: UserWarning: toPandas attempted Arrow optimization because &#39;spark.sql.execution.arrow.pyspark.enabled&#39; is set to true; however, failed by the reason below:\n",
       "  Unable to convert the field features. If this column is not necessary, you may consider dropping it or converting to primitive type before the conversion.\n",
       "Direct cause: Unsupported type in conversion to Arrow: VectorUDT\n",
       "Attempting non-optimization as &#39;spark.sql.execution.arrow.pyspark.fallback.enabled&#39; is set to true.\n",
       "  warnings.warn(msg)\n",
       "Out[46]: </div>"
      ]
     },
     "metadata": {
      "application/vnd.databricks.v1+output": {
       "addedWidgets": {},
       "arguments": {},
       "data": "<div class=\"ansiout\">/databricks/spark/python/pyspark/sql/pandas/conversion.py:92: UserWarning: toPandas attempted Arrow optimization because &#39;spark.sql.execution.arrow.pyspark.enabled&#39; is set to true; however, failed by the reason below:\n  Unable to convert the field features. If this column is not necessary, you may consider dropping it or converting to primitive type before the conversion.\nDirect cause: Unsupported type in conversion to Arrow: VectorUDT\nAttempting non-optimization as &#39;spark.sql.execution.arrow.pyspark.fallback.enabled&#39; is set to true.\n  warnings.warn(msg)\nOut[46]: </div>",
       "datasetInfos": [],
       "metadata": {},
       "removedWidgets": [],
       "type": "html"
      }
     },
     "output_type": "display_data"
    },
    {
     "data": {
      "text/html": [
       "<div>\n",
       "<style scoped>\n",
       "    .dataframe tbody tr th:only-of-type {\n",
       "        vertical-align: middle;\n",
       "    }\n",
       "\n",
       "    .dataframe tbody tr th {\n",
       "        vertical-align: top;\n",
       "    }\n",
       "\n",
       "    .dataframe thead th {\n",
       "        text-align: right;\n",
       "    }\n",
       "</style>\n",
       "<table border=\"1\" class=\"dataframe\">\n",
       "  <thead>\n",
       "    <tr style=\"text-align: right;\">\n",
       "      <th></th>\n",
       "      <th>features</th>\n",
       "      <th>Survived</th>\n",
       "    </tr>\n",
       "  </thead>\n",
       "  <tbody>\n",
       "    <tr>\n",
       "      <th>0</th>\n",
       "      <td>(1.0, 31.0, 1.0, 0.0, 52.0, 1.0, 0.0, 0.0, 0.0...</td>\n",
       "      <td>0</td>\n",
       "    </tr>\n",
       "    <tr>\n",
       "      <th>1</th>\n",
       "      <td>(1.0, 31.0, 1.0, 0.0, 57.0, 1.0, 0.0, 0.0, 0.0...</td>\n",
       "      <td>1</td>\n",
       "    </tr>\n",
       "    <tr>\n",
       "      <th>2</th>\n",
       "      <td>(1.0, 37.0, 1.0, 0.0, 53.1, 1.0, 0.0, 0.0, 0.0...</td>\n",
       "      <td>0</td>\n",
       "    </tr>\n",
       "    <tr>\n",
       "      <th>3</th>\n",
       "      <td>(1.0, 38.0, 1.0, 0.0, 90.0, 1.0, 0.0, 0.0, 0.0...</td>\n",
       "      <td>1</td>\n",
       "    </tr>\n",
       "    <tr>\n",
       "      <th>4</th>\n",
       "      <td>(1.0, 42.0, 1.0, 0.0, 52.0, 1.0, 0.0, 0.0, 0.0...</td>\n",
       "      <td>0</td>\n",
       "    </tr>\n",
       "  </tbody>\n",
       "</table>\n",
       "</div>"
      ]
     },
     "metadata": {
      "application/vnd.databricks.v1+output": {
       "addedWidgets": {},
       "arguments": {},
       "data": "<div>\n<style scoped>\n    .dataframe tbody tr th:only-of-type {\n        vertical-align: middle;\n    }\n\n    .dataframe tbody tr th {\n        vertical-align: top;\n    }\n\n    .dataframe thead th {\n        text-align: right;\n    }\n</style>\n<table border=\"1\" class=\"dataframe\">\n  <thead>\n    <tr style=\"text-align: right;\">\n      <th></th>\n      <th>features</th>\n      <th>Survived</th>\n    </tr>\n  </thead>\n  <tbody>\n    <tr>\n      <th>0</th>\n      <td>(1.0, 31.0, 1.0, 0.0, 52.0, 1.0, 0.0, 0.0, 0.0...</td>\n      <td>0</td>\n    </tr>\n    <tr>\n      <th>1</th>\n      <td>(1.0, 31.0, 1.0, 0.0, 57.0, 1.0, 0.0, 0.0, 0.0...</td>\n      <td>1</td>\n    </tr>\n    <tr>\n      <th>2</th>\n      <td>(1.0, 37.0, 1.0, 0.0, 53.1, 1.0, 0.0, 0.0, 0.0...</td>\n      <td>0</td>\n    </tr>\n    <tr>\n      <th>3</th>\n      <td>(1.0, 38.0, 1.0, 0.0, 90.0, 1.0, 0.0, 0.0, 0.0...</td>\n      <td>1</td>\n    </tr>\n    <tr>\n      <th>4</th>\n      <td>(1.0, 42.0, 1.0, 0.0, 52.0, 1.0, 0.0, 0.0, 0.0...</td>\n      <td>0</td>\n    </tr>\n  </tbody>\n</table>\n</div>",
       "datasetInfos": [],
       "metadata": {},
       "removedWidgets": [],
       "textData": null,
       "type": "htmlSandbox"
      }
     },
     "output_type": "display_data"
    }
   ],
   "source": [
    "train_df.limit(5).toPandas()"
   ]
  },
  {
   "cell_type": "markdown",
   "metadata": {
    "application/vnd.databricks.v1+cell": {
     "inputWidgets": {},
     "nuid": "a431d44a-d4d9-45cd-ae55-3f47d818f198",
     "showTitle": false,
     "title": ""
    }
   },
   "source": [
    "# Building Model"
   ]
  },
  {
   "cell_type": "markdown",
   "metadata": {
    "application/vnd.databricks.v1+cell": {
     "inputWidgets": {},
     "nuid": "2f1f39af-1a31-4d97-a846-4695a4b9d1c9",
     "showTitle": false,
     "title": ""
    }
   },
   "source": [
    "## 1. Logistic Regression"
   ]
  },
  {
   "cell_type": "code",
   "execution_count": 0,
   "metadata": {
    "application/vnd.databricks.v1+cell": {
     "inputWidgets": {},
     "nuid": "c827e28e-82bd-45a3-a364-352248f72842",
     "showTitle": false,
     "title": ""
    }
   },
   "outputs": [
    {
     "data": {
      "text/html": [
       "<style scoped>\n",
       "  .ansiout {\n",
       "    display: block;\n",
       "    unicode-bidi: embed;\n",
       "    white-space: pre-wrap;\n",
       "    word-wrap: break-word;\n",
       "    word-break: break-all;\n",
       "    font-family: \"Source Code Pro\", \"Menlo\", monospace;;\n",
       "    font-size: 13px;\n",
       "    color: #555;\n",
       "    margin-left: 4px;\n",
       "    line-height: 19px;\n",
       "  }\n",
       "</style>\n",
       "<div class=\"ansiout\"></div>"
      ]
     },
     "metadata": {
      "application/vnd.databricks.v1+output": {
       "addedWidgets": {},
       "arguments": {},
       "data": "<div class=\"ansiout\"></div>",
       "datasetInfos": [],
       "metadata": {},
       "removedWidgets": [],
       "type": "html"
      }
     },
     "output_type": "display_data"
    }
   ],
   "source": [
    "from pyspark.sql.types import FloatType\n",
    "\n",
    "\n",
    "## Building Model\n",
    "def model(algoritma, grid_parameter, data_train, data_test, target):\n",
    "  \n",
    "  # DEFINE CROSS VALIDATION WITH PARAMETERS\n",
    "  tvs = TrainValidationSplit(estimator= algoritma, \n",
    "                             estimatorParamMaps= grid_parameter, \n",
    "                             evaluator=MulticlassClassificationEvaluator(labelCol = target), \n",
    "                             trainRatio=0.8)\n",
    "  \n",
    "  model = tvs.fit(data_train)\n",
    "  model_predictions= model.transform(data_test)\n",
    "  \n",
    "  return model_predictions\n",
    "\n",
    "\n",
    "\n",
    "# Getting Score \n",
    "def SCORE (model_predictions, target):\n",
    "  \n",
    "  # 1. AKURASI\n",
    "  akurasi = MulticlassClassificationEvaluator(\n",
    "    labelCol='Survived',metricName='accuracy').evaluate(model_predictions)\n",
    "  akurasi = \"{:.2f}\".format(akurasi)\n",
    "  \n",
    "  # 2.a. PRESISI (Weighted)\n",
    "  presisi_bobot = MulticlassClassificationEvaluator(\n",
    "    labelCol='Survived',metricName='weightedPrecision').evaluate(model_predictions)\n",
    "  presisi_bobot = \"{:.2f}\".format(presisi_bobot)\n",
    "  \n",
    "  # 2.b. PRESISI (Macro / imbalanced cases)\n",
    "  presisi_makro = MulticlassClassificationEvaluator(\n",
    "    labelCol='Survived',metricName='precisionByLabel').evaluate(model_predictions)\n",
    "  presisi_makro = \"{:.2f}\".format(presisi_makro)\n",
    "  \n",
    "  \n",
    "  # 3. Recall (Macro / imbalanced cases)\n",
    "  recall_makro = MulticlassClassificationEvaluator(\n",
    "    labelCol='Survived',metricName='recallByLabel').evaluate(model_predictions)\n",
    "  recall_makro = \"{:.2f}\".format(recall_makro)\n",
    "  \n",
    "  \n",
    "  # 4. F1 (Macro / imbalanced cases)\n",
    "  F1_makro = MulticlassClassificationEvaluator(\n",
    "    labelCol='Survived',metricName='fMeasureByLabel').evaluate(model_predictions)\n",
    "  F1_makro = \"{:.2f}\".format(F1_makro)\n",
    "  \n",
    "  \n",
    "  # 5. AUC_ROC\n",
    "  sc = SparkContext.getOrCreate()\n",
    "  result = model_predictions.select(['probability', target])\n",
    "  \n",
    "  ## collect setiap rownya\n",
    "  hasil_collecting = result.collect()\n",
    "  results_list = []\n",
    "  \n",
    "  for i in hasil_collecting:\n",
    "    list_hasil = (float(i[0][0]), 1.0-float(i[1]))\n",
    "    results_list.append(list_hasil)\n",
    "    \n",
    "  scoreAndLabels = sc.parallelize(results_list)\n",
    "  metrics = metric(scoreAndLabels)\n",
    "  nilai_ROC = metrics.areaUnderROC\n",
    "  nilai_ROC = \"{:.2f}\".format(nilai_ROC)\n",
    "  \n",
    "  \n",
    "  \n",
    "  # 6. PLOT AUC\n",
    "  fpr = dict()\n",
    "  tpr = dict()\n",
    "  roc_auc = dict()\n",
    "  \n",
    "  y_test = [i[1] for i in results_list]\n",
    "  y_score = [i[0] for i in results_list]\n",
    "  fpr, tpr, _ = roc_curve(y_test, y_score)\n",
    "  roc_auc = auc(fpr, tpr)\n",
    "  \n",
    "  %matplotlib inline\n",
    "  plt.figure()\n",
    "  plt.plot(fpr, tpr, label='ROC curve (area = %0.2f)' % roc_auc)\n",
    "  plt.plot([0, 1], [0, 1], 'k--')\n",
    "  plt.xlim([0.0, 1.0])\n",
    "  plt.ylim([0.0, 1.05])\n",
    "  plt.xlabel('False Positive Rate')\n",
    "  plt.ylabel('True Positive Rate')\n",
    "  plt.title('Area under the ROC Curve')\n",
    "  plt.legend(loc=\"lower right\")\n",
    "  plt.show()\n",
    "  \n",
    "  \n",
    "  # 7. CONFUSION MATRIX\n",
    "  preds_and_labels = model_predictions.select(\n",
    "    ['prediction', target]).withColumn('label',F.col(target).cast(FloatType())).orderBy('prediction')\n",
    "  \n",
    "  preds_and_labels = preds_and_labels.select(['prediction','label'])\n",
    "  metrics_multiclass = MulticlassMetrics(preds_and_labels.rdd.map(tuple))\n",
    "  cm = metrics_multiclass.confusionMatrix().toArray()\n",
    "  \n",
    "  plt.figure(figsize = (10,7))\n",
    "  sns.heatmap(cm, annot=True)\n",
    "  \n",
    "  \n",
    "  return print('akurasi :', akurasi), print('presisi :', presisi_makro), print(\"recall :\", recall_makro), print(\"F1 :\", F1_makro), print('ROC Score :', nilai_ROC)\n",
    "\n"
   ]
  },
  {
   "cell_type": "code",
   "execution_count": 0,
   "metadata": {
    "application/vnd.databricks.v1+cell": {
     "inputWidgets": {},
     "nuid": "737eae89-c509-46f4-ac15-a6441b346b52",
     "showTitle": false,
     "title": ""
    }
   },
   "outputs": [
    {
     "data": {
      "text/html": [
       "<style scoped>\n",
       "  .ansiout {\n",
       "    display: block;\n",
       "    unicode-bidi: embed;\n",
       "    white-space: pre-wrap;\n",
       "    word-wrap: break-word;\n",
       "    word-break: break-all;\n",
       "    font-family: \"Source Code Pro\", \"Menlo\", monospace;;\n",
       "    font-size: 13px;\n",
       "    color: #555;\n",
       "    margin-left: 4px;\n",
       "    line-height: 19px;\n",
       "  }\n",
       "</style>\n",
       "<div class=\"ansiout\"></div>"
      ]
     },
     "metadata": {
      "application/vnd.databricks.v1+output": {
       "addedWidgets": {},
       "arguments": {},
       "data": "<div class=\"ansiout\"></div>",
       "datasetInfos": [],
       "metadata": {},
       "removedWidgets": [],
       "type": "html"
      }
     },
     "output_type": "display_data"
    }
   ],
   "source": [
    "## Logistic Regression\n",
    "\n",
    "# DEFINE ALGORITHM \n",
    "lr = LogisticRegression(labelCol=\"Survived\")\n",
    "\n",
    "# DEFINE GRID PARAMETERS\n",
    "paramGrid = ParamGridBuilder().addGrid(lr.regParam, (0.01, 0.1))\\\n",
    "                              .addGrid(lr.maxIter, (5, 10))\\\n",
    "                              .addGrid(lr.tol, (1e-4, 1e-5))\\\n",
    "                              .addGrid(lr.elasticNetParam, (0.25,0.75))\\\n",
    "                              .build()"
   ]
  },
  {
   "cell_type": "code",
   "execution_count": 0,
   "metadata": {
    "application/vnd.databricks.v1+cell": {
     "inputWidgets": {},
     "nuid": "449f01c3-07a5-4b86-aa6a-3bf2e88f3c0b",
     "showTitle": false,
     "title": ""
    }
   },
   "outputs": [
    {
     "data": {
      "text/html": [
       "<style scoped>\n",
       "  .ansiout {\n",
       "    display: block;\n",
       "    unicode-bidi: embed;\n",
       "    white-space: pre-wrap;\n",
       "    word-wrap: break-word;\n",
       "    word-break: break-all;\n",
       "    font-family: \"Source Code Pro\", \"Menlo\", monospace;;\n",
       "    font-size: 13px;\n",
       "    color: #555;\n",
       "    margin-left: 4px;\n",
       "    line-height: 19px;\n",
       "  }\n",
       "</style>\n",
       "<div class=\"ansiout\">Out[96]: DataFrame[features: vector, Survived: int, rawPrediction: vector, probability: vector, prediction: double]</div>"
      ]
     },
     "metadata": {
      "application/vnd.databricks.v1+output": {
       "addedWidgets": {},
       "arguments": {},
       "data": "<div class=\"ansiout\">Out[96]: DataFrame[features: vector, Survived: int, rawPrediction: vector, probability: vector, prediction: double]</div>",
       "datasetInfos": [],
       "metadata": {},
       "removedWidgets": [],
       "type": "html"
      }
     },
     "output_type": "display_data"
    }
   ],
   "source": [
    "model_lr = model(lr, paramGrid, train_df, test_df, \"Survived\")\n",
    "model_lr"
   ]
  },
  {
   "cell_type": "code",
   "execution_count": 0,
   "metadata": {
    "application/vnd.databricks.v1+cell": {
     "inputWidgets": {},
     "nuid": "3cbe8a1a-b813-4f56-b86e-c7e8de0b7f92",
     "showTitle": false,
     "title": ""
    }
   },
   "outputs": [
    {
     "data": {
      "image/png": "[encoded data removed]"
     },
     "metadata": {
      "application/vnd.databricks.v1+output": {
       "addedWidgets": {},
       "arguments": {},
       "data": "/plots/92bd5084-92d5-4cbe-bd3e-5def727b429d.png",
       "datasetInfos": [],
       "metadata": {},
       "removedWidgets": [],
       "type": "image"
      }
     },
     "output_type": "display_data"
    },
    {
     "data": {
      "text/html": [
       "<style scoped>\n",
       "  .ansiout {\n",
       "    display: block;\n",
       "    unicode-bidi: embed;\n",
       "    white-space: pre-wrap;\n",
       "    word-wrap: break-word;\n",
       "    word-break: break-all;\n",
       "    font-family: \"Source Code Pro\", \"Menlo\", monospace;;\n",
       "    font-size: 13px;\n",
       "    color: #555;\n",
       "    margin-left: 4px;\n",
       "    line-height: 19px;\n",
       "  }\n",
       "</style>\n",
       "<div class=\"ansiout\">akurasi : 0.81\n",
       "presisi : 0.81\n",
       "recall : 0.90\n",
       "F1 : 0.86\n",
       "ROC Score : 0.85\n",
       "</div>"
      ]
     },
     "metadata": {
      "application/vnd.databricks.v1+output": {
       "addedWidgets": {},
       "arguments": {},
       "data": "<div class=\"ansiout\">akurasi : 0.81\npresisi : 0.81\nrecall : 0.90\nF1 : 0.86\nROC Score : 0.85\n</div>",
       "datasetInfos": [],
       "metadata": {},
       "removedWidgets": [],
       "type": "html"
      }
     },
     "output_type": "display_data"
    },
    {
     "data": {
      "image/png": "[encoded data removed]"
     },
     "metadata": {
      "application/vnd.databricks.v1+output": {
       "addedWidgets": {},
       "arguments": {},
       "data": "/plots/837c5f1b-d7fd-4b77-9717-efccb0dc9737.png",
       "datasetInfos": [],
       "metadata": {},
       "removedWidgets": [],
       "type": "image"
      }
     },
     "output_type": "display_data"
    }
   ],
   "source": [
    "## Score\n",
    "model_logistic = SCORE(model_lr, 'Survived')"
   ]
  },
  {
   "cell_type": "markdown",
   "metadata": {
    "application/vnd.databricks.v1+cell": {
     "inputWidgets": {},
     "nuid": "df513616-19f8-4490-9b8c-ab17cf2bcd43",
     "showTitle": false,
     "title": ""
    }
   },
   "source": [
    "## 2. RF"
   ]
  },
  {
   "cell_type": "code",
   "execution_count": 0,
   "metadata": {
    "application/vnd.databricks.v1+cell": {
     "inputWidgets": {},
     "nuid": "13586772-b528-4b09-b1d4-4c9e7d5341b1",
     "showTitle": false,
     "title": ""
    }
   },
   "outputs": [
    {
     "data": {
      "text/html": [
       "<style scoped>\n",
       "  .ansiout {\n",
       "    display: block;\n",
       "    unicode-bidi: embed;\n",
       "    white-space: pre-wrap;\n",
       "    word-wrap: break-word;\n",
       "    word-break: break-all;\n",
       "    font-family: \"Source Code Pro\", \"Menlo\", monospace;;\n",
       "    font-size: 13px;\n",
       "    color: #555;\n",
       "    margin-left: 4px;\n",
       "    line-height: 19px;\n",
       "  }\n",
       "</style>\n",
       "<div class=\"ansiout\"></div>"
      ]
     },
     "metadata": {
      "application/vnd.databricks.v1+output": {
       "addedWidgets": {},
       "arguments": {},
       "data": "<div class=\"ansiout\"></div>",
       "datasetInfos": [],
       "metadata": {},
       "removedWidgets": [],
       "type": "html"
      }
     },
     "output_type": "display_data"
    }
   ],
   "source": [
    "rf = RandomForestClassifier(labelCol='Survived')\n",
    "\n",
    "paramGrid_rf = ParamGridBuilder().addGrid(rf.maxDepth, [5, 10, 20]) \\\n",
    "                              .addGrid(rf.maxBins, [20, 32, 50]) \\\n",
    "                              .addGrid(rf.numTrees, [20, 40, 60 ]) \\\n",
    "                              .addGrid(rf.impurity, [\"gini\", \"entropy\"]) \\\n",
    "                              .addGrid(rf.minInstancesPerNode, [1, 5, 10]) \\\n",
    "                              .build()"
   ]
  },
  {
   "cell_type": "code",
   "execution_count": 0,
   "metadata": {
    "application/vnd.databricks.v1+cell": {
     "inputWidgets": {},
     "nuid": "a632a5f4-c7a5-49ff-8c46-d8d824514fcb",
     "showTitle": false,
     "title": ""
    }
   },
   "outputs": [
    {
     "data": {
      "text/html": [
       "<style scoped>\n",
       "  .ansiout {\n",
       "    display: block;\n",
       "    unicode-bidi: embed;\n",
       "    white-space: pre-wrap;\n",
       "    word-wrap: break-word;\n",
       "    word-break: break-all;\n",
       "    font-family: \"Source Code Pro\", \"Menlo\", monospace;;\n",
       "    font-size: 13px;\n",
       "    color: #555;\n",
       "    margin-left: 4px;\n",
       "    line-height: 19px;\n",
       "  }\n",
       "</style>\n",
       "<div class=\"ansiout\">/databricks/spark/python/pyspark/ml/util.py:838: UserWarning: Cannot find mlflow module. To enable MLflow logging, install mlflow from PyPI.\n",
       "  warnings.warn(_MLflowInstrumentation._NO_MLFLOW_WARNING)\n",
       "Out[60]: DataFrame[features: vector, Survived: int, rawPrediction: vector, probability: vector, prediction: double]</div>"
      ]
     },
     "metadata": {
      "application/vnd.databricks.v1+output": {
       "addedWidgets": {},
       "arguments": {},
       "data": "<div class=\"ansiout\">/databricks/spark/python/pyspark/ml/util.py:838: UserWarning: Cannot find mlflow module. To enable MLflow logging, install mlflow from PyPI.\n  warnings.warn(_MLflowInstrumentation._NO_MLFLOW_WARNING)\nOut[60]: DataFrame[features: vector, Survived: int, rawPrediction: vector, probability: vector, prediction: double]</div>",
       "datasetInfos": [],
       "metadata": {},
       "removedWidgets": [],
       "type": "html"
      }
     },
     "output_type": "display_data"
    }
   ],
   "source": [
    "model_rf = model(rf, paramGrid_rf, train_df, test_df, \"Survived\")\n",
    "model_rf"
   ]
  },
  {
   "cell_type": "code",
   "execution_count": 0,
   "metadata": {
    "application/vnd.databricks.v1+cell": {
     "inputWidgets": {},
     "nuid": "b36794c6-165a-4bc0-b331-70d56223504c",
     "showTitle": false,
     "title": ""
    }
   },
   "outputs": [
    {
     "data": {
      "image/png": "[encoded data removed]"
     },
     "metadata": {
      "application/vnd.databricks.v1+output": {
       "addedWidgets": {},
       "arguments": {},
       "data": "/plots/24adc2ac-c4fd-400d-9500-67a932e6f5d2.png",
       "datasetInfos": [],
       "metadata": {},
       "removedWidgets": [],
       "type": "image"
      }
     },
     "output_type": "display_data"
    },
    {
     "data": {
      "text/html": [
       "<style scoped>\n",
       "  .ansiout {\n",
       "    display: block;\n",
       "    unicode-bidi: embed;\n",
       "    white-space: pre-wrap;\n",
       "    word-wrap: break-word;\n",
       "    word-break: break-all;\n",
       "    font-family: \"Source Code Pro\", \"Menlo\", monospace;;\n",
       "    font-size: 13px;\n",
       "    color: #555;\n",
       "    margin-left: 4px;\n",
       "    line-height: 19px;\n",
       "  }\n",
       "</style>\n",
       "<div class=\"ansiout\">akurasi : 0.81\n",
       "presisi : 0.81\n",
       "recall : 0.91\n",
       "F1 : 0.85\n",
       "ROC Score : 0.86\n",
       "</div>"
      ]
     },
     "metadata": {
      "application/vnd.databricks.v1+output": {
       "addedWidgets": {},
       "arguments": {},
       "data": "<div class=\"ansiout\">akurasi : 0.81\npresisi : 0.81\nrecall : 0.91\nF1 : 0.85\nROC Score : 0.86\n</div>",
       "datasetInfos": [],
       "metadata": {},
       "removedWidgets": [],
       "type": "html"
      }
     },
     "output_type": "display_data"
    }
   ],
   "source": [
    "## Score\n",
    "model_random_forest = SCORE(model_rf, 'Survived')"
   ]
  },
  {
   "cell_type": "markdown",
   "metadata": {
    "application/vnd.databricks.v1+cell": {
     "inputWidgets": {},
     "nuid": "55acd779-1008-46c7-b2db-0bb7542f9a51",
     "showTitle": false,
     "title": ""
    }
   },
   "source": [
    "## 3. Gradient Boosting Classifier"
   ]
  },
  {
   "cell_type": "code",
   "execution_count": 0,
   "metadata": {
    "application/vnd.databricks.v1+cell": {
     "inputWidgets": {},
     "nuid": "b147962a-a1f8-4c6d-9184-c59347802881",
     "showTitle": false,
     "title": ""
    }
   },
   "outputs": [
    {
     "data": {
      "text/html": [
       "<style scoped>\n",
       "  .ansiout {\n",
       "    display: block;\n",
       "    unicode-bidi: embed;\n",
       "    white-space: pre-wrap;\n",
       "    word-wrap: break-word;\n",
       "    word-break: break-all;\n",
       "    font-family: \"Source Code Pro\", \"Menlo\", monospace;;\n",
       "    font-size: 13px;\n",
       "    color: #555;\n",
       "    margin-left: 4px;\n",
       "    line-height: 19px;\n",
       "  }\n",
       "</style>\n",
       "<div class=\"ansiout\">/databricks/spark/python/pyspark/ml/util.py:838: UserWarning: Cannot find mlflow module. To enable MLflow logging, install mlflow from PyPI.\n",
       "  warnings.warn(_MLflowInstrumentation._NO_MLFLOW_WARNING)\n",
       "</div>"
      ]
     },
     "metadata": {
      "application/vnd.databricks.v1+output": {
       "addedWidgets": {},
       "arguments": {},
       "data": "<div class=\"ansiout\">/databricks/spark/python/pyspark/ml/util.py:838: UserWarning: Cannot find mlflow module. To enable MLflow logging, install mlflow from PyPI.\n  warnings.warn(_MLflowInstrumentation._NO_MLFLOW_WARNING)\n</div>",
       "datasetInfos": [],
       "metadata": {},
       "removedWidgets": [],
       "type": "html"
      }
     },
     "output_type": "display_data"
    },
    {
     "data": {
      "text/html": [
       "<style scoped>\n",
       "  .ansiout {\n",
       "    display: block;\n",
       "    unicode-bidi: embed;\n",
       "    white-space: pre-wrap;\n",
       "    word-wrap: break-word;\n",
       "    word-break: break-all;\n",
       "    font-family: \"Source Code Pro\", \"Menlo\", monospace;;\n",
       "    font-size: 13px;\n",
       "    color: #555;\n",
       "    margin-left: 4px;\n",
       "    line-height: 19px;\n",
       "  }\n",
       "</style>"
      ]
     },
     "metadata": {
      "application/vnd.databricks.v1+output": {
       "arguments": {},
       "data": "",
       "errorSummary": "Cancelled",
       "errorTraceType": "html",
       "metadata": {},
       "type": "ipynbError"
      }
     },
     "output_type": "display_data"
    }
   ],
   "source": [
    "GB_class = GBTClassifier(labelCol=\"Survived\")\n",
    "paramGrid_GradientBoost = ParamGridBuilder().addGrid(GB_class.maxDepth, [5, 10, 20]) \\\n",
    "                                            .addGrid(GB_class.maxBins, [20, 32, 50]) \\\n",
    "                                            .addGrid(GB_class.maxIter, [10, 20, 30]) \\\n",
    "                                            .addGrid(GB_class.minInstancesPerNode, [1, 5, 10]) \\\n",
    "                                            .build()\n",
    "\n",
    "model_GB = model(GB_class, paramGrid_GradientBoost, train_df, test_df, \"Survived\")\n",
    "model_GB"
   ]
  },
  {
   "cell_type": "code",
   "execution_count": 0,
   "metadata": {
    "application/vnd.databricks.v1+cell": {
     "inputWidgets": {},
     "nuid": "0eedd428-3a98-46b1-99e1-909015bc451d",
     "showTitle": false,
     "title": ""
    }
   },
   "outputs": [
    {
     "data": {
      "text/html": [
       "<style scoped>\n",
       "  .ansiout {\n",
       "    display: block;\n",
       "    unicode-bidi: embed;\n",
       "    white-space: pre-wrap;\n",
       "    word-wrap: break-word;\n",
       "    word-break: break-all;\n",
       "    font-family: \"Source Code Pro\", \"Menlo\", monospace;;\n",
       "    font-size: 13px;\n",
       "    color: #555;\n",
       "    margin-left: 4px;\n",
       "    line-height: 19px;\n",
       "  }\n",
       "</style>\n",
       "<div class=\"ansiout\"></div>"
      ]
     },
     "metadata": {
      "application/vnd.databricks.v1+output": {
       "addedWidgets": {},
       "arguments": {},
       "data": "<div class=\"ansiout\"></div>",
       "datasetInfos": [],
       "metadata": {},
       "removedWidgets": [],
       "type": "html"
      }
     },
     "output_type": "display_data"
    },
    {
     "data": {
      "text/html": [
       "<style scoped>\n",
       "  .ansiout {\n",
       "    display: block;\n",
       "    unicode-bidi: embed;\n",
       "    white-space: pre-wrap;\n",
       "    word-wrap: break-word;\n",
       "    word-break: break-all;\n",
       "    font-family: \"Source Code Pro\", \"Menlo\", monospace;;\n",
       "    font-size: 13px;\n",
       "    color: #555;\n",
       "    margin-left: 4px;\n",
       "    line-height: 19px;\n",
       "  }\n",
       "</style>\n",
       "<div class=\"ansiout\"><span class=\"ansi-red-fg\">---------------------------------------------------------------------------</span>\n",
       "<span class=\"ansi-red-fg\">NameError</span>                                 Traceback (most recent call last)\n",
       "<span class=\"ansi-green-fg\">&lt;command-232692831056334&gt;</span> in <span class=\"ansi-cyan-fg\">&lt;module&gt;</span>\n",
       "<span class=\"ansi-green-intense-fg ansi-bold\">      1</span> <span class=\"ansi-red-fg\">## Score</span>\n",
       "<span class=\"ansi-green-fg\">----&gt; 2</span><span class=\"ansi-red-fg\"> </span>SCORE_model_GB <span class=\"ansi-blue-fg\">=</span> SCORE<span class=\"ansi-blue-fg\">(</span>model_GB<span class=\"ansi-blue-fg\">,</span> <span class=\"ansi-blue-fg\">&#39;Survived&#39;</span><span class=\"ansi-blue-fg\">)</span>\n",
       "\n",
       "<span class=\"ansi-red-fg\">NameError</span>: name &#39;model_GB&#39; is not defined</div>"
      ]
     },
     "metadata": {
      "application/vnd.databricks.v1+output": {
       "arguments": {},
       "data": "<div class=\"ansiout\"><span class=\"ansi-red-fg\">---------------------------------------------------------------------------</span>\n<span class=\"ansi-red-fg\">NameError</span>                                 Traceback (most recent call last)\n<span class=\"ansi-green-fg\">&lt;command-232692831056334&gt;</span> in <span class=\"ansi-cyan-fg\">&lt;module&gt;</span>\n<span class=\"ansi-green-intense-fg ansi-bold\">      1</span> <span class=\"ansi-red-fg\">## Score</span>\n<span class=\"ansi-green-fg\">----&gt; 2</span><span class=\"ansi-red-fg\"> </span>SCORE_model_GB <span class=\"ansi-blue-fg\">=</span> SCORE<span class=\"ansi-blue-fg\">(</span>model_GB<span class=\"ansi-blue-fg\">,</span> <span class=\"ansi-blue-fg\">&#39;Survived&#39;</span><span class=\"ansi-blue-fg\">)</span>\n\n<span class=\"ansi-red-fg\">NameError</span>: name &#39;model_GB&#39; is not defined</div>",
       "errorSummary": "<span class=\"ansi-red-fg\">NameError</span>: name &#39;model_GB&#39; is not defined",
       "errorTraceType": "html",
       "metadata": {},
       "type": "ipynbError"
      }
     },
     "output_type": "display_data"
    }
   ],
   "source": [
    "## Score\n",
    "SCORE_model_GB = SCORE(model_GB, 'Survived')"
   ]
  },
  {
   "cell_type": "code",
   "execution_count": 0,
   "metadata": {
    "application/vnd.databricks.v1+cell": {
     "inputWidgets": {},
     "nuid": "5951f5c7-3677-4c7b-af1c-fcec782a9632",
     "showTitle": false,
     "title": ""
    }
   },
   "outputs": [
    {
     "data": {
      "text/html": [
       "<style scoped>\n",
       "  .ansiout {\n",
       "    display: block;\n",
       "    unicode-bidi: embed;\n",
       "    white-space: pre-wrap;\n",
       "    word-wrap: break-word;\n",
       "    word-break: break-all;\n",
       "    font-family: \"Source Code Pro\", \"Menlo\", monospace;;\n",
       "    font-size: 13px;\n",
       "    color: #555;\n",
       "    margin-left: 4px;\n",
       "    line-height: 19px;\n",
       "  }\n",
       "</style>\n",
       "<div class=\"ansiout\">+--------------------+--------+--------------------+--------------------+----------+\n",
       "            features|Survived|       rawPrediction|         probability|prediction|\n",
       "+--------------------+--------+--------------------+--------------------+----------+\n",
       "(10,[0,1,2,4,5],[...|       0|[0.80907675750378...|[0.69191273203593...|       0.0|\n",
       "(10,[0,1,2,4,5],[...|       1|[0.84791124481392...|[0.70012879492541...|       0.0|\n",
       "(10,[0,1,2,4,5],[...|       0|[0.77177361837317...|[0.68390443806476...|       0.0|\n",
       "(10,[0,1,2,4,5],[...|       0|[0.72785627319277...|[0.67433467031963...|       0.0|\n",
       "(10,[0,1,2,4,5],[...|       0|[0.74213478265810...|[0.67746249793190...|       0.0|\n",
       "(10,[0,1,2,4,5],[...|       1|[0.95684665349158...|[0.72249000862231...|       0.0|\n",
       "(10,[0,1,2,4,5],[...|       1|[0.54567348025201...|[0.63313122405281...|       0.0|\n",
       "(10,[0,1,2,4,5],[...|       0|[1.32024977223805...|[0.78922325911221...|       0.0|\n",
       "(10,[0,1,2,4,5],[...|       1|[2.16691521122854...|[0.89723889346754...|       0.0|\n",
       "(10,[0,1,2,4,5],[...|       0|[2.11978484957984...|[0.89281134151967...|       0.0|\n",
       "+--------------------+--------+--------------------+--------------------+----------+\n",
       "only showing top 10 rows\n",
       "\n",
       "</div>"
      ]
     },
     "metadata": {
      "application/vnd.databricks.v1+output": {
       "addedWidgets": {},
       "arguments": {},
       "data": "<div class=\"ansiout\">+--------------------+--------+--------------------+--------------------+----------+\n|            features|Survived|       rawPrediction|         probability|prediction|\n+--------------------+--------+--------------------+--------------------+----------+\n|(10,[0,1,2,4,5],[...|       0|[0.80907675750378...|[0.69191273203593...|       0.0|\n|(10,[0,1,2,4,5],[...|       1|[0.84791124481392...|[0.70012879492541...|       0.0|\n|(10,[0,1,2,4,5],[...|       0|[0.77177361837317...|[0.68390443806476...|       0.0|\n|(10,[0,1,2,4,5],[...|       0|[0.72785627319277...|[0.67433467031963...|       0.0|\n|(10,[0,1,2,4,5],[...|       0|[0.74213478265810...|[0.67746249793190...|       0.0|\n|(10,[0,1,2,4,5],[...|       1|[0.95684665349158...|[0.72249000862231...|       0.0|\n|(10,[0,1,2,4,5],[...|       1|[0.54567348025201...|[0.63313122405281...|       0.0|\n|(10,[0,1,2,4,5],[...|       0|[1.32024977223805...|[0.78922325911221...|       0.0|\n|(10,[0,1,2,4,5],[...|       1|[2.16691521122854...|[0.89723889346754...|       0.0|\n|(10,[0,1,2,4,5],[...|       0|[2.11978484957984...|[0.89281134151967...|       0.0|\n+--------------------+--------+--------------------+--------------------+----------+\nonly showing top 10 rows\n\n</div>",
       "datasetInfos": [],
       "metadata": {},
       "removedWidgets": [],
       "type": "html"
      }
     },
     "output_type": "display_data"
    }
   ],
   "source": [
    "model_lr.show(10)"
   ]
  },
  {
   "cell_type": "code",
   "execution_count": 0,
   "metadata": {
    "application/vnd.databricks.v1+cell": {
     "inputWidgets": {},
     "nuid": "358a26c0-ad4a-4eb5-9923-54a336761dbb",
     "showTitle": false,
     "title": ""
    }
   },
   "outputs": [
    {
     "data": {
      "text/html": [
       "<style scoped>\n",
       "  .ansiout {\n",
       "    display: block;\n",
       "    unicode-bidi: embed;\n",
       "    white-space: pre-wrap;\n",
       "    word-wrap: break-word;\n",
       "    word-break: break-all;\n",
       "    font-family: \"Source Code Pro\", \"Menlo\", monospace;;\n",
       "    font-size: 13px;\n",
       "    color: #555;\n",
       "    margin-left: 4px;\n",
       "    line-height: 19px;\n",
       "  }\n",
       "</style>\n",
       "<div class=\"ansiout\">+----------+--------+\n",
       "prediction|Survived|\n",
       "+----------+--------+\n",
       "       0.0|       0|\n",
       "       0.0|       1|\n",
       "       0.0|       0|\n",
       "       0.0|       0|\n",
       "       0.0|       0|\n",
       "       0.0|       1|\n",
       "       0.0|       1|\n",
       "       0.0|       0|\n",
       "       0.0|       1|\n",
       "       0.0|       0|\n",
       "+----------+--------+\n",
       "only showing top 10 rows\n",
       "\n",
       "</div>"
      ]
     },
     "metadata": {
      "application/vnd.databricks.v1+output": {
       "addedWidgets": {},
       "arguments": {},
       "data": "<div class=\"ansiout\">+----------+--------+\n|prediction|Survived|\n+----------+--------+\n|       0.0|       0|\n|       0.0|       1|\n|       0.0|       0|\n|       0.0|       0|\n|       0.0|       0|\n|       0.0|       1|\n|       0.0|       1|\n|       0.0|       0|\n|       0.0|       1|\n|       0.0|       0|\n+----------+--------+\nonly showing top 10 rows\n\n</div>",
       "datasetInfos": [],
       "metadata": {},
       "removedWidgets": [],
       "type": "html"
      }
     },
     "output_type": "display_data"
    }
   ],
   "source": [
    "dt  = model_lr.select(['prediction', 'Survived'])\n",
    "dt.show(10)"
   ]
  },
  {
   "cell_type": "code",
   "execution_count": 0,
   "metadata": {
    "application/vnd.databricks.v1+cell": {
     "inputWidgets": {},
     "nuid": "90c850e8-a546-4ba5-b955-e71ff1cc3092",
     "showTitle": false,
     "title": ""
    }
   },
   "outputs": [
    {
     "data": {
      "text/html": [
       "<style scoped>\n",
       "  .ansiout {\n",
       "    display: block;\n",
       "    unicode-bidi: embed;\n",
       "    white-space: pre-wrap;\n",
       "    word-wrap: break-word;\n",
       "    word-break: break-all;\n",
       "    font-family: \"Source Code Pro\", \"Menlo\", monospace;;\n",
       "    font-size: 13px;\n",
       "    color: #555;\n",
       "    margin-left: 4px;\n",
       "    line-height: 19px;\n",
       "  }\n",
       "</style>\n",
       "<div class=\"ansiout\">True Positives: 60\n",
       "True Negatives: 127\n",
       "False Positives: 14\n",
       "False Negatives: 29\n",
       "Total 230\n",
       "</div>"
      ]
     },
     "metadata": {
      "application/vnd.databricks.v1+output": {
       "addedWidgets": {},
       "arguments": {},
       "data": "<div class=\"ansiout\">True Positives: 60\nTrue Negatives: 127\nFalse Positives: 14\nFalse Negatives: 29\nTotal 230\n</div>",
       "datasetInfos": [],
       "metadata": {},
       "removedWidgets": [],
       "type": "html"
      }
     },
     "output_type": "display_data"
    }
   ],
   "source": [
    "tp = dt[(dt.Survived == 1) & (dt.prediction == 1)].count()\n",
    "tn = dt[(dt.Survived == 0) & (dt.prediction == 0)].count()\n",
    "fp = dt[(dt.Survived == 0) & (dt.prediction == 1)].count()\n",
    "fn = dt[(dt.Survived == 1) & (dt.prediction == 0)].count()\n",
    "print (\"True Positives:\", tp)\n",
    "print (\"True Negatives:\", tn)\n",
    "print (\"False Positives:\", fp)\n",
    "print (\"False Negatives:\", fn)\n",
    "print (\"Total\", dt.count())\n"
   ]
  },
  {
   "cell_type": "code",
   "execution_count": 0,
   "metadata": {
    "application/vnd.databricks.v1+cell": {
     "inputWidgets": {},
     "nuid": "cd662747-cc3d-4dfc-a340-28755ec4e6eb",
     "showTitle": false,
     "title": ""
    }
   },
   "outputs": [
    {
     "data": {
      "text/html": [
       "<style scoped>\n",
       "  .ansiout {\n",
       "    display: block;\n",
       "    unicode-bidi: embed;\n",
       "    white-space: pre-wrap;\n",
       "    word-wrap: break-word;\n",
       "    word-break: break-all;\n",
       "    font-family: \"Source Code Pro\", \"Menlo\", monospace;;\n",
       "    font-size: 13px;\n",
       "    color: #555;\n",
       "    margin-left: 4px;\n",
       "    line-height: 19px;\n",
       "  }\n",
       "</style>\n",
       "<div class=\"ansiout\">+----------+--------+--------+\n",
       "prediction|Survived|      AB|\n",
       "+----------+--------+--------+\n",
       "       0.0|       0|{0, 0.0}|\n",
       "       0.0|       1|{1, 0.0}|\n",
       "       0.0|       0|{0, 0.0}|\n",
       "       0.0|       0|{0, 0.0}|\n",
       "       0.0|       0|{0, 0.0}|\n",
       "       0.0|       1|{1, 0.0}|\n",
       "       0.0|       1|{1, 0.0}|\n",
       "       0.0|       0|{0, 0.0}|\n",
       "       0.0|       1|{1, 0.0}|\n",
       "       0.0|       0|{0, 0.0}|\n",
       "       0.0|       0|{0, 0.0}|\n",
       "       0.0|       0|{0, 0.0}|\n",
       "       0.0|       0|{0, 0.0}|\n",
       "       0.0|       0|{0, 0.0}|\n",
       "       0.0|       0|{0, 0.0}|\n",
       "       0.0|       0|{0, 0.0}|\n",
       "       0.0|       0|{0, 0.0}|\n",
       "       0.0|       1|{1, 0.0}|\n",
       "       0.0|       1|{1, 0.0}|\n",
       "       0.0|       1|{1, 0.0}|\n",
       "+----------+--------+--------+\n",
       "only showing top 20 rows\n",
       "\n",
       "</div>"
      ]
     },
     "metadata": {
      "application/vnd.databricks.v1+output": {
       "addedWidgets": {},
       "arguments": {},
       "data": "<div class=\"ansiout\">+----------+--------+--------+\n|prediction|Survived|      AB|\n+----------+--------+--------+\n|       0.0|       0|{0, 0.0}|\n|       0.0|       1|{1, 0.0}|\n|       0.0|       0|{0, 0.0}|\n|       0.0|       0|{0, 0.0}|\n|       0.0|       0|{0, 0.0}|\n|       0.0|       1|{1, 0.0}|\n|       0.0|       1|{1, 0.0}|\n|       0.0|       0|{0, 0.0}|\n|       0.0|       1|{1, 0.0}|\n|       0.0|       0|{0, 0.0}|\n|       0.0|       0|{0, 0.0}|\n|       0.0|       0|{0, 0.0}|\n|       0.0|       0|{0, 0.0}|\n|       0.0|       0|{0, 0.0}|\n|       0.0|       0|{0, 0.0}|\n|       0.0|       0|{0, 0.0}|\n|       0.0|       0|{0, 0.0}|\n|       0.0|       1|{1, 0.0}|\n|       0.0|       1|{1, 0.0}|\n|       0.0|       1|{1, 0.0}|\n+----------+--------+--------+\nonly showing top 20 rows\n\n</div>",
       "datasetInfos": [],
       "metadata": {},
       "removedWidgets": [],
       "type": "html"
      }
     },
     "output_type": "display_data"
    }
   ],
   "source": [
    "from pyspark.sql.functions import col, struct\n",
    "\n",
    "aab = dt.withColumn(\"AB\", struct(\"Survived\", \"prediction\"))\n",
    "aab.show()"
   ]
  },
  {
   "cell_type": "code",
   "execution_count": 0,
   "metadata": {
    "application/vnd.databricks.v1+cell": {
     "inputWidgets": {},
     "nuid": "96e9062e-e75e-48ed-a916-2ddf9a95b142",
     "showTitle": false,
     "title": ""
    }
   },
   "outputs": [
    {
     "data": {
      "text/html": [
       "<style scoped>\n",
       "  .ansiout {\n",
       "    display: block;\n",
       "    unicode-bidi: embed;\n",
       "    white-space: pre-wrap;\n",
       "    word-wrap: break-word;\n",
       "    word-break: break-all;\n",
       "    font-family: \"Source Code Pro\", \"Menlo\", monospace;;\n",
       "    font-size: 13px;\n",
       "    color: #555;\n",
       "    margin-left: 4px;\n",
       "    line-height: 19px;\n",
       "  }\n",
       "</style>\n",
       "<div class=\"ansiout\">+-------------------+---+---+\n",
       "Survived_prediction|0.0|1.0|\n",
       "+-------------------+---+---+\n",
       "                  1| 29| 60|\n",
       "                  0|127| 14|\n",
       "+-------------------+---+---+\n",
       "\n",
       "</div>"
      ]
     },
     "metadata": {
      "application/vnd.databricks.v1+output": {
       "addedWidgets": {},
       "arguments": {},
       "data": "<div class=\"ansiout\">+-------------------+---+---+\n|Survived_prediction|0.0|1.0|\n+-------------------+---+---+\n|                  1| 29| 60|\n|                  0|127| 14|\n+-------------------+---+---+\n\n</div>",
       "datasetInfos": [],
       "metadata": {},
       "removedWidgets": [],
       "type": "html"
      }
     },
     "output_type": "display_data"
    }
   ],
   "source": [
    "dt.crosstab(\"Survived\", \"prediction\", ).show()"
   ]
  },
  {
   "cell_type": "code",
   "execution_count": 0,
   "metadata": {
    "application/vnd.databricks.v1+cell": {
     "inputWidgets": {},
     "nuid": "0c0e3cfd-621b-4845-a700-2e92022c11ad",
     "showTitle": false,
     "title": ""
    }
   },
   "outputs": [],
   "source": []
  }
 ],
 "metadata": {
  "application/vnd.databricks.v1+notebook": {
   "dashboards": [],
   "language": "python",
   "notebookMetadata": {
    "pythonIndentUnit": 2
   },
   "notebookName": "Model Titanic Data",
   "notebookOrigID": 953375033212919,
   "widgets": {}
  },
  "kernelspec": {
   "display_name": "Python 3",
   "language": "python",
   "name": "python3"
  },
  "language_info": {
   "codemirror_mode": {
    "name": "ipython",
    "version": 3
   },
   "file_extension": ".py",
   "mimetype": "text/x-python",
   "name": "python",
   "nbconvert_exporter": "python",
   "pygments_lexer": "ipython3",
   "version": "3.7.7"
  }
 },
 "nbformat": 4,
 "nbformat_minor": 1
}
